{
 "cells": [
  {
   "cell_type": "code",
   "execution_count": 1,
   "metadata": {},
   "outputs": [
    {
     "name": "stderr",
     "output_type": "stream",
     "text": [
      "/home/mila/l/leo.gagnon/latent_control/venv/lib/python3.10/site-packages/pl_bolts/__init__.py:11: FutureWarning: In the future `np.object` will be defined as the corresponding NumPy scalar.\n",
      "  if not hasattr(numpy, tp_name):\n",
      "/home/mila/l/leo.gagnon/latent_control/venv/lib/python3.10/site-packages/pl_bolts/__init__.py:11: FutureWarning: In the future `np.bool` will be defined as the corresponding NumPy scalar.\n",
      "  if not hasattr(numpy, tp_name):\n",
      "/home/mila/l/leo.gagnon/latent_control/venv/lib/python3.10/site-packages/pl_bolts/models/self_supervised/amdim/amdim_module.py:34: UnderReviewWarning: The feature generate_power_seq is currently marked under review. The compatibility with other Lightning projects is not guaranteed and API may change at any time. The API and functionality may change without warning in future releases. More details: https://lightning-bolts.readthedocs.io/en/latest/stability.html\n",
      "  \"lr_options\": generate_power_seq(LEARNING_RATE_CIFAR, 11),\n",
      "/home/mila/l/leo.gagnon/latent_control/venv/lib/python3.10/site-packages/pl_bolts/models/self_supervised/amdim/amdim_module.py:92: UnderReviewWarning: The feature FeatureMapContrastiveTask is currently marked under review. The compatibility with other Lightning projects is not guaranteed and API may change at any time. The API and functionality may change without warning in future releases. More details: https://lightning-bolts.readthedocs.io/en/latest/stability.html\n",
      "  contrastive_task: Union[FeatureMapContrastiveTask] = FeatureMapContrastiveTask(\"01, 02, 11\"),\n",
      "/home/mila/l/leo.gagnon/latent_control/venv/lib/python3.10/site-packages/pl_bolts/losses/self_supervised_learning.py:228: UnderReviewWarning: The feature AmdimNCELoss is currently marked under review. The compatibility with other Lightning projects is not guaranteed and API may change at any time. The API and functionality may change without warning in future releases. More details: https://lightning-bolts.readthedocs.io/en/latest/stability.html\n",
      "  self.nce_loss = AmdimNCELoss(tclip)\n"
     ]
    }
   ],
   "source": [
    "import sys\n",
    "sys.path.append('/home/mila/l/leo.gagnon/latent_control')\n",
    "\n",
    "%load_ext autoreload\n",
    "%autoreload 2\n",
    "from tasks.dsm_diffusion import DSMDiffusion\n",
    "from tasks.direct_post import DirectPosterior\n",
    "from tasks.metalearn import MetaLearningTask\n",
    "import torch\n",
    "import matplotlib.pyplot as plt\n",
    "from data.diffusion import LatentDiffusionDataset\n",
    "from torch2jax import j2t, t2j\n",
    "import jax.numpy as jnp\n",
    "import jax\n",
    "from jax.scipy.special import rel_entr\n",
    "from einops import repeat\n",
    "from tqdm import tqdm\n",
    "import random\n",
    "import torch\n",
    "import math\n",
    "import os"
   ]
  },
  {
   "cell_type": "code",
   "execution_count": 80,
   "metadata": {},
   "outputs": [
    {
     "name": "stderr",
     "output_type": "stream",
     "text": [
      "/home/mila/l/leo.gagnon/latent_control/venv/lib/python3.10/site-packages/lightning/pytorch/core/saving.py:191: Found keys that are in the model state dict but not in the checkpoint: ['seen_tokens', 'val_latents', 'train_latents']\n",
      "/home/mila/l/leo.gagnon/latent_control/venv/lib/python3.10/site-packages/lightning/pytorch/core/saving.py:191: Found keys that are in the model state dict but not in the checkpoint: ['seen_tokens', 'val_latents', 'train_latents']\n",
      "/home/mila/l/leo.gagnon/latent_control/venv/lib/python3.10/site-packages/lightning/pytorch/core/saving.py:191: Found keys that are in the model state dict but not in the checkpoint: ['full_data.base_task.seen_tokens', 'full_data.base_task.val_latents', 'full_data.base_task.train_latents', 'train_data.base_task.seen_tokens', 'train_data.base_task.val_latents', 'train_data.base_task.train_latents']\n",
      "/home/mila/l/leo.gagnon/latent_control/venv/lib/python3.10/site-packages/lightning/pytorch/core/saving.py:195: Found keys that are not in the model state dict but in the checkpoint: ['base_task.model.decoder.token_emb.emb.weight', 'base_task.model.decoder.pos_emb.scale', 'base_task.model.decoder.attn_layers.layers.0.0.0.gamma', 'base_task.model.decoder.attn_layers.layers.0.1.to_q.weight', 'base_task.model.decoder.attn_layers.layers.0.1.to_k.weight', 'base_task.model.decoder.attn_layers.layers.0.1.to_v.weight', 'base_task.model.decoder.attn_layers.layers.0.1.to_out.weight', 'base_task.model.decoder.attn_layers.layers.1.0.0.gamma', 'base_task.model.decoder.attn_layers.layers.1.1.ff.0.0.weight', 'base_task.model.decoder.attn_layers.layers.1.1.ff.0.0.bias', 'base_task.model.decoder.attn_layers.layers.1.1.ff.2.weight', 'base_task.model.decoder.attn_layers.layers.1.1.ff.2.bias', 'base_task.model.decoder.attn_layers.layers.2.0.0.gamma', 'base_task.model.decoder.attn_layers.layers.2.1.to_q.weight', 'base_task.model.decoder.attn_layers.layers.2.1.to_k.weight', 'base_task.model.decoder.attn_layers.layers.2.1.to_v.weight', 'base_task.model.decoder.attn_layers.layers.2.1.to_out.weight', 'base_task.model.decoder.attn_layers.layers.3.0.0.gamma', 'base_task.model.decoder.attn_layers.layers.3.1.ff.0.0.weight', 'base_task.model.decoder.attn_layers.layers.3.1.ff.0.0.bias', 'base_task.model.decoder.attn_layers.layers.3.1.ff.2.weight', 'base_task.model.decoder.attn_layers.layers.3.1.ff.2.bias', 'base_task.model.decoder.attn_layers.layers.4.0.0.gamma', 'base_task.model.decoder.attn_layers.layers.4.1.to_q.weight', 'base_task.model.decoder.attn_layers.layers.4.1.to_k.weight', 'base_task.model.decoder.attn_layers.layers.4.1.to_v.weight', 'base_task.model.decoder.attn_layers.layers.4.1.to_out.weight', 'base_task.model.decoder.attn_layers.layers.5.0.0.gamma', 'base_task.model.decoder.attn_layers.layers.5.1.ff.0.0.weight', 'base_task.model.decoder.attn_layers.layers.5.1.ff.0.0.bias', 'base_task.model.decoder.attn_layers.layers.5.1.ff.2.weight', 'base_task.model.decoder.attn_layers.layers.5.1.ff.2.bias', 'base_task.model.decoder.attn_layers.layers.6.0.0.gamma', 'base_task.model.decoder.attn_layers.layers.6.1.to_q.weight', 'base_task.model.decoder.attn_layers.layers.6.1.to_k.weight', 'base_task.model.decoder.attn_layers.layers.6.1.to_v.weight', 'base_task.model.decoder.attn_layers.layers.6.1.to_out.weight', 'base_task.model.decoder.attn_layers.layers.7.0.0.gamma', 'base_task.model.decoder.attn_layers.layers.7.1.ff.0.0.weight', 'base_task.model.decoder.attn_layers.layers.7.1.ff.0.0.bias', 'base_task.model.decoder.attn_layers.layers.7.1.ff.2.weight', 'base_task.model.decoder.attn_layers.layers.7.1.ff.2.bias', 'base_task.model.decoder.attn_layers.layers.8.0.0.gamma', 'base_task.model.decoder.attn_layers.layers.8.1.to_q.weight', 'base_task.model.decoder.attn_layers.layers.8.1.to_k.weight', 'base_task.model.decoder.attn_layers.layers.8.1.to_v.weight', 'base_task.model.decoder.attn_layers.layers.8.1.to_out.weight', 'base_task.model.decoder.attn_layers.layers.9.0.0.gamma', 'base_task.model.decoder.attn_layers.layers.9.1.ff.0.0.weight', 'base_task.model.decoder.attn_layers.layers.9.1.ff.0.0.bias', 'base_task.model.decoder.attn_layers.layers.9.1.ff.2.weight', 'base_task.model.decoder.attn_layers.layers.9.1.ff.2.bias', 'base_task.model.decoder.attn_layers.layers.10.0.0.gamma', 'base_task.model.decoder.attn_layers.layers.10.1.to_q.weight', 'base_task.model.decoder.attn_layers.layers.10.1.to_k.weight', 'base_task.model.decoder.attn_layers.layers.10.1.to_v.weight', 'base_task.model.decoder.attn_layers.layers.10.1.to_out.weight', 'base_task.model.decoder.attn_layers.layers.11.0.0.gamma', 'base_task.model.decoder.attn_layers.layers.11.1.ff.0.0.weight', 'base_task.model.decoder.attn_layers.layers.11.1.ff.0.0.bias', 'base_task.model.decoder.attn_layers.layers.11.1.ff.2.weight', 'base_task.model.decoder.attn_layers.layers.11.1.ff.2.bias', 'base_task.model.decoder.attn_layers.final_norm.gamma', 'base_task.model.decoder.to_logits.weight']\n"
     ]
    }
   ],
   "source": [
    "task = DirectPosterior.load_from_checkpoint(\n",
    "    \"/network/scratch/l/leo.gagnon/latent_control_log/checkpoints/vva2z10q/last.ckpt\", strict=False\n",
    ")\n",
    "task.cuda();"
   ]
  },
  {
   "cell_type": "code",
   "execution_count": 81,
   "metadata": {},
   "outputs": [],
   "source": [
    "task.full_data.cfg.context_length = [10,10]"
   ]
  },
  {
   "cell_type": "code",
   "execution_count": 100,
   "metadata": {},
   "outputs": [
    {
     "name": "stderr",
     "output_type": "stream",
     "text": [
      "/home/mila/l/leo.gagnon/latent_control/data/hmm.py:599: FutureWarning: None encountered in jnp.array(); this is currently treated as NaN. In the future this will result in an error.\n",
      "  intv_envs = jnp.array(intv_envs)\n"
     ]
    }
   ],
   "source": [
    "raw_latent, cond_input_ids, cond_ignore_mask, cond_tokens, latent = task.full_data.__getitems__(torch.randint(0, len(task.full_data), (100,))).values()"
   ]
  },
  {
   "cell_type": "code",
   "execution_count": 101,
   "metadata": {},
   "outputs": [],
   "source": [
    "logits = task.forward(cond_input_ids=cond_input_ids, cond_tokens=cond_tokens, cond_mask=torch.logical_not(cond_ignore_mask))"
   ]
  },
  {
   "cell_type": "code",
   "execution_count": 102,
   "metadata": {},
   "outputs": [],
   "source": [
    "i2l = j2t(task.full_data.base_task.full_data.index_to_latent)"
   ]
  },
  {
   "cell_type": "code",
   "execution_count": 103,
   "metadata": {},
   "outputs": [],
   "source": [
    "probs = [torch.nn.functional.softmax(l,-1) for l in logits]\n",
    "probs = [math.prod([probs[i][:,i2l[j,i]] for i in range(len(probs))]) for j in range(len(i2l))]\n",
    "probs = t2j(torch.stack(probs,-1))"
   ]
  },
  {
   "cell_type": "code",
   "execution_count": 109,
   "metadata": {},
   "outputs": [
    {
     "name": "stderr",
     "output_type": "stream",
     "text": [
      "100%|██████████| 100/100 [00:03<00:00, 25.04it/s]\n"
     ]
    }
   ],
   "source": [
    "oracle_post = []\n",
    "for seq in tqdm(cond_input_ids):\n",
    "    oracle = task.full_data.base_task.full_data.bayesian_oracle(jnp.arange(len(i2l)), jnp.array(seq.tolist()))\n",
    "    oracle_post += [jnp.exp(oracle['log_alpha_post'][-1])]\n",
    "oracle_post = jnp.stack(oracle_post)"
   ]
  },
  {
   "cell_type": "code",
   "execution_count": 110,
   "metadata": {},
   "outputs": [],
   "source": [
    "probs_ = probs + 1e-8\n",
    "probs_ = probs_ / probs_.sum(-1, keepdims=True)\n",
    "f_kl = jax.vmap(rel_entr)(oracle_post, probs_).sum(-1)\n"
   ]
  },
  {
   "cell_type": "code",
   "execution_count": 111,
   "metadata": {},
   "outputs": [],
   "source": [
    "oracle_post_ = oracle_post + 1e-8\n",
    "oracle_post_ = oracle_post_ / oracle_post_.sum(-1, keepdims=True)\n",
    "b_kl = jax.vmap(rel_entr)(probs, oracle_post_).sum(-1)"
   ]
  },
  {
   "cell_type": "code",
   "execution_count": 112,
   "metadata": {},
   "outputs": [
    {
     "name": "stdout",
     "output_type": "stream",
     "text": [
      "ForwardKL : 5.687078952789307\n",
      "BackwardKL: 10.463709831237793\n"
     ]
    }
   ],
   "source": [
    "print(f'ForwardKL : {f_kl.mean()}\\nBackwardKL: {b_kl.mean()}')"
   ]
  },
  {
   "cell_type": "code",
   "execution_count": 113,
   "metadata": {},
   "outputs": [],
   "source": [
    "latent_pred = [l.argmax(-1) for l in logits]\n",
    "latent_pred = torch.stack(latent_pred,-1)"
   ]
  },
  {
   "cell_type": "code",
   "execution_count": 116,
   "metadata": {},
   "outputs": [
    {
     "data": {
      "text/plain": [
       "(tensor([1, 1, 0, 0, 1, 0, 0, 0, 1, 0, 0, 1], device='cuda:0'),\n",
       " tensor([1, 1, 0, 1, 1, 0, 1, 0, 1, 0, 0, 1], device='cuda:0'))"
      ]
     },
     "execution_count": 116,
     "metadata": {},
     "output_type": "execute_result"
    }
   ],
   "source": [
    "latent_pred[0], raw_latent[0]"
   ]
  },
  {
   "cell_type": "code",
   "execution_count": 117,
   "metadata": {},
   "outputs": [
    {
     "data": {
      "text/plain": [
       "Array(0.740162, dtype=float32)"
      ]
     },
     "execution_count": 117,
     "metadata": {},
     "output_type": "execute_result"
    }
   ],
   "source": [
    "oracle_post[0].max()"
   ]
  },
  {
   "cell_type": "markdown",
   "metadata": {},
   "source": [
    "# Run the whole process for N_RUNS"
   ]
  },
  {
   "cell_type": "code",
   "execution_count": 107,
   "metadata": {},
   "outputs": [
    {
     "data": {
      "text/plain": [
       "Array(0.6673619, dtype=float32)"
      ]
     },
     "execution_count": 107,
     "metadata": {},
     "output_type": "execute_result"
    }
   ],
   "source": [
    "oracle_post[0].max()"
   ]
  },
  {
   "cell_type": "code",
   "execution_count": null,
   "metadata": {},
   "outputs": [],
   "source": [
    "N_RUNS = 50\n",
    "\n",
    "prefix_len = 10\n",
    "pp_explicit = []\n",
    "pp_implicit = []\n",
    "\n",
    "\n",
    "for i in tqdm(range(N_RUNS)):\n",
    "    seq = task.base_task.full_data[random.randint(0,len(dataset))]['input_ids'][0]\n",
    "    prefix, suffix = torch.split(seq, [prefix_len, len(seq)-prefix_len], 0)\n",
    "\n",
    "    z_t = task.diffusion_prior.sample(1024, cond=prefix[None], cond_mask=torch.ones_like(prefix, dtype=bool)[None], cls_free_guidance=1.0)\n",
    "    if task.diffusion_prior.cfg.normalize_latent:\n",
    "        z_t = task.diffusion_prior.unnormalize_latent(z_t)\n",
    "\n",
    "    \n",
    "    gru_out_full = task.base_task.model.decoder(seq)\n",
    "    pp_full = t2j(torch.softmax(gru_out_full[:,:50],-1))\n",
    "\n",
    "    oracle = task.base_task.full_data.bayesian_oracle(jnp.arange(len(dataset)), t2j(seq))\n",
    "    oracle_pp = oracle['post_pred'][1:]\n",
    "\n",
    "    next_token_pp = torch.softmax(task.base_task.model.decoder.lm_head(z_t[:,-1])[:,:50],-1)\n",
    "    next_token_pp = t2j(next_token_pp)\n",
    "\n",
    "    next_token_kl_cond = rel_entr(oracle_pp[len(prefix)-1], next_token_pp.mean(0)).sum()\n",
    "    next_token_kl_full = rel_entr(oracle_pp[len(prefix)-1], pp_full[len(prefix)-1]).sum()\n",
    "    \n",
    "    pp_explicit.append(next_token_kl_cond)\n",
    "    pp_implicit.append(next_token_kl_full)"
   ]
  },
  {
   "cell_type": "code",
   "execution_count": null,
   "metadata": {},
   "outputs": [],
   "source": [
    "pp_explicit_ = jnp.stack(pp_explicit)\n",
    "pp_implicit_ = jnp.stack(pp_implicit)"
   ]
  },
  {
   "cell_type": "code",
   "execution_count": null,
   "metadata": {},
   "outputs": [
    {
     "data": {
      "text/plain": [
       "Array(0.4530168, dtype=float32)"
      ]
     },
     "execution_count": 70,
     "metadata": {},
     "output_type": "execute_result"
    }
   ],
   "source": [
    "pp_explicit_.std(0)"
   ]
  },
  {
   "cell_type": "code",
   "execution_count": null,
   "metadata": {},
   "outputs": [
    {
     "data": {
      "text/plain": [
       "Array(0.40835232, dtype=float32)"
      ]
     },
     "execution_count": 71,
     "metadata": {},
     "output_type": "execute_result"
    }
   ],
   "source": [
    "pp_implicit_.std()"
   ]
  },
  {
   "cell_type": "code",
   "execution_count": null,
   "metadata": {},
   "outputs": [
    {
     "data": {
      "text/plain": [
       "Text(0, 0.5, 'KL to oracle')"
      ]
     },
     "execution_count": 74,
     "metadata": {},
     "output_type": "execute_result"
    },
    {
     "data": {
      "image/png": "[encoded data removed]",
      "text/plain": [
       "<Figure size 640x480 with 1 Axes>"
      ]
     },
     "metadata": {},
     "output_type": "display_data"
    }
   ],
   "source": [
    "plt.bar(['Explicit', 'Implicit'], [pp_explicit_.mean(), pp_implicit_.mean()])\n",
    "plt.errorbar(['Explicit', 'Implicit'], [pp_explicit_.mean(0), pp_implicit_.mean(0)], yerr=[pp_explicit_.std(0), pp_implicit_.std(0)], fmt='o', color='r')\n",
    "plt.ylabel('KL to oracle')"
   ]
  }
 ],
 "metadata": {
  "kernelspec": {
   "display_name": "venv",
   "language": "python",
   "name": "python3"
  },
  "language_info": {
   "codemirror_mode": {
    "name": "ipython",
    "version": 3
   },
   "file_extension": ".py",
   "mimetype": "text/x-python",
   "name": "python",
   "nbconvert_exporter": "python",
   "pygments_lexer": "ipython3",
   "version": "3.10.11"
  }
 },
 "nbformat": 4,
 "nbformat_minor": 2
}
