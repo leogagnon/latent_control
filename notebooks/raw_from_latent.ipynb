{
 "cells": [
  {
   "cell_type": "code",
   "execution_count": 2,
   "metadata": {},
   "outputs": [
    {
     "name": "stdout",
     "output_type": "stream",
     "text": [
      "The autoreload extension is already loaded. To reload it, use:\n",
      "  %reload_ext autoreload\n"
     ]
    }
   ],
   "source": [
    "import sys\n",
    "sys.path.append('../')\n",
    "\n",
    "import os\n",
    "os.environ[\"SCRATCH\"] = \"/network/scratch/l/leo.gagnon\"\n",
    "\n",
    "from dataclasses import replace\n",
    "import lightning as L\n",
    "\n",
    "%load_ext autoreload\n",
    "%autoreload 2\n",
    "\n",
    "from data.diffusion import GRUDiffusionDataset, GRUDiffusionDatasetConfig\n",
    "from tasks.raw_from_latent import RawFromLatent, RawFromLatentConfig"
   ]
  },
  {
   "cell_type": "code",
   "execution_count": 3,
   "metadata": {},
   "outputs": [],
   "source": [
    "cfg = RawFromLatentConfig(\n",
    "    pretrained_id=\"turo071i\",\n",
    "    dataset=GRUDiffusionDatasetConfig(\n",
    "        context_length=(200, 200),\n",
    "        pretrained_embedding=True,\n",
    "        pretrained_embedding_id=\"turo071i\",\n",
    "    ),\n",
    ")\n",
    "task = RawFromLatent(cfg=cfg)\n",
    "save_path = os.path.join(\n",
    "    os.environ[\"SCRATCH\"],\n",
    "    \"latent_control_log/raw_from_latent_classifier_checkpoints/model.ckpt\",\n",
    ")"
   ]
  },
  {
   "cell_type": "code",
   "execution_count": 4,
   "metadata": {},
   "outputs": [
    {
     "name": "stderr",
     "output_type": "stream",
     "text": [
      "/home/mila/e/eric.elmoznino/latent_control/venv/lib/python3.10/site-packages/lightning/fabric/plugins/environments/slurm.py:204: The `srun` command is available on your system but is not used. HINT: If your intention is to run Lightning on SLURM, prepend your python command with `srun` like so: srun python /home/mila/e/eric.elmoznino/latent_control/venv/lib/ ...\n",
      "GPU available: True (cuda), used: True\n",
      "TPU available: False, using: 0 TPU cores\n",
      "HPU available: False, using: 0 HPUs\n",
      "LOCAL_RANK: 0 - CUDA_VISIBLE_DEVICES: [0]\n",
      "\n",
      "  | Name     | Type       | Params | Mode \n",
      "------------------------------------------------\n",
      "0 | out_proj | ModuleList | 83.0 K | train\n",
      "------------------------------------------------\n",
      "83.0 K    Trainable params\n",
      "0         Non-trainable params\n",
      "83.0 K    Total params\n",
      "0.332     Total estimated model params size (MB)\n",
      "13        Modules in train mode\n",
      "0         Modules in eval mode\n",
      "/home/mila/e/eric.elmoznino/latent_control/venv/lib/python3.10/site-packages/lightning/pytorch/loops/fit_loop.py:310: The number of training batches (24) is smaller than the logging interval Trainer(log_every_n_steps=50). Set a lower value for log_every_n_steps if you want to see logs for the training epoch.\n"
     ]
    },
    {
     "data": {
      "application/vnd.jupyter.widget-view+json": {
       "model_id": "2e8bb7c7d2d0430fbe1d4c1d214d8868",
       "version_major": 2,
       "version_minor": 0
      },
      "text/plain": [
       "Training: |          | 0/? [00:00<?, ?it/s]"
      ]
     },
     "metadata": {},
     "output_type": "display_data"
    },
    {
     "name": "stderr",
     "output_type": "stream",
     "text": [
      "/home/mila/e/eric.elmoznino/latent_control/notebooks/../data/hmm.py:601: FutureWarning: None encountered in jnp.array(); this is currently treated as NaN. In the future this will result in an error.\n",
      "  intv_envs = jnp.array(intv_envs)\n",
      "/home/mila/e/eric.elmoznino/latent_control/venv/lib/python3.10/site-packages/jax/_src/numpy/lax_numpy.py:4252: FutureWarning: None encountered in jnp.array(); this is currently treated as NaN. In the future this will result in an error.\n",
      "  return array(a, dtype=dtype, copy=bool(copy), order=order, device=device)\n",
      "/home/mila/e/eric.elmoznino/latent_control/notebooks/../data/hmm.py:601: FutureWarning: None encountered in jnp.array(); this is currently treated as NaN. In the future this will result in an error.\n",
      "  intv_envs = jnp.array(intv_envs)\n",
      "/home/mila/e/eric.elmoznino/latent_control/venv/lib/python3.10/site-packages/lightning/pytorch/loops/fit_loop.py:310: The number of training batches (24) is smaller than the logging interval Trainer(log_every_n_steps=50). Set a lower value for log_every_n_steps if you want to see logs for the training epoch.\n",
      "`Trainer.fit` stopped: `max_steps=1000` reached.\n"
     ]
    }
   ],
   "source": [
    "trainer = L.Trainer(\n",
    "    max_steps=1000,\n",
    "    accelerator=\"gpu\",\n",
    "    enable_checkpointing=False,\n",
    "    val_check_interval=None,\n",
    "    reload_dataloaders_every_n_epochs=1,\n",
    "    check_val_every_n_epoch=None,\n",
    ")\n",
    "trainer.fit(task)\n",
    "trainer.save_checkpoint(save_path)"
   ]
  },
  {
   "cell_type": "code",
   "execution_count": 5,
   "metadata": {},
   "outputs": [],
   "source": [
    "task = RawFromLatent.load_from_checkpoint(save_path, cfg=cfg)"
   ]
  }
 ],
 "metadata": {
  "kernelspec": {
   "display_name": "venv",
   "language": "python",
   "name": "python3"
  },
  "language_info": {
   "codemirror_mode": {
    "name": "ipython",
    "version": 3
   },
   "file_extension": ".py",
   "mimetype": "text/x-python",
   "name": "python",
   "nbconvert_exporter": "python",
   "pygments_lexer": "ipython3",
   "version": "3.10.11"
  }
 },
 "nbformat": 4,
 "nbformat_minor": 2
}
