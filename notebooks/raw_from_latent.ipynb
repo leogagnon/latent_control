{
 "cells": [
  {
   "cell_type": "code",
   "execution_count": 2,
   "metadata": {},
   "outputs": [],
   "source": [
    "import sys\n",
    "sys.path.append('../')\n",
    "\n",
    "import os\n",
    "os.environ[\"SCRATCH\"] = \"/network/scratch/l/leo.gagnon\"\n",
    "\n",
    "import lightning as L\n",
    "\n",
    "%load_ext autoreload\n",
    "%autoreload 2\n",
    "\n",
    "from data.diffusion import GRUDiffusionDatasetConfig\n",
    "from tasks.raw_from_latent import RawFromLatent, RawFromLatentConfig"
   ]
  },
  {
   "cell_type": "code",
   "execution_count": null,
   "metadata": {},
   "outputs": [],
   "source": [
    "task = RawFromLatent(\n",
    "    cfg=RawFromLatentConfig(\n",
    "        pretrained_id=\"turo071i\",\n",
    "        dataset=GRUDiffusionDatasetConfig(\n",
    "            context_length=(200, 200),\n",
    "            pretrained_embedding=True,\n",
    "            pretrained_embedding_id=\"turo071i\",\n",
    "        ),\n",
    "    )\n",
    ")"
   ]
  },
  {
   "cell_type": "code",
   "execution_count": null,
   "metadata": {},
   "outputs": [
    {
     "name": "stderr",
     "output_type": "stream",
     "text": [
      "LOCAL_RANK: 0 - CUDA_VISIBLE_DEVICES: [0]\n",
      "\n",
      "  | Name     | Type       | Params | Mode \n",
      "------------------------------------------------\n",
      "0 | out_proj | ModuleList | 1.6 M  | train\n",
      "------------------------------------------------\n",
      "1.6 M     Trainable params\n",
      "0         Non-trainable params\n",
      "1.6 M     Total params\n",
      "6.367     Total estimated model params size (MB)\n",
      "3         Modules in train mode\n",
      "0         Modules in eval mode\n",
      "/home/mila/e/eric.elmoznino/latent_control/venv/lib/python3.10/site-packages/lightning/pytorch/loops/fit_loop.py:310: The number of training batches (24) is smaller than the logging interval Trainer(log_every_n_steps=50). Set a lower value for log_every_n_steps if you want to see logs for the training epoch.\n"
     ]
    },
    {
     "data": {
      "application/vnd.jupyter.widget-view+json": {
       "model_id": "f4d377ff140047fb877cc60b9e94ef15",
       "version_major": 2,
       "version_minor": 0
      },
      "text/plain": [
       "Training: |          | 0/? [00:00<?, ?it/s]"
      ]
     },
     "metadata": {},
     "output_type": "display_data"
    },
    {
     "name": "stderr",
     "output_type": "stream",
     "text": [
      "/home/mila/e/eric.elmoznino/latent_control/notebooks/../data/hmm.py:601: FutureWarning: None encountered in jnp.array(); this is currently treated as NaN. In the future this will result in an error.\n",
      "  intv_envs = jnp.array(intv_envs)\n",
      "/home/mila/e/eric.elmoznino/latent_control/venv/lib/python3.10/site-packages/jax/_src/numpy/lax_numpy.py:4252: FutureWarning: None encountered in jnp.array(); this is currently treated as NaN. In the future this will result in an error.\n",
      "  return array(a, dtype=dtype, copy=bool(copy), order=order, device=device)\n",
      "/home/mila/e/eric.elmoznino/latent_control/notebooks/../data/hmm.py:601: FutureWarning: None encountered in jnp.array(); this is currently treated as NaN. In the future this will result in an error.\n",
      "  intv_envs = jnp.array(intv_envs)\n",
      "/home/mila/e/eric.elmoznino/latent_control/venv/lib/python3.10/site-packages/lightning/pytorch/loops/fit_loop.py:310: The number of training batches (24) is smaller than the logging interval Trainer(log_every_n_steps=50). Set a lower value for log_every_n_steps if you want to see logs for the training epoch.\n",
      "`Trainer.fit` stopped: `max_steps=1000` reached.\n"
     ]
    }
   ],
   "source": [
    "trainer = L.Trainer(\n",
    "    max_steps=1000,\n",
    "    accelerator=\"gpu\",\n",
    "    enable_checkpointing=False,\n",
    "    val_check_interval=None,\n",
    "    reload_dataloaders_every_n_epochs=1,\n",
    "    check_val_every_n_epoch=None,\n",
    ")\n",
    "trainer.fit(task)\n",
    "save_path = os.path.join(\n",
    "    os.environ[\"SCRATCH\"],\n",
    "    \"latent_control_log/raw_from_latent_classifier_checkpoints/model.ckpt\",\n",
    ")\n",
    "trainer.save_checkpoint(save_path)"
   ]
  }
 ],
 "metadata": {
  "kernelspec": {
   "display_name": "venv",
   "language": "python",
   "name": "python3"
  },
  "language_info": {
   "codemirror_mode": {
    "name": "ipython",
    "version": 3
   },
   "file_extension": ".py",
   "mimetype": "text/x-python",
   "name": "python",
   "nbconvert_exporter": "python",
   "pygments_lexer": "ipython3",
   "version": "3.10.11"
  }
 },
 "nbformat": 4,
 "nbformat_minor": 2
}
