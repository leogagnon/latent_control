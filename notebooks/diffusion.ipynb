{
 "cells": [
  {
   "cell_type": "code",
   "execution_count": 1,
   "metadata": {},
   "outputs": [
    {
     "name": "stderr",
     "output_type": "stream",
     "text": [
      "/home/mila/l/leo.gagnon/latent_control/venv/lib/python3.10/site-packages/pl_bolts/__init__.py:11: FutureWarning: In the future `np.object` will be defined as the corresponding NumPy scalar.\n",
      "  if not hasattr(numpy, tp_name):\n",
      "/home/mila/l/leo.gagnon/latent_control/venv/lib/python3.10/site-packages/pl_bolts/__init__.py:11: FutureWarning: In the future `np.bool` will be defined as the corresponding NumPy scalar.\n",
      "  if not hasattr(numpy, tp_name):\n",
      "/home/mila/l/leo.gagnon/latent_control/venv/lib/python3.10/site-packages/pl_bolts/models/self_supervised/amdim/amdim_module.py:34: UnderReviewWarning: The feature generate_power_seq is currently marked under review. The compatibility with other Lightning projects is not guaranteed and API may change at any time. The API and functionality may change without warning in future releases. More details: https://lightning-bolts.readthedocs.io/en/latest/stability.html\n",
      "  \"lr_options\": generate_power_seq(LEARNING_RATE_CIFAR, 11),\n",
      "/home/mila/l/leo.gagnon/latent_control/venv/lib/python3.10/site-packages/pl_bolts/models/self_supervised/amdim/amdim_module.py:92: UnderReviewWarning: The feature FeatureMapContrastiveTask is currently marked under review. The compatibility with other Lightning projects is not guaranteed and API may change at any time. The API and functionality may change without warning in future releases. More details: https://lightning-bolts.readthedocs.io/en/latest/stability.html\n",
      "  contrastive_task: Union[FeatureMapContrastiveTask] = FeatureMapContrastiveTask(\"01, 02, 11\"),\n",
      "/home/mila/l/leo.gagnon/latent_control/venv/lib/python3.10/site-packages/pl_bolts/losses/self_supervised_learning.py:228: UnderReviewWarning: The feature AmdimNCELoss is currently marked under review. The compatibility with other Lightning projects is not guaranteed and API may change at any time. The API and functionality may change without warning in future releases. More details: https://lightning-bolts.readthedocs.io/en/latest/stability.html\n",
      "  self.nce_loss = AmdimNCELoss(tclip)\n"
     ]
    }
   ],
   "source": [
    "import sys\n",
    "sys.path.append('/home/mila/l/leo.gagnon/latent_control')\n",
    "\n",
    "%load_ext autoreload\n",
    "%autoreload 2\n",
    "from lightning_modules.diffusion_prior import DiffusionPriorTask\n",
    "import torch\n",
    "import matplotlib.pyplot as plt\n",
    "from data.diffusion import LatentDiffusionDataset\n",
    "from torch2jax import j2t, t2j\n",
    "import jax.numpy as jnp\n",
    "import jax\n",
    "from jax.scipy.special import rel_entr"
   ]
  },
  {
   "cell_type": "code",
   "execution_count": 69,
   "metadata": {},
   "outputs": [
    {
     "name": "stdout",
     "output_type": "stream",
     "text": [
      "Loaded dataset : (11288/1000)\n",
      "Loaded checkpoing : last.ckpt\n",
      "Loaded checkpoing : last.ckpt\n"
     ]
    }
   ],
   "source": [
    "task = DiffusionPriorTask('q0gr8o99')\n",
    "task.cuda();"
   ]
  },
  {
   "cell_type": "code",
   "execution_count": 70,
   "metadata": {},
   "outputs": [],
   "source": [
    "dataset = task.train_data.dataset \n",
    "dataset: LatentDiffusionDataset"
   ]
  },
  {
   "cell_type": "code",
   "execution_count": 71,
   "metadata": {},
   "outputs": [
    {
     "name": "stderr",
     "output_type": "stream",
     "text": [
      "/home/mila/l/leo.gagnon/latent_control/data/hmm.py:608: FutureWarning: None encountered in jnp.array(); this is currently treated as NaN. In the future this will result in an error.\n",
      "  intv_envs = jnp.array(intv_envs)\n"
     ]
    }
   ],
   "source": [
    "raw_latent, cond_input_ids, cond_ignore_mask, cond_tokens, latent = dataset[626].values()"
   ]
  },
  {
   "cell_type": "code",
   "execution_count": 72,
   "metadata": {},
   "outputs": [
    {
     "data": {
      "text/plain": [
       "torch.Size([1, 50])"
      ]
     },
     "execution_count": 72,
     "metadata": {},
     "output_type": "execute_result"
    }
   ],
   "source": [
    "cond_input_ids.shape"
   ]
  },
  {
   "cell_type": "code",
   "execution_count": 102,
   "metadata": {},
   "outputs": [],
   "source": [
    "xd = 15\n",
    "cond_mask = torch.BoolTensor([True]*xd + [False]*(50-xd))[None].cuda()"
   ]
  },
  {
   "cell_type": "code",
   "execution_count": 103,
   "metadata": {},
   "outputs": [],
   "source": [
    "task.diffusion_prior.cfg.sampler = 'ddpm' # ddpm, dpmpp, ddim\n",
    "task.diffusion_prior.cfg.sampling_timesteps=250"
   ]
  },
  {
   "cell_type": "code",
   "execution_count": 104,
   "metadata": {},
   "outputs": [
    {
     "data": {
      "application/vnd.jupyter.widget-view+json": {
       "model_id": "dce5dbd9726a413cbe7f935dbcd547bf",
       "version_major": 2,
       "version_minor": 0
      },
      "text/plain": [
       "sampling loop time step:   0%|          | 0/250 [00:00<?, ?it/s]"
      ]
     },
     "metadata": {},
     "output_type": "display_data"
    }
   ],
   "source": [
    "z_t = task.diffusion_prior.sample(512, cond=cond_tokens, cond_mask=cond_mask, cls_free_guidance=1.5)\n",
    "if task.diffusion_prior.cfg.normalize_latent:\n",
    "    z_t = task.diffusion_prior.unnormalize_latent(z_t)"
   ]
  },
  {
   "cell_type": "code",
   "execution_count": 161,
   "metadata": {},
   "outputs": [],
   "source": [
    "seq = cond_input_ids[0]"
   ]
  },
  {
   "cell_type": "code",
   "execution_count": 162,
   "metadata": {},
   "outputs": [],
   "source": [
    "oracle = task.base_task.full_data.bayesian_oracle(jnp.arange(len(task.base_task.full_data)), t2j(seq))"
   ]
  },
  {
   "cell_type": "code",
   "execution_count": 163,
   "metadata": {},
   "outputs": [],
   "source": [
    "model_out = torch.nn.functional.softmax(task.base_task.model.decoder(seq)[-1,:-1], 0)"
   ]
  },
  {
   "cell_type": "code",
   "execution_count": 164,
   "metadata": {},
   "outputs": [],
   "source": [
    "model_out = model_out.round(decimals=2).cpu()"
   ]
  },
  {
   "cell_type": "code",
   "execution_count": 165,
   "metadata": {},
   "outputs": [],
   "source": [
    "oracle_out = j2t(oracle['post_pred'][-1].round(2)).cpu()"
   ]
  },
  {
   "cell_type": "code",
   "execution_count": 166,
   "metadata": {},
   "outputs": [],
   "source": [
    "decoded_out = torch.nn.functional.softmax(task.base_task.model.decoder.lm_head(z_t[:,-1])[:,:-1],-1)"
   ]
  },
  {
   "cell_type": "code",
   "execution_count": 167,
   "metadata": {},
   "outputs": [
    {
     "data": {
      "text/plain": [
       "tensor([0.0000, 0.0400, 0.0000, 0.0200, 0.0000, 0.0300, 0.0200, 0.0000, 0.0200,\n",
       "        0.3300, 0.0000, 0.0200, 0.0000, 0.0000, 0.0100, 0.0000, 0.0100, 0.0000,\n",
       "        0.0100, 0.0000, 0.0100, 0.0000, 0.0000, 0.0100, 0.0200, 0.0000, 0.1200,\n",
       "        0.0000, 0.0400, 0.0300, 0.0100, 0.0000, 0.0000, 0.0000, 0.0000, 0.0000,\n",
       "        0.0000, 0.0100, 0.0000, 0.0100, 0.0200, 0.0300, 0.0000, 0.0000, 0.0000,\n",
       "        0.0000, 0.0000, 0.0300, 0.0200, 0.1300])"
      ]
     },
     "execution_count": 167,
     "metadata": {},
     "output_type": "execute_result"
    }
   ],
   "source": [
    "decoded_out.mean(0).round(decimals=2).cpu()"
   ]
  },
  {
   "cell_type": "code",
   "execution_count": 173,
   "metadata": {},
   "outputs": [
    {
     "data": {
      "text/plain": [
       "[<matplotlib.lines.Line2D at 0x7f2aa2496020>]"
      ]
     },
     "execution_count": 173,
     "metadata": {},
     "output_type": "execute_result"
    },
    {
     "data": {
      "image/png": "[encoded data removed]",
      "text/plain": [
       "<Figure size 640x480 with 1 Axes>"
      ]
     },
     "metadata": {},
     "output_type": "display_data"
    }
   ],
   "source": [
    "plt.plot(decoded_out[4].round(decimals=2).cpu(), label='Explicit')\n"
   ]
  },
  {
   "cell_type": "code",
   "execution_count": 168,
   "metadata": {},
   "outputs": [
    {
     "data": {
      "text/plain": [
       "<matplotlib.legend.Legend at 0x7f2aa2a1b730>"
      ]
     },
     "execution_count": 168,
     "metadata": {},
     "output_type": "execute_result"
    },
    {
     "data": {
      "image/png": "[encoded data removed]",
      "text/plain": [
       "<Figure size 640x480 with 1 Axes>"
      ]
     },
     "metadata": {},
     "output_type": "display_data"
    }
   ],
   "source": [
    "plt.plot(oracle_out, label='Oracle')\n",
    "plt.plot(model_out, label='Implicit')\n",
    "plt.plot(decoded_out.mean(0).round(decimals=2).cpu(), label='Explicit')\n",
    "plt.legend()"
   ]
  },
  {
   "cell_type": "code",
   "execution_count": 105,
   "metadata": {},
   "outputs": [],
   "source": [
    "decoded_task_latent = [\n",
    "    torch.Tensor(\n",
    "        [\n",
    "            (latent_embds.weight @ sampled_latent.T).argmax()\n",
    "            for latent_embds in dataset.known_encoder.latent_embedding\n",
    "        ]\n",
    "    )\n",
    "    for sampled_latent in z_t\n",
    "]\n",
    "decoded_task_latent = torch.stack(decoded_task_latent, 0)"
   ]
  },
  {
   "cell_type": "code",
   "execution_count": 106,
   "metadata": {},
   "outputs": [],
   "source": [
    "decoded_task_id = jnp.stack(\n",
    "    [\n",
    "        (\n",
    "            task.base_task.full_data.index_to_latent\n",
    "            == t2j(decoded_task_latent[i])\n",
    "        )\n",
    "        .all(-1)\n",
    "        .argmax()\n",
    "        for i in range(len(decoded_task_latent))\n",
    "    ]\n",
    ")"
   ]
  },
  {
   "cell_type": "code",
   "execution_count": 107,
   "metadata": {},
   "outputs": [],
   "source": [
    "empirical_dist = jnp.bincount(decoded_task_id, minlength=len(task.base_task.full_data))\n",
    "empirical_dist = empirical_dist/empirical_dist.sum()"
   ]
  },
  {
   "cell_type": "code",
   "execution_count": 108,
   "metadata": {},
   "outputs": [],
   "source": [
    "oracle_dist = task.base_task.full_data.bayesian_oracle(\n",
    "    jnp.arange(len(task.base_task.full_data)),\n",
    "    t2j(cond_input_ids[0]),\n",
    ")['log_alpha_post']"
   ]
  },
  {
   "cell_type": "code",
   "execution_count": 114,
   "metadata": {},
   "outputs": [
    {
     "data": {
      "text/plain": [
       "Array([[0, 1, 0, 0, 1, 0, 1, 0, 0, 0, 0, 2],\n",
       "       [0, 0, 0, 1, 1, 0, 1, 0, 0, 1, 0, 2],\n",
       "       [0, 1, 0, 1, 1, 0, 1, 0, 0, 0, 0, 2],\n",
       "       [0, 0, 0, 0, 1, 0, 1, 0, 0, 0, 0, 2],\n",
       "       [0, 0, 0, 1, 1, 0, 1, 0, 0, 0, 0, 2]], dtype=int16)"
      ]
     },
     "execution_count": 114,
     "metadata": {},
     "output_type": "execute_result"
    }
   ],
   "source": [
    "task.base_task.full_data.index_to_latent[empirical_dist.argsort()[-5:]]"
   ]
  },
  {
   "cell_type": "code",
   "execution_count": 110,
   "metadata": {},
   "outputs": [
    {
     "name": "stdout",
     "output_type": "stream",
     "text": [
      "HMM [0 0 0 0 0 0 1 0 0 0 0 2], #50  : 0.017578125\n",
      "HMM [0 0 0 0 0 0 1 1 0 0 0 2], #74  : 0.001953125\n",
      "HMM [0 0 0 0 0 1 0 0 0 0 0 1], #97  : 0.001953125\n",
      "HMM [0 0 0 0 0 1 0 0 0 0 0 2], #98  : 0.001953125\n",
      "HMM [0 0 0 0 1 0 0 0 0 0 0 2], #194  : 0.001953125\n",
      "HMM [0 0 0 0 1 0 1 0 0 0 0 0], #240  : 0.001953125\n",
      "HMM [0 0 0 0 1 0 1 0 0 0 0 1], #241  : 0.009765625\n",
      "HMM [0 0 0 0 1 0 1 0 0 0 0 2], #242  : 0.27734375\n",
      "HMM [0 0 0 0 1 0 1 0 0 0 1 2], #245  : 0.001953125\n",
      "HMM [0 0 0 0 1 0 1 0 0 1 0 2], #248  : 0.0234375\n",
      "HMM [0 0 0 0 1 0 1 0 1 0 0 2], #254  : 0.005859375\n",
      "HMM [0 0 0 0 1 0 1 0 1 1 0 2], #260  : 0.001953125\n",
      "HMM [0 0 0 0 1 0 1 1 0 0 0 0], #264  : 0.001953125\n",
      "HMM [0 0 0 0 1 0 1 1 0 0 0 2], #266  : 0.01953125\n",
      "HMM [0 0 0 0 1 0 1 1 0 1 0 2], #272  : 0.001953125\n",
      "HMM [0 0 0 0 1 1 0 0 0 0 0 2], #290  : 0.001953125\n",
      "HMM [0 0 0 0 1 1 0 0 1 1 0 2], #308  : 0.001953125\n",
      "HMM [0 0 0 0 1 1 0 1 0 1 0 2], #320  : 0.001953125\n",
      "HMM [0 0 0 0 1 1 1 0 0 0 0 2], #338  : 0.0078125\n",
      "HMM [0 0 0 1 0 0 0 0 0 0 0 2], #386  : 0.00390625\n",
      "HMM [0 0 0 1 0 0 1 0 0 0 0 2], #434  : 0.021484375\n",
      "HMM [0 0 0 1 0 0 1 0 0 1 0 2], #440  : 0.0078125\n",
      "HMM [0 0 0 1 1 0 0 0 0 0 0 2], #578  : 0.00390625\n",
      "HMM [0 0 0 1 1 0 1 0 0 0 0 0], #624  : 0.005859375\n",
      "HMM [0 0 0 1 1 0 1 0 0 0 0 1], #625  : 0.001953125\n",
      "HMM [0 0 0 1 1 0 1 0 0 0 0 2], #626  : 0.306640625\n",
      "HMM [0 0 0 1 1 0 1 0 0 1 0 2], #632  : 0.0390625\n",
      "HMM [0 0 0 1 1 0 1 0 1 0 0 2], #638  : 0.009765625\n",
      "HMM [0 0 0 1 1 0 1 0 1 1 0 0], #642  : 0.001953125\n",
      "HMM [0 0 0 1 1 0 1 1 0 0 0 1], #649  : 0.001953125\n",
      "HMM [0 0 0 1 1 0 1 1 0 0 0 2], #650  : 0.025390625\n",
      "HMM [0 0 0 1 1 0 1 1 0 1 0 2], #656  : 0.001953125\n",
      "HMM [0 0 0 1 1 1 0 0 0 0 0 2], #674  : 0.001953125\n",
      "HMM [0 0 0 1 1 1 1 0 0 0 0 2], #722  : 0.009765625\n",
      "HMM [0 0 0 1 1 1 1 0 0 1 0 2], #728  : 0.001953125\n",
      "HMM [0 0 0 1 1 1 1 0 1 0 0 2], #734  : 0.001953125\n",
      "HMM [0 0 1 0 1 0 1 0 0 0 0 0], #1008  : 0.001953125\n",
      "HMM [0 0 1 0 1 0 1 0 0 0 0 2], #1010  : 0.00390625\n",
      "HMM [0 0 1 1 1 0 1 0 0 0 0 2], #1394  : 0.00390625\n",
      "HMM [0 0 1 1 1 0 1 1 0 0 0 2], #1418  : 0.001953125\n",
      "HMM [0 1 0 0 0 1 1 0 0 1 0 2], #1688  : 0.001953125\n",
      "HMM [0 1 0 0 1 0 1 0 0 0 0 1], #1777  : 0.001953125\n",
      "HMM [0 1 0 0 1 0 1 0 0 0 0 2], #1778  : 0.025390625\n",
      "HMM [0 1 0 0 1 0 1 0 0 1 0 2], #1784  : 0.00390625\n",
      "HMM [0 1 0 1 0 0 1 0 0 0 0 2], #1970  : 0.00390625\n",
      "HMM [0 1 0 1 0 0 1 0 0 1 0 2], #1976  : 0.001953125\n",
      "HMM [0 1 0 1 1 0 1 0 0 0 0 0], #2160  : 0.001953125\n",
      "HMM [0 1 0 1 1 0 1 0 0 0 0 2], #2162  : 0.044921875\n",
      "HMM [0 1 0 1 1 0 1 0 0 1 0 2], #2168  : 0.001953125\n",
      "HMM [0 1 0 1 1 0 1 1 0 0 0 2], #2186  : 0.00390625\n",
      "HMM [1 0 0 0 0 0 1 0 0 0 0 2], #3122  : 0.001953125\n",
      "HMM [1 0 0 0 1 0 1 0 0 0 0 2], #3314  : 0.009765625\n",
      "HMM [1 0 0 1 1 0 1 0 0 0 0 1], #3697  : 0.001953125\n",
      "HMM [1 0 0 1 1 0 1 0 0 0 0 2], #3698  : 0.009765625\n",
      "HMM [1 0 0 1 1 0 1 0 0 1 0 2], #3704  : 0.001953125\n",
      "HMM [1 0 0 1 1 1 1 0 0 0 0 2], #3794  : 0.001953125\n",
      "HMM [1 1 0 0 0 0 1 0 0 0 0 2], #4658  : 0.001953125\n",
      "HMM [1 1 0 0 1 0 1 0 0 0 0 2], #4850  : 0.001953125\n",
      "HMM [1 1 0 1 1 0 1 0 0 0 0 2], #5234  : 0.00390625\n",
      "HMM [2 0 0 0 1 0 1 0 0 0 0 2], #6386  : 0.00390625\n",
      "HMM [2 0 0 0 1 0 1 0 0 1 0 2], #6392  : 0.001953125\n",
      "HMM [2 0 0 1 1 0 1 0 0 0 0 1], #6769  : 0.001953125\n",
      "HMM [2 0 0 1 1 0 1 0 0 0 0 2], #6770  : 0.009765625\n",
      "HMM [2 0 0 1 1 0 1 0 0 1 0 2], #6776  : 0.001953125\n",
      "HMM [2 0 0 1 1 1 1 0 0 0 0 2], #6866  : 0.001953125\n",
      "HMM [2 1 0 0 1 0 1 0 0 1 0 2], #7928  : 0.001953125\n",
      "HMM [3 0 0 1 0 0 1 0 0 0 0 2], #9650  : 0.001953125\n",
      "HMM [3 0 0 1 1 0 1 0 0 0 0 2], #9842  : 0.00390625\n"
     ]
    }
   ],
   "source": [
    "for id in empirical_dist.nonzero()[0]:\n",
    "    print(f'HMM {task.base_task.full_data.index_to_latent[id]}, #{id}  : {empirical_dist[id]}')"
   ]
  },
  {
   "cell_type": "code",
   "execution_count": 111,
   "metadata": {},
   "outputs": [
    {
     "name": "stdout",
     "output_type": "stream",
     "text": [
      "HMM #434, [0 0 0 1 0 0 1 0 0 0 0 2] : 0.12999999523162842\n",
      "HMM #626, [0 0 0 1 1 0 1 0 0 0 0 2] : 0.8700000047683716\n"
     ]
    }
   ],
   "source": [
    "oracle_ = jnp.exp(oracle_dist[cond_mask.int().argmin().item()+1]).round(2).to_device(jax.devices('cpu')[0])\n",
    "for id in oracle_.nonzero()[0]:\n",
    "    print(f'HMM #{id}, {task.base_task.full_data.index_to_latent[id]} : {oracle_[id]}')"
   ]
  },
  {
   "cell_type": "code",
   "execution_count": 112,
   "metadata": {},
   "outputs": [
    {
     "data": {
      "text/plain": [
       "Array(1.1414005, dtype=float32)"
      ]
     },
     "execution_count": 112,
     "metadata": {},
     "output_type": "execute_result"
    }
   ],
   "source": [
    "empirical_dist_ = empirical_dist + 1e-8\n",
    "empirical_dist_ = empirical_dist_/empirical_dist_.sum()\n",
    "rel_entr(oracle_, empirical_dist_).sum()"
   ]
  },
  {
   "cell_type": "code",
   "execution_count": 113,
   "metadata": {},
   "outputs": [
    {
     "data": {
      "text/plain": [
       "Array(9.887039, dtype=float32)"
      ]
     },
     "execution_count": 113,
     "metadata": {},
     "output_type": "execute_result"
    }
   ],
   "source": [
    "oracle__ = oracle_ + 1e-8\n",
    "oracle__ = oracle__/oracle__.sum()\n",
    "rel_entr(empirical_dist, oracle__).sum()"
   ]
  },
  {
   "cell_type": "code",
   "execution_count": 231,
   "metadata": {},
   "outputs": [],
   "source": [
    "emb = nn.ModuleList(\n",
    "    [\n",
    "        nn.Embedding(\n",
    "            n,\n",
    "            512,\n",
    "        )\n",
    "        for n in [5,2,2,3]\n",
    "    ]\n",
    ")"
   ]
  },
  {
   "cell_type": "code",
   "execution_count": null,
   "metadata": {},
   "outputs": [],
   "source": []
  },
  {
   "cell_type": "code",
   "execution_count": 233,
   "metadata": {},
   "outputs": [],
   "source": [
    "directions = orthogonal_(torch.zeros((512,512)))\n",
    "\n",
    "i = 0\n",
    "for e in emb:\n",
    "    weight_ = torch.zeros_like(e.weight)\n",
    "    for j in range(e.weight.shape[0]):\n",
    "        weight_[j] = directions[i]\n",
    "        i += 1\n",
    "    e.weight = nn.Parameter(weight_)"
   ]
  },
  {
   "cell_type": "code",
   "execution_count": 234,
   "metadata": {},
   "outputs": [
    {
     "data": {
      "text/plain": [
       "tensor(-3.0734e-08, grad_fn=<DotBackward0>)"
      ]
     },
     "execution_count": 234,
     "metadata": {},
     "output_type": "execute_result"
    }
   ],
   "source": [
    "torch.dot(emb[0].weight[0],emb[0].weight[2])"
   ]
  },
  {
   "cell_type": "code",
   "execution_count": 217,
   "metadata": {},
   "outputs": [
    {
     "data": {
      "text/plain": [
       "torch.Size([5, 512])"
      ]
     },
     "execution_count": 217,
     "metadata": {},
     "output_type": "execute_result"
    }
   ],
   "source": [
    "emb[0].weight.shape"
   ]
  },
  {
   "cell_type": "code",
   "execution_count": 210,
   "metadata": {},
   "outputs": [
    {
     "data": {
      "text/plain": [
       "tensor(-8.3819e-09)"
      ]
     },
     "execution_count": 210,
     "metadata": {},
     "output_type": "execute_result"
    }
   ],
   "source": [
    "torch.dot(a[:,0], a[:,5])"
   ]
  },
  {
   "cell_type": "code",
   "execution_count": 88,
   "metadata": {},
   "outputs": [],
   "source": [
    "true = torch.Tensor(\n",
    "    [\n",
    "        (latent_embds.weight @ latent[0].T).argmax()\n",
    "        for latent_embds in task.base_task.model.encoder.latent_embedding\n",
    "    ]\n",
    ")"
   ]
  },
  {
   "cell_type": "code",
   "execution_count": 86,
   "metadata": {},
   "outputs": [
    {
     "name": "stdout",
     "output_type": "stream",
     "text": [
      "Accuracy : 0.6158332824707031\n"
     ]
    }
   ],
   "source": [
    "print(f'Accuracy : {torch.mean(torch.sum(preds == true[None],-1)/len(true))}')"
   ]
  },
  {
   "cell_type": "code",
   "execution_count": 95,
   "metadata": {},
   "outputs": [
    {
     "data": {
      "text/plain": [
       "tensor(0.6158)"
      ]
     },
     "execution_count": 95,
     "metadata": {},
     "output_type": "execute_result"
    }
   ],
   "source": [
    "(torch.sum(preds == true[None],0)/100).mean(0)"
   ]
  },
  {
   "cell_type": "code",
   "execution_count": 93,
   "metadata": {},
   "outputs": [
    {
     "data": {
      "text/plain": [
       "100"
      ]
     },
     "execution_count": 93,
     "metadata": {},
     "output_type": "execute_result"
    }
   ],
   "source": [
    "len(preds)"
   ]
  },
  {
   "cell_type": "code",
   "execution_count": null,
   "metadata": {},
   "outputs": [],
   "source": []
  }
 ],
 "metadata": {
  "kernelspec": {
   "display_name": "venv",
   "language": "python",
   "name": "python3"
  },
  "language_info": {
   "codemirror_mode": {
    "name": "ipython",
    "version": 3
   },
   "file_extension": ".py",
   "mimetype": "text/x-python",
   "name": "python",
   "nbconvert_exporter": "python",
   "pygments_lexer": "ipython3",
   "version": "3.10.11"
  }
 },
 "nbformat": 4,
 "nbformat_minor": 2
}
