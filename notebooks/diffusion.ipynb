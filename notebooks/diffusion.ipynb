{
 "cells": [
  {
   "cell_type": "code",
   "execution_count": 3,
   "metadata": {},
   "outputs": [
    {
     "name": "stdout",
     "output_type": "stream",
     "text": [
      "The autoreload extension is already loaded. To reload it, use:\n",
      "  %reload_ext autoreload\n"
     ]
    },
    {
     "name": "stderr",
     "output_type": "stream",
     "text": [
      "/home/mila/l/leo.gagnon/latent_control/venv/lib/python3.10/site-packages/pl_bolts/__init__.py:11: FutureWarning: In the future `np.object` will be defined as the corresponding NumPy scalar.\n",
      "  if not hasattr(numpy, tp_name):\n",
      "/home/mila/l/leo.gagnon/latent_control/venv/lib/python3.10/site-packages/pl_bolts/__init__.py:11: FutureWarning: In the future `np.bool` will be defined as the corresponding NumPy scalar.\n",
      "  if not hasattr(numpy, tp_name):\n",
      "/home/mila/l/leo.gagnon/latent_control/venv/lib/python3.10/site-packages/pl_bolts/models/self_supervised/amdim/amdim_module.py:34: UnderReviewWarning: The feature generate_power_seq is currently marked under review. The compatibility with other Lightning projects is not guaranteed and API may change at any time. The API and functionality may change without warning in future releases. More details: https://lightning-bolts.readthedocs.io/en/latest/stability.html\n",
      "  \"lr_options\": generate_power_seq(LEARNING_RATE_CIFAR, 11),\n",
      "/home/mila/l/leo.gagnon/latent_control/venv/lib/python3.10/site-packages/pl_bolts/models/self_supervised/amdim/amdim_module.py:92: UnderReviewWarning: The feature FeatureMapContrastiveTask is currently marked under review. The compatibility with other Lightning projects is not guaranteed and API may change at any time. The API and functionality may change without warning in future releases. More details: https://lightning-bolts.readthedocs.io/en/latest/stability.html\n",
      "  contrastive_task: Union[FeatureMapContrastiveTask] = FeatureMapContrastiveTask(\"01, 02, 11\"),\n",
      "/home/mila/l/leo.gagnon/latent_control/venv/lib/python3.10/site-packages/pl_bolts/losses/self_supervised_learning.py:228: UnderReviewWarning: The feature AmdimNCELoss is currently marked under review. The compatibility with other Lightning projects is not guaranteed and API may change at any time. The API and functionality may change without warning in future releases. More details: https://lightning-bolts.readthedocs.io/en/latest/stability.html\n",
      "  self.nce_loss = AmdimNCELoss(tclip)\n"
     ]
    }
   ],
   "source": [
    "import sys\n",
    "sys.path.append('/home/mila/l/leo.gagnon/latent_control')\n",
    "\n",
    "%load_ext autoreload\n",
    "%autoreload 2\n",
    "from lightning_modules.diffusion_prior import DiffusionPriorTask\n",
    "import torch\n",
    "import matplotlib.pyplot as plt\n",
    "from data.diffusion import LatentDiffusionDataset\n",
    "from torch2jax import j2t, t2j\n",
    "import jax.numpy as jnp\n",
    "import jax\n",
    "from jax.scipy.special import rel_entr"
   ]
  },
  {
   "cell_type": "code",
   "execution_count": 4,
   "metadata": {},
   "outputs": [
    {
     "name": "stdout",
     "output_type": "stream",
     "text": [
      "Loaded dataset : (11288/1000)\n",
      "Loaded checkpoing : last.ckpt\n",
      "Loaded checkpoing : last.ckpt\n"
     ]
    }
   ],
   "source": [
    "task = DiffusionPriorTask('8dy9p44k')\n",
    "task.cuda();"
   ]
  },
  {
   "cell_type": "code",
   "execution_count": 13,
   "metadata": {},
   "outputs": [
    {
     "ename": "AttributeError",
     "evalue": "'MetaLearner' object has no attribute 'device'",
     "output_type": "error",
     "traceback": [
      "\u001b[0;31m---------------------------------------------------------------------------\u001b[0m",
      "\u001b[0;31mAttributeError\u001b[0m                            Traceback (most recent call last)",
      "Cell \u001b[0;32mIn[13], line 1\u001b[0m\n\u001b[0;32m----> 1\u001b[0m \u001b[43mtask\u001b[49m\u001b[38;5;241;43m.\u001b[39;49m\u001b[43mbase_task\u001b[49m\u001b[38;5;241;43m.\u001b[39;49m\u001b[43mmodel\u001b[49m\u001b[38;5;241;43m.\u001b[39;49m\u001b[43mdevice\u001b[49m\n",
      "File \u001b[0;32m~/latent_control/venv/lib/python3.10/site-packages/torch/nn/modules/module.py:1729\u001b[0m, in \u001b[0;36mModule.__getattr__\u001b[0;34m(self, name)\u001b[0m\n\u001b[1;32m   1727\u001b[0m     \u001b[38;5;28;01mif\u001b[39;00m name \u001b[38;5;129;01min\u001b[39;00m modules:\n\u001b[1;32m   1728\u001b[0m         \u001b[38;5;28;01mreturn\u001b[39;00m modules[name]\n\u001b[0;32m-> 1729\u001b[0m \u001b[38;5;28;01mraise\u001b[39;00m \u001b[38;5;167;01mAttributeError\u001b[39;00m(\u001b[38;5;124mf\u001b[39m\u001b[38;5;124m\"\u001b[39m\u001b[38;5;124m'\u001b[39m\u001b[38;5;132;01m{\u001b[39;00m\u001b[38;5;28mtype\u001b[39m(\u001b[38;5;28mself\u001b[39m)\u001b[38;5;241m.\u001b[39m\u001b[38;5;18m__name__\u001b[39m\u001b[38;5;132;01m}\u001b[39;00m\u001b[38;5;124m'\u001b[39m\u001b[38;5;124m object has no attribute \u001b[39m\u001b[38;5;124m'\u001b[39m\u001b[38;5;132;01m{\u001b[39;00mname\u001b[38;5;132;01m}\u001b[39;00m\u001b[38;5;124m'\u001b[39m\u001b[38;5;124m\"\u001b[39m)\n",
      "\u001b[0;31mAttributeError\u001b[0m: 'MetaLearner' object has no attribute 'device'"
     ]
    }
   ],
   "source": [
    "task.base_task.model.device"
   ]
  },
  {
   "cell_type": "code",
   "execution_count": 1,
   "metadata": {},
   "outputs": [
    {
     "ename": "NameError",
     "evalue": "name 'task' is not defined",
     "output_type": "error",
     "traceback": [
      "\u001b[0;31m---------------------------------------------------------------------------\u001b[0m",
      "\u001b[0;31mNameError\u001b[0m                                 Traceback (most recent call last)",
      "Cell \u001b[0;32mIn[1], line 1\u001b[0m\n\u001b[0;32m----> 1\u001b[0m dataset \u001b[38;5;241m=\u001b[39m \u001b[43mtask\u001b[49m\u001b[38;5;241m.\u001b[39mtrain_data\u001b[38;5;241m.\u001b[39mdataset \n\u001b[1;32m      2\u001b[0m dataset: LatentDiffusionDataset\n",
      "\u001b[0;31mNameError\u001b[0m: name 'task' is not defined"
     ]
    }
   ],
   "source": [
    "dataset = task.train_data.dataset \n",
    "dataset: LatentDiffusionDataset"
   ]
  },
  {
   "cell_type": "code",
   "execution_count": 124,
   "metadata": {},
   "outputs": [
    {
     "name": "stderr",
     "output_type": "stream",
     "text": [
      "/home/mila/l/leo.gagnon/latent_control/data/hmm.py:608: FutureWarning: None encountered in jnp.array(); this is currently treated as NaN. In the future this will result in an error.\n",
      "  intv_envs = jnp.array(intv_envs)\n"
     ]
    }
   ],
   "source": [
    "raw_latent, cond_input_ids, cond_ignore_mask, cond_tokens, latent = dataset[1090].values()"
   ]
  },
  {
   "cell_type": "code",
   "execution_count": 125,
   "metadata": {},
   "outputs": [],
   "source": [
    "xd = 8\n",
    "cond_mask = torch.BoolTensor([True]*xd + [False]*(50-xd))[None].cuda()"
   ]
  },
  {
   "cell_type": "code",
   "execution_count": 126,
   "metadata": {},
   "outputs": [],
   "source": [
    "task.diffusion_prior.cfg.sampler = 'ddpm' # ddpm, dpmpp, ddim\n",
    "task.diffusion_prior.cfg.sampling_timesteps=100"
   ]
  },
  {
   "cell_type": "code",
   "execution_count": 147,
   "metadata": {},
   "outputs": [
    {
     "data": {
      "application/vnd.jupyter.widget-view+json": {
       "model_id": "c9fa985fa5a34de8a7e74b4df7ba2174",
       "version_major": 2,
       "version_minor": 0
      },
      "text/plain": [
       "sampling loop time step:   0%|          | 0/100 [00:00<?, ?it/s]"
      ]
     },
     "metadata": {},
     "output_type": "display_data"
    }
   ],
   "source": [
    "z_t = task.diffusion_prior.sample(250, cond=cond_tokens, cond_mask=cond_mask, cls_free_guidance=1.5)\n",
    "if task.diffusion_prior.cfg.normalize_latent:\n",
    "    z_t = task.diffusion_prior.unnormalize_latent(z_t)"
   ]
  },
  {
   "cell_type": "code",
   "execution_count": 148,
   "metadata": {},
   "outputs": [],
   "source": [
    "diff_dataset = task.train_data.dataset"
   ]
  },
  {
   "cell_type": "code",
   "execution_count": 149,
   "metadata": {},
   "outputs": [],
   "source": [
    "decoded_task_latent = [\n",
    "    torch.Tensor(\n",
    "        [\n",
    "            (latent_embds.weight @ sampled_latent.T).argmax()\n",
    "            for latent_embds in diff_dataset.known_encoder.latent_embedding\n",
    "        ]\n",
    "    )\n",
    "    for sampled_latent in z_t\n",
    "]\n",
    "decoded_task_latent = torch.stack(decoded_task_latent, 0)"
   ]
  },
  {
   "cell_type": "code",
   "execution_count": 150,
   "metadata": {},
   "outputs": [],
   "source": [
    "decoded_task_id = jnp.stack(\n",
    "    [\n",
    "        (\n",
    "            task.base_task.full_data.index_to_latent\n",
    "            == t2j(decoded_task_latent[i])\n",
    "        )\n",
    "        .all(-1)\n",
    "        .argmax()\n",
    "        for i in range(len(decoded_task_latent))\n",
    "    ]\n",
    ")"
   ]
  },
  {
   "cell_type": "code",
   "execution_count": 151,
   "metadata": {},
   "outputs": [],
   "source": [
    "empirical_dist = jnp.bincount(decoded_task_id, minlength=len(task.base_task.full_data))\n",
    "empirical_dist = empirical_dist/empirical_dist.sum()"
   ]
  },
  {
   "cell_type": "code",
   "execution_count": 152,
   "metadata": {},
   "outputs": [],
   "source": [
    "oracle_dist = task.base_task.full_data.bayesian_oracle(\n",
    "    jnp.arange(len(task.base_task.full_data)),\n",
    "    t2j(cond_input_ids[0]),\n",
    ")['log_alpha_post']"
   ]
  },
  {
   "cell_type": "code",
   "execution_count": 153,
   "metadata": {},
   "outputs": [
    {
     "name": "stdout",
     "output_type": "stream",
     "text": [
      "HMM [0 0 1 0 0 1 0 1 0 1 1 1], #898  : 0.20000000298023224\n",
      "HMM [0 0 1 0 1 1 0 1 0 1 1 1], #1090  : 0.800000011920929\n"
     ]
    }
   ],
   "source": [
    "for id in empirical_dist.nonzero()[0]:\n",
    "    print(f'HMM {task.base_task.full_data.index_to_latent[id]}, #{id}  : {empirical_dist[id]}')"
   ]
  },
  {
   "cell_type": "code",
   "execution_count": 154,
   "metadata": {},
   "outputs": [
    {
     "name": "stdout",
     "output_type": "stream",
     "text": [
      "HMM #124, [0 0 0 0 0 1 0 1 0 0 1 1] : 0.019999999552965164\n",
      "HMM #130, [0 0 0 0 0 1 0 1 0 1 1 1] : 0.009999999776482582\n",
      "HMM #898, [0 0 1 0 0 1 0 1 0 1 1 1] : 0.019999999552965164\n",
      "HMM #946, [0 0 1 0 0 1 1 1 0 1 1 1] : 0.05999999865889549\n",
      "HMM #994, [0 0 1 0 1 0 0 1 0 1 1 1] : 0.009999999776482582\n",
      "HMM #1090, [0 0 1 0 1 1 0 1 0 1 1 1] : 0.05999999865889549\n",
      "HMM #1138, [0 0 1 0 1 1 1 1 0 1 1 1] : 0.05999999865889549\n",
      "HMM #5410, [1 1 1 0 0 0 0 1 0 1 1 1] : 0.009999999776482582\n",
      "HMM #5500, [1 1 1 0 0 1 0 1 0 0 1 1] : 0.08999999612569809\n",
      "HMM #5506, [1 1 1 0 0 1 0 1 0 1 1 1] : 0.14000000059604645\n",
      "HMM #5602, [1 1 1 0 1 0 0 1 0 1 1 1] : 0.009999999776482582\n",
      "HMM #5692, [1 1 1 0 1 1 0 1 0 0 1 1] : 0.04999999701976776\n",
      "HMM #5698, [1 1 1 0 1 1 0 1 0 1 1 1] : 0.14000000059604645\n",
      "HMM #6178, [2 0 0 0 0 0 0 1 0 1 1 1] : 0.009999999776482582\n",
      "HMM #6274, [2 0 0 0 0 1 0 1 0 1 1 1] : 0.04999999701976776\n",
      "HMM #6370, [2 0 0 0 1 0 0 1 0 1 1 1] : 0.009999999776482582\n",
      "HMM #6466, [2 0 0 0 1 1 0 1 0 1 1 1] : 0.029999999329447746\n",
      "HMM #10786, [3 1 0 0 0 0 0 1 0 1 1 1] : 0.009999999776482582\n",
      "HMM #10882, [3 1 0 0 0 1 0 1 0 1 1 1] : 0.10999999940395355\n",
      "HMM #10978, [3 1 0 0 1 0 0 1 0 1 1 1] : 0.009999999776482582\n",
      "HMM #11074, [3 1 0 0 1 1 0 1 0 1 1 1] : 0.09999999403953552\n"
     ]
    }
   ],
   "source": [
    "oracle_ = jnp.exp(oracle_dist[cond_mask.int().argmin().item()+1]).round(2).to_device(jax.devices('cpu')[0])\n",
    "for id in oracle_.nonzero()[0]:\n",
    "    print(f'HMM #{id}, {task.base_task.full_data.index_to_latent[id]} : {oracle_[id]}')"
   ]
  },
  {
   "cell_type": "code",
   "execution_count": 145,
   "metadata": {},
   "outputs": [
    {
     "data": {
      "text/plain": [
       "Array(12.6755495, dtype=float32)"
      ]
     },
     "execution_count": 145,
     "metadata": {},
     "output_type": "execute_result"
    }
   ],
   "source": [
    "empirical_dist_ = empirical_dist + 1e-8\n",
    "empirical_dist_ = empirical_dist_/empirical_dist_.sum()\n",
    "rel_entr(oracle_, empirical_dist_).sum()"
   ]
  },
  {
   "cell_type": "code",
   "execution_count": 146,
   "metadata": {},
   "outputs": [
    {
     "data": {
      "text/plain": [
       "Array(11.322886, dtype=float32)"
      ]
     },
     "execution_count": 146,
     "metadata": {},
     "output_type": "execute_result"
    }
   ],
   "source": [
    "oracle__ = oracle_ + 1e-8\n",
    "oracle__ = oracle__/oracle__.sum()\n",
    "rel_entr(empirical_dist, oracle__).sum()"
   ]
  },
  {
   "cell_type": "code",
   "execution_count": 231,
   "metadata": {},
   "outputs": [],
   "source": [
    "emb = nn.ModuleList(\n",
    "    [\n",
    "        nn.Embedding(\n",
    "            n,\n",
    "            512,\n",
    "        )\n",
    "        for n in [5,2,2,3]\n",
    "    ]\n",
    ")"
   ]
  },
  {
   "cell_type": "code",
   "execution_count": null,
   "metadata": {},
   "outputs": [],
   "source": []
  },
  {
   "cell_type": "code",
   "execution_count": 233,
   "metadata": {},
   "outputs": [],
   "source": [
    "directions = orthogonal_(torch.zeros((512,512)))\n",
    "\n",
    "i = 0\n",
    "for e in emb:\n",
    "    weight_ = torch.zeros_like(e.weight)\n",
    "    for j in range(e.weight.shape[0]):\n",
    "        weight_[j] = directions[i]\n",
    "        i += 1\n",
    "    e.weight = nn.Parameter(weight_)"
   ]
  },
  {
   "cell_type": "code",
   "execution_count": 234,
   "metadata": {},
   "outputs": [
    {
     "data": {
      "text/plain": [
       "tensor(-3.0734e-08, grad_fn=<DotBackward0>)"
      ]
     },
     "execution_count": 234,
     "metadata": {},
     "output_type": "execute_result"
    }
   ],
   "source": [
    "torch.dot(emb[0].weight[0],emb[0].weight[2])"
   ]
  },
  {
   "cell_type": "code",
   "execution_count": 217,
   "metadata": {},
   "outputs": [
    {
     "data": {
      "text/plain": [
       "torch.Size([5, 512])"
      ]
     },
     "execution_count": 217,
     "metadata": {},
     "output_type": "execute_result"
    }
   ],
   "source": [
    "emb[0].weight.shape"
   ]
  },
  {
   "cell_type": "code",
   "execution_count": 210,
   "metadata": {},
   "outputs": [
    {
     "data": {
      "text/plain": [
       "tensor(-8.3819e-09)"
      ]
     },
     "execution_count": 210,
     "metadata": {},
     "output_type": "execute_result"
    }
   ],
   "source": [
    "torch.dot(a[:,0], a[:,5])"
   ]
  },
  {
   "cell_type": "code",
   "execution_count": 88,
   "metadata": {},
   "outputs": [],
   "source": [
    "true = torch.Tensor(\n",
    "    [\n",
    "        (latent_embds.weight @ latent[0].T).argmax()\n",
    "        for latent_embds in task.base_task.model.encoder.latent_embedding\n",
    "    ]\n",
    ")"
   ]
  },
  {
   "cell_type": "code",
   "execution_count": 86,
   "metadata": {},
   "outputs": [
    {
     "name": "stdout",
     "output_type": "stream",
     "text": [
      "Accuracy : 0.6158332824707031\n"
     ]
    }
   ],
   "source": [
    "print(f'Accuracy : {torch.mean(torch.sum(preds == true[None],-1)/len(true))}')"
   ]
  },
  {
   "cell_type": "code",
   "execution_count": 95,
   "metadata": {},
   "outputs": [
    {
     "data": {
      "text/plain": [
       "tensor(0.6158)"
      ]
     },
     "execution_count": 95,
     "metadata": {},
     "output_type": "execute_result"
    }
   ],
   "source": [
    "(torch.sum(preds == true[None],0)/100).mean(0)"
   ]
  },
  {
   "cell_type": "code",
   "execution_count": 93,
   "metadata": {},
   "outputs": [
    {
     "data": {
      "text/plain": [
       "100"
      ]
     },
     "execution_count": 93,
     "metadata": {},
     "output_type": "execute_result"
    }
   ],
   "source": [
    "len(preds)"
   ]
  },
  {
   "cell_type": "code",
   "execution_count": null,
   "metadata": {},
   "outputs": [],
   "source": []
  }
 ],
 "metadata": {
  "kernelspec": {
   "display_name": "venv",
   "language": "python",
   "name": "python3"
  },
  "language_info": {
   "codemirror_mode": {
    "name": "ipython",
    "version": 3
   },
   "file_extension": ".py",
   "mimetype": "text/x-python",
   "name": "python",
   "nbconvert_exporter": "python",
   "pygments_lexer": "ipython3",
   "version": "3.10.11"
  }
 },
 "nbformat": 4,
 "nbformat_minor": 2
}
