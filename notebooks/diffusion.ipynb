{
 "cells": [
  {
   "cell_type": "code",
   "execution_count": 1,
   "metadata": {},
   "outputs": [
    {
     "name": "stderr",
     "output_type": "stream",
     "text": [
      "/home/mila/l/leo.gagnon/latent_control/venv/lib/python3.10/site-packages/pl_bolts/__init__.py:11: FutureWarning: In the future `np.object` will be defined as the corresponding NumPy scalar.\n",
      "  if not hasattr(numpy, tp_name):\n",
      "/home/mila/l/leo.gagnon/latent_control/venv/lib/python3.10/site-packages/pl_bolts/__init__.py:11: FutureWarning: In the future `np.bool` will be defined as the corresponding NumPy scalar.\n",
      "  if not hasattr(numpy, tp_name):\n",
      "/home/mila/l/leo.gagnon/latent_control/venv/lib/python3.10/site-packages/pl_bolts/models/self_supervised/amdim/amdim_module.py:34: UnderReviewWarning: The feature generate_power_seq is currently marked under review. The compatibility with other Lightning projects is not guaranteed and API may change at any time. The API and functionality may change without warning in future releases. More details: https://lightning-bolts.readthedocs.io/en/latest/stability.html\n",
      "  \"lr_options\": generate_power_seq(LEARNING_RATE_CIFAR, 11),\n",
      "/home/mila/l/leo.gagnon/latent_control/venv/lib/python3.10/site-packages/pl_bolts/models/self_supervised/amdim/amdim_module.py:92: UnderReviewWarning: The feature FeatureMapContrastiveTask is currently marked under review. The compatibility with other Lightning projects is not guaranteed and API may change at any time. The API and functionality may change without warning in future releases. More details: https://lightning-bolts.readthedocs.io/en/latest/stability.html\n",
      "  contrastive_task: Union[FeatureMapContrastiveTask] = FeatureMapContrastiveTask(\"01, 02, 11\"),\n",
      "/home/mila/l/leo.gagnon/latent_control/venv/lib/python3.10/site-packages/pl_bolts/losses/self_supervised_learning.py:228: UnderReviewWarning: The feature AmdimNCELoss is currently marked under review. The compatibility with other Lightning projects is not guaranteed and API may change at any time. The API and functionality may change without warning in future releases. More details: https://lightning-bolts.readthedocs.io/en/latest/stability.html\n",
      "  self.nce_loss = AmdimNCELoss(tclip)\n"
     ]
    }
   ],
   "source": [
    "import sys\n",
    "sys.path.append('/home/mila/l/leo.gagnon/latent_control')\n",
    "\n",
    "%load_ext autoreload\n",
    "%autoreload 2\n",
    "from lightning_modules.diffusion_prior import DiffusionPriorTask\n",
    "import torch\n",
    "import matplotlib.pyplot as plt\n",
    "from data.diffusion import LatentDiffusionDataset\n",
    "from torch2jax import j2t, t2j\n",
    "import jax.numpy as jnp\n",
    "import jax\n",
    "from jax.scipy.special import rel_entr"
   ]
  },
  {
   "cell_type": "code",
   "execution_count": 2,
   "metadata": {},
   "outputs": [
    {
     "name": "stdout",
     "output_type": "stream",
     "text": [
      "Loaded dataset : (11288/1000)\n",
      "Loaded checkpoing : last.ckpt\n",
      "Loaded checkpoing : last.ckpt\n"
     ]
    }
   ],
   "source": [
    "task = DiffusionPriorTask('b420as7k')\n",
    "task.cuda();"
   ]
  },
  {
   "cell_type": "code",
   "execution_count": 3,
   "metadata": {},
   "outputs": [],
   "source": [
    "dataset = task.train_data.dataset \n",
    "dataset: LatentDiffusionDataset"
   ]
  },
  {
   "cell_type": "code",
   "execution_count": 620,
   "metadata": {},
   "outputs": [
    {
     "name": "stderr",
     "output_type": "stream",
     "text": [
      "/home/mila/l/leo.gagnon/latent_control/data/hmm.py:608: FutureWarning: None encountered in jnp.array(); this is currently treated as NaN. In the future this will result in an error.\n",
      "  intv_envs = jnp.array(intv_envs)\n"
     ]
    }
   ],
   "source": [
    "raw_latent, cond_input_ids, cond_ignore_mask, cond_tokens, latent = dataset[1010].values()"
   ]
  },
  {
   "cell_type": "code",
   "execution_count": 621,
   "metadata": {},
   "outputs": [],
   "source": [
    "xd = 8\n",
    "cond_mask = torch.BoolTensor([True]*xd + [False]*(50-xd))[None].cuda()"
   ]
  },
  {
   "cell_type": "code",
   "execution_count": 663,
   "metadata": {},
   "outputs": [],
   "source": [
    "task.diffusion_prior.cfg.sampler = 'ddpm' # ddpm, dpmpp, ddim\n",
    "task.diffusion_prior.cfg.sampling_timesteps=100"
   ]
  },
  {
   "cell_type": "code",
   "execution_count": 664,
   "metadata": {},
   "outputs": [
    {
     "data": {
      "application/vnd.jupyter.widget-view+json": {
       "model_id": "943f059eb6c544cab61083c426f42e61",
       "version_major": 2,
       "version_minor": 0
      },
      "text/plain": [
       "sampling loop time step:   0%|          | 0/250 [00:00<?, ?it/s]"
      ]
     },
     "metadata": {},
     "output_type": "display_data"
    }
   ],
   "source": [
    "z_t = task.diffusion_prior.sample(250, cond=cond_tokens, cond_mask=cond_mask, cls_free_guidance=1.5)\n",
    "#z_t = task.diffusion_prior.unnormalize_latent(z_t)"
   ]
  },
  {
   "cell_type": "code",
   "execution_count": 665,
   "metadata": {},
   "outputs": [],
   "source": [
    "diff_dataset = task.train_data.dataset"
   ]
  },
  {
   "cell_type": "code",
   "execution_count": 666,
   "metadata": {},
   "outputs": [],
   "source": [
    "decoded_task_latent = [\n",
    "    torch.Tensor(\n",
    "        [\n",
    "            (latent_embds.weight @ sampled_latent.T).argmax()\n",
    "            for latent_embds in diff_dataset.known_encoder.latent_embedding\n",
    "        ]\n",
    "    )\n",
    "    for sampled_latent in z_t\n",
    "]\n",
    "decoded_task_latent = torch.stack(decoded_task_latent, 0)"
   ]
  },
  {
   "cell_type": "code",
   "execution_count": 667,
   "metadata": {},
   "outputs": [],
   "source": [
    "decoded_task_id = jnp.stack(\n",
    "    [\n",
    "        (\n",
    "            task.base_task.full_data.index_to_latent\n",
    "            == t2j(decoded_task_latent[i])\n",
    "        )\n",
    "        .all(-1)\n",
    "        .argmax()\n",
    "        for i in range(len(decoded_task_latent))\n",
    "    ]\n",
    ")"
   ]
  },
  {
   "cell_type": "code",
   "execution_count": 668,
   "metadata": {},
   "outputs": [],
   "source": [
    "empirical_dist = jnp.bincount(decoded_task_id, minlength=len(task.base_task.full_data))\n",
    "empirical_dist = empirical_dist/empirical_dist.sum()"
   ]
  },
  {
   "cell_type": "code",
   "execution_count": 669,
   "metadata": {},
   "outputs": [],
   "source": [
    "oracle_dist = task.base_task.full_data.bayesian_oracle(\n",
    "    jnp.arange(len(task.base_task.full_data)),\n",
    "    t2j(cond_input_ids[0]),\n",
    ")['log_alpha_post']"
   ]
  },
  {
   "cell_type": "code",
   "execution_count": 670,
   "metadata": {},
   "outputs": [
    {
     "name": "stdout",
     "output_type": "stream",
     "text": [
      "HMM [0 0 1 0 0 0 0 0 0 0 0 0], #768  : 0.00800000037997961\n",
      "HMM [0 0 1 0 0 0 0 0 0 0 0 2], #770  : 0.02800000086426735\n",
      "HMM [0 0 1 0 0 0 0 0 0 0 1 2], #773  : 0.00800000037997961\n",
      "HMM [0 0 1 0 0 0 0 0 0 1 0 0], #774  : 0.004000000189989805\n",
      "HMM [0 0 1 0 0 0 0 0 0 1 0 1], #775  : 0.00800000037997961\n",
      "HMM [0 0 1 0 0 0 0 0 0 1 0 2], #776  : 0.012000000104308128\n",
      "HMM [0 0 1 0 0 0 0 1 0 0 0 2], #794  : 0.004000000189989805\n",
      "HMM [0 0 1 0 0 0 1 0 0 0 0 1], #817  : 0.004000000189989805\n",
      "HMM [0 0 1 0 0 0 1 0 0 1 0 2], #824  : 0.004000000189989805\n",
      "HMM [0 0 1 0 0 1 0 0 0 0 0 1], #865  : 0.004000000189989805\n",
      "HMM [0 0 1 0 0 1 0 0 0 0 1 2], #869  : 0.004000000189989805\n",
      "HMM [0 0 1 0 0 1 0 1 0 0 0 2], #890  : 0.012000000104308128\n",
      "HMM [0 0 1 0 0 1 0 1 0 1 1 2], #899  : 0.004000000189989805\n",
      "HMM [0 0 1 0 0 1 1 1 0 0 0 1], #937  : 0.004000000189989805\n",
      "HMM [0 0 1 0 0 1 1 1 0 0 0 2], #938  : 0.00800000037997961\n",
      "HMM [0 0 1 0 0 1 1 1 0 1 0 2], #944  : 0.00800000037997961\n",
      "HMM [0 0 1 0 1 0 0 0 0 0 0 1], #961  : 0.012000000104308128\n",
      "HMM [0 0 1 0 1 0 0 0 0 0 0 2], #962  : 0.024000000208616257\n",
      "HMM [0 0 1 0 1 0 0 0 0 1 0 1], #967  : 0.004000000189989805\n",
      "HMM [0 0 1 0 1 0 0 0 0 1 0 2], #968  : 0.004000000189989805\n",
      "HMM [0 0 1 0 1 0 0 0 0 1 1 1], #970  : 0.004000000189989805\n",
      "HMM [0 0 1 0 1 0 0 1 0 0 0 1], #985  : 0.004000000189989805\n",
      "HMM [0 0 1 0 1 0 1 0 0 0 0 1], #1009  : 0.004000000189989805\n",
      "HMM [0 0 1 0 1 0 1 0 0 0 0 2], #1010  : 0.004000000189989805\n",
      "HMM [0 0 1 0 1 0 1 0 0 1 0 2], #1016  : 0.004000000189989805\n",
      "HMM [0 0 1 0 1 1 0 0 0 0 0 2], #1058  : 0.004000000189989805\n",
      "HMM [0 0 1 0 1 1 0 0 0 1 0 1], #1063  : 0.004000000189989805\n",
      "HMM [0 0 1 0 1 1 0 1 0 0 0 2], #1082  : 0.012000000104308128\n",
      "HMM [0 0 1 0 1 1 1 0 0 0 1 2], #1109  : 0.004000000189989805\n",
      "HMM [0 0 1 0 1 1 1 1 0 0 0 2], #1130  : 0.004000000189989805\n",
      "HMM [0 0 1 1 0 0 0 0 0 0 0 2], #1154  : 0.00800000037997961\n",
      "HMM [0 0 1 1 0 0 0 0 0 0 1 1], #1156  : 0.004000000189989805\n",
      "HMM [0 0 1 1 0 0 0 0 0 1 0 1], #1159  : 0.004000000189989805\n",
      "HMM [0 0 1 1 0 0 0 0 0 1 0 2], #1160  : 0.004000000189989805\n",
      "HMM [0 0 1 1 0 0 0 1 0 0 1 2], #1181  : 0.004000000189989805\n",
      "HMM [0 0 1 1 0 0 1 0 0 1 0 2], #1208  : 0.004000000189989805\n",
      "HMM [0 0 1 1 0 1 0 0 0 0 0 2], #1250  : 0.004000000189989805\n",
      "HMM [0 0 1 1 0 1 0 1 0 1 0 2], #1280  : 0.004000000189989805\n",
      "HMM [0 0 1 1 0 1 1 1 0 0 0 0], #1320  : 0.004000000189989805\n",
      "HMM [0 0 1 1 0 1 1 1 0 0 0 2], #1322  : 0.012000000104308128\n",
      "HMM [0 0 1 1 0 1 1 1 0 1 0 2], #1328  : 0.004000000189989805\n",
      "HMM [0 0 1 1 1 0 0 0 0 0 0 0], #1344  : 0.004000000189989805\n",
      "HMM [0 0 1 1 1 0 0 1 0 0 0 2], #1370  : 0.004000000189989805\n",
      "HMM [0 0 1 1 1 1 0 0 0 0 0 2], #1442  : 0.004000000189989805\n",
      "HMM [0 0 1 1 1 1 1 1 0 0 0 2], #1514  : 0.004000000189989805\n",
      "HMM [0 0 1 1 1 1 1 1 0 1 0 2], #1520  : 0.004000000189989805\n",
      "HMM [0 1 0 0 0 0 0 0 0 0 1 1], #1540  : 0.004000000189989805\n",
      "HMM [0 1 0 0 1 0 0 0 0 0 0 2], #1730  : 0.004000000189989805\n",
      "HMM [0 1 0 0 1 0 1 0 0 0 0 0], #1776  : 0.004000000189989805\n",
      "HMM [0 1 0 0 1 1 1 1 0 0 0 1], #1897  : 0.004000000189989805\n",
      "HMM [0 1 0 1 0 0 0 0 0 0 0 0], #1920  : 0.004000000189989805\n",
      "HMM [0 1 0 1 0 1 0 1 0 0 0 2], #2042  : 0.004000000189989805\n",
      "HMM [0 1 1 0 0 0 0 0 0 0 0 0], #2304  : 0.004000000189989805\n",
      "HMM [0 1 1 0 0 0 0 0 0 0 0 1], #2305  : 0.035999998450279236\n",
      "HMM [0 1 1 0 0 0 0 0 0 0 0 2], #2306  : 0.012000000104308128\n",
      "HMM [0 1 1 0 0 0 0 0 0 0 1 1], #2308  : 0.004000000189989805\n",
      "HMM [0 1 1 0 0 0 0 0 0 0 1 2], #2309  : 0.004000000189989805\n",
      "HMM [0 1 1 0 0 0 0 0 0 1 0 0], #2310  : 0.004000000189989805\n",
      "HMM [0 1 1 0 0 0 0 0 0 1 0 1], #2311  : 0.01600000075995922\n",
      "HMM [0 1 1 0 0 0 0 0 0 1 0 2], #2312  : 0.004000000189989805\n",
      "HMM [0 1 1 0 0 0 0 0 0 1 1 1], #2314  : 0.012000000104308128\n",
      "HMM [0 1 1 0 0 0 0 1 0 0 0 1], #2329  : 0.004000000189989805\n",
      "HMM [0 1 1 0 0 0 0 1 0 0 0 2], #2330  : 0.00800000037997961\n",
      "HMM [0 1 1 0 0 0 0 1 0 0 1 2], #2333  : 0.004000000189989805\n",
      "HMM [0 1 1 0 0 0 1 0 0 0 0 0], #2352  : 0.004000000189989805\n",
      "HMM [0 1 1 0 0 0 1 0 0 0 0 1], #2353  : 0.019999999552965164\n",
      "HMM [0 1 1 0 0 0 1 0 0 0 0 2], #2354  : 0.012000000104308128\n",
      "HMM [0 1 1 0 0 0 1 0 0 0 1 1], #2356  : 0.004000000189989805\n",
      "HMM [0 1 1 0 0 0 1 0 0 1 0 1], #2359  : 0.012000000104308128\n",
      "HMM [0 1 1 0 0 0 1 0 0 1 0 2], #2360  : 0.004000000189989805\n",
      "HMM [0 1 1 0 0 0 1 1 0 0 0 0], #2376  : 0.004000000189989805\n",
      "HMM [0 1 1 0 0 0 1 1 0 0 1 2], #2381  : 0.004000000189989805\n",
      "HMM [0 1 1 0 0 1 0 0 0 0 1 2], #2405  : 0.004000000189989805\n",
      "HMM [0 1 1 0 0 1 0 1 0 0 0 1], #2425  : 0.004000000189989805\n",
      "HMM [0 1 1 0 0 1 0 1 0 0 1 2], #2429  : 0.004000000189989805\n",
      "HMM [0 1 1 0 0 1 0 1 0 1 0 0], #2430  : 0.004000000189989805\n",
      "HMM [0 1 1 0 0 1 0 1 0 1 0 2], #2432  : 0.004000000189989805\n",
      "HMM [0 1 1 0 0 1 0 1 0 1 1 1], #2434  : 0.004000000189989805\n",
      "HMM [0 1 1 0 0 1 1 0 0 0 0 2], #2450  : 0.004000000189989805\n",
      "HMM [0 1 1 0 0 1 1 1 0 0 0 0], #2472  : 0.004000000189989805\n",
      "HMM [0 1 1 0 0 1 1 1 0 0 0 1], #2473  : 0.004000000189989805\n",
      "HMM [0 1 1 0 0 1 1 1 0 0 0 2], #2474  : 0.004000000189989805\n",
      "HMM [0 1 1 0 0 1 1 1 0 1 0 1], #2479  : 0.004000000189989805\n",
      "HMM [0 1 1 0 1 0 0 0 0 0 0 0], #2496  : 0.004000000189989805\n",
      "HMM [0 1 1 0 1 0 0 0 0 0 0 1], #2497  : 0.019999999552965164\n",
      "HMM [0 1 1 0 1 0 0 0 0 0 0 2], #2498  : 0.00800000037997961\n",
      "HMM [0 1 1 0 1 0 0 0 0 0 1 1], #2500  : 0.004000000189989805\n",
      "HMM [0 1 1 0 1 0 0 0 0 1 0 0], #2502  : 0.00800000037997961\n",
      "HMM [0 1 1 0 1 0 0 0 0 1 0 1], #2503  : 0.019999999552965164\n",
      "HMM [0 1 1 0 1 0 0 0 0 1 0 2], #2504  : 0.012000000104308128\n",
      "HMM [0 1 1 0 1 0 0 0 0 1 1 1], #2506  : 0.004000000189989805\n",
      "HMM [0 1 1 0 1 0 1 0 0 0 0 1], #2545  : 0.012000000104308128\n",
      "HMM [0 1 1 0 1 0 1 0 0 0 0 2], #2546  : 0.004000000189989805\n",
      "HMM [0 1 1 0 1 0 1 0 0 1 0 1], #2551  : 0.004000000189989805\n",
      "HMM [0 1 1 0 1 0 1 0 0 1 1 0], #2553  : 0.004000000189989805\n",
      "HMM [0 1 1 0 1 0 1 1 0 0 0 0], #2568  : 0.004000000189989805\n",
      "HMM [0 1 1 0 1 1 0 0 0 0 0 1], #2593  : 0.004000000189989805\n",
      "HMM [0 1 1 0 1 1 0 1 0 0 0 0], #2616  : 0.004000000189989805\n",
      "HMM [0 1 1 0 1 1 0 1 0 0 0 1], #2617  : 0.00800000037997961\n",
      "HMM [0 1 1 0 1 1 0 1 0 1 0 1], #2623  : 0.004000000189989805\n",
      "HMM [0 1 1 0 1 1 0 1 0 1 0 2], #2624  : 0.004000000189989805\n",
      "HMM [0 1 1 0 1 1 1 0 0 1 0 0], #2646  : 0.004000000189989805\n",
      "HMM [0 1 1 0 1 1 1 1 0 0 0 1], #2665  : 0.012000000104308128\n",
      "HMM [0 1 1 0 1 1 1 1 0 0 0 2], #2666  : 0.004000000189989805\n",
      "HMM [0 1 1 1 0 0 0 0 0 0 0 1], #2689  : 0.01600000075995922\n",
      "HMM [0 1 1 1 0 0 0 0 0 1 0 1], #2695  : 0.00800000037997961\n",
      "HMM [0 1 1 1 0 0 0 0 0 1 0 2], #2696  : 0.004000000189989805\n",
      "HMM [0 1 1 1 0 0 0 0 0 1 1 1], #2698  : 0.004000000189989805\n",
      "HMM [0 1 1 1 0 0 1 0 0 0 0 0], #2736  : 0.004000000189989805\n",
      "HMM [0 1 1 1 0 0 1 0 0 0 0 1], #2737  : 0.00800000037997961\n",
      "HMM [0 1 1 1 0 0 1 0 0 0 0 2], #2738  : 0.004000000189989805\n",
      "HMM [0 1 1 1 0 0 1 1 0 1 0 1], #2767  : 0.004000000189989805\n",
      "HMM [0 1 1 1 0 1 0 0 0 0 0 1], #2785  : 0.004000000189989805\n",
      "HMM [0 1 1 1 0 1 0 1 0 0 0 1], #2809  : 0.004000000189989805\n",
      "HMM [0 1 1 1 0 1 0 1 0 0 0 2], #2810  : 0.00800000037997961\n",
      "HMM [0 1 1 1 0 1 0 1 0 0 1 0], #2811  : 0.004000000189989805\n",
      "HMM [0 1 1 1 0 1 0 1 0 1 0 0], #2814  : 0.004000000189989805\n",
      "HMM [0 1 1 1 0 1 0 1 0 1 0 2], #2816  : 0.004000000189989805\n",
      "HMM [0 1 1 1 0 1 1 0 0 0 0 1], #2833  : 0.004000000189989805\n",
      "HMM [0 1 1 1 0 1 1 1 0 0 0 0], #2856  : 0.004000000189989805\n",
      "HMM [0 1 1 1 0 1 1 1 0 0 0 1], #2857  : 0.012000000104308128\n",
      "HMM [0 1 1 1 0 1 1 1 0 0 0 2], #2858  : 0.01600000075995922\n",
      "HMM [0 1 1 1 0 1 1 1 0 0 1 1], #2860  : 0.004000000189989805\n",
      "HMM [0 1 1 1 0 1 1 1 0 1 0 2], #2864  : 0.004000000189989805\n",
      "HMM [0 1 1 1 1 0 0 0 0 0 0 1], #2881  : 0.004000000189989805\n",
      "HMM [0 1 1 1 1 0 0 0 0 0 0 2], #2882  : 0.00800000037997961\n",
      "HMM [0 1 1 1 1 0 0 0 0 0 1 1], #2884  : 0.004000000189989805\n",
      "HMM [0 1 1 1 1 0 0 0 0 0 1 2], #2885  : 0.004000000189989805\n",
      "HMM [0 1 1 1 1 0 0 0 0 1 0 1], #2887  : 0.00800000037997961\n",
      "HMM [0 1 1 1 1 0 1 0 0 0 0 1], #2929  : 0.004000000189989805\n",
      "HMM [0 1 1 1 1 0 1 0 0 1 0 1], #2935  : 0.004000000189989805\n",
      "HMM [0 1 1 1 1 0 1 1 0 0 0 2], #2954  : 0.004000000189989805\n",
      "HMM [0 1 1 1 1 0 1 1 0 1 1 0], #2961  : 0.004000000189989805\n",
      "HMM [0 1 1 1 1 1 0 1 0 0 0 1], #3001  : 0.004000000189989805\n",
      "HMM [0 1 1 1 1 1 0 1 0 1 0 1], #3007  : 0.004000000189989805\n",
      "HMM [0 1 1 1 1 1 0 1 0 1 0 2], #3008  : 0.004000000189989805\n",
      "HMM [0 1 1 1 1 1 1 1 0 0 0 0], #3048  : 0.00800000037997961\n",
      "HMM [0 1 1 1 1 1 1 1 0 0 1 1], #3052  : 0.004000000189989805\n",
      "HMM [1 0 0 0 0 0 0 0 0 0 0 1], #3073  : 0.004000000189989805\n",
      "HMM [1 0 0 0 1 0 0 0 0 1 0 1], #3271  : 0.004000000189989805\n",
      "HMM [1 0 0 1 0 0 0 1 0 0 1 2], #3485  : 0.004000000189989805\n",
      "HMM [1 0 1 0 0 0 0 0 0 1 0 2], #3848  : 0.004000000189989805\n",
      "HMM [1 0 1 0 1 0 0 0 0 0 1 1], #4036  : 0.004000000189989805\n",
      "HMM [1 1 0 0 0 0 0 0 0 0 0 1], #4609  : 0.00800000037997961\n",
      "HMM [1 1 0 0 0 0 0 0 0 1 0 2], #4616  : 0.004000000189989805\n",
      "HMM [1 1 0 0 0 0 1 0 0 0 0 1], #4657  : 0.004000000189989805\n",
      "HMM [1 1 0 0 0 1 1 1 0 0 0 1], #4777  : 0.004000000189989805\n",
      "HMM [1 1 0 0 1 0 0 0 0 0 0 1], #4801  : 0.004000000189989805\n",
      "HMM [1 1 0 0 1 0 0 0 0 1 0 1], #4807  : 0.004000000189989805\n",
      "HMM [1 1 0 1 0 0 0 0 0 0 0 1], #4993  : 0.004000000189989805\n",
      "HMM [1 1 0 1 0 0 0 1 0 0 1 0], #5019  : 0.004000000189989805\n",
      "HMM [1 1 1 0 0 0 0 0 0 0 0 1], #5377  : 0.004000000189989805\n",
      "HMM [1 1 1 0 0 1 0 0 0 1 0 0], #5478  : 0.004000000189989805\n",
      "HMM [1 1 1 0 0 1 1 1 0 1 0 2], #5552  : 0.004000000189989805\n",
      "HMM [2 0 1 0 0 0 1 0 0 1 0 1], #6967  : 0.004000000189989805\n",
      "HMM [2 0 1 0 1 0 1 0 0 0 0 1], #7153  : 0.004000000189989805\n",
      "HMM [2 1 0 0 0 0 0 0 0 0 1 1], #7684  : 0.004000000189989805\n",
      "HMM [2 1 0 0 0 1 0 1 0 0 0 1], #7801  : 0.004000000189989805\n",
      "HMM [2 1 0 0 0 1 1 0 0 0 0 2], #7826  : 0.004000000189989805\n",
      "HMM [2 1 0 0 1 0 0 0 0 0 1 0], #7875  : 0.004000000189989805\n",
      "HMM [2 1 0 0 1 0 1 0 0 1 0 0], #7926  : 0.004000000189989805\n",
      "HMM [2 1 0 0 1 1 0 0 0 0 0 1], #7969  : 0.004000000189989805\n",
      "HMM [2 1 1 0 0 0 0 0 0 0 0 1], #8449  : 0.004000000189989805\n",
      "HMM [2 1 1 0 0 1 1 1 0 1 0 0], #8622  : 0.004000000189989805\n",
      "HMM [3 0 0 1 0 1 0 1 0 1 0 2], #9728  : 0.004000000189989805\n",
      "HMM [3 1 0 0 0 1 1 1 0 0 0 0], #10920  : 0.004000000189989805\n",
      "HMM [3 1 1 0 1 0 0 0 0 0 1 2], #11717  : 0.004000000189989805\n"
     ]
    }
   ],
   "source": [
    "for id in empirical_dist.nonzero()[0]:\n",
    "    print(f'HMM {task.base_task.full_data.index_to_latent[id]}, #{id}  : {empirical_dist[id]}')"
   ]
  },
  {
   "cell_type": "code",
   "execution_count": 671,
   "metadata": {},
   "outputs": [
    {
     "name": "stdout",
     "output_type": "stream",
     "text": [
      "HMM #770, [0 0 1 0 0 0 0 0 0 0 0 2] : 0.009999999776482582\n",
      "HMM #818, [0 0 1 0 0 0 1 0 0 0 0 2] : 0.03999999910593033\n",
      "HMM #866, [0 0 1 0 0 1 0 0 0 0 0 2] : 0.029999999329447746\n",
      "HMM #914, [0 0 1 0 0 1 1 0 0 0 0 2] : 0.08999999612569809\n",
      "HMM #962, [0 0 1 0 1 0 0 0 0 0 0 2] : 0.009999999776482582\n",
      "HMM #1010, [0 0 1 0 1 0 1 0 0 0 0 2] : 0.04999999701976776\n",
      "HMM #1058, [0 0 1 0 1 1 0 0 0 0 0 2] : 0.03999999910593033\n",
      "HMM #1106, [0 0 1 0 1 1 1 0 0 0 0 2] : 0.08999999612569809\n",
      "HMM #1130, [0 0 1 0 1 1 1 1 0 0 0 2] : 0.009999999776482582\n",
      "HMM #1154, [0 0 1 1 0 0 0 0 0 0 0 2] : 0.009999999776482582\n",
      "HMM #1202, [0 0 1 1 0 0 1 0 0 0 0 2] : 0.029999999329447746\n",
      "HMM #1250, [0 0 1 1 0 1 0 0 0 0 0 2] : 0.03999999910593033\n",
      "HMM #1274, [0 0 1 1 0 1 0 1 0 0 0 2] : 0.03999999910593033\n",
      "HMM #1298, [0 0 1 1 0 1 1 0 0 0 0 2] : 0.03999999910593033\n",
      "HMM #1322, [0 0 1 1 0 1 1 1 0 0 0 2] : 0.07000000029802322\n",
      "HMM #1346, [0 0 1 1 1 0 0 0 0 0 0 2] : 0.029999999329447746\n",
      "HMM #1394, [0 0 1 1 1 0 1 0 0 0 0 2] : 0.07000000029802322\n",
      "HMM #1442, [0 0 1 1 1 1 0 0 0 0 0 2] : 0.05999999865889549\n",
      "HMM #1466, [0 0 1 1 1 1 0 1 0 0 0 2] : 0.05999999865889549\n",
      "HMM #1490, [0 0 1 1 1 1 1 0 0 0 0 2] : 0.05999999865889549\n",
      "HMM #1514, [0 0 1 1 1 1 1 1 0 0 0 2] : 0.10999999940395355\n"
     ]
    }
   ],
   "source": [
    "oracle_ = jnp.exp(oracle_dist[cond_mask.int().argmin().item()+1]).round(2).to_device(jax.devices('cpu')[0])\n",
    "for id in oracle_.nonzero()[0]:\n",
    "    print(f'HMM #{id}, {task.base_task.full_data.index_to_latent[id]} : {oracle_[id]}')"
   ]
  },
  {
   "cell_type": "code",
   "execution_count": 672,
   "metadata": {},
   "outputs": [
    {
     "data": {
      "text/plain": [
       "Array(9.978403, dtype=float32)"
      ]
     },
     "execution_count": 672,
     "metadata": {},
     "output_type": "execute_result"
    }
   ],
   "source": [
    "empirical_dist_ = empirical_dist + 1e-8\n",
    "empirical_dist_ = empirical_dist_/empirical_dist_.sum()\n",
    "rel_entr(oracle_, empirical_dist_).sum()"
   ]
  },
  {
   "cell_type": "code",
   "execution_count": 673,
   "metadata": {},
   "outputs": [
    {
     "data": {
      "text/plain": [
       "Array(12.110715, dtype=float32)"
      ]
     },
     "execution_count": 673,
     "metadata": {},
     "output_type": "execute_result"
    }
   ],
   "source": [
    "oracle__ = oracle_ + 1e-8\n",
    "oracle__ = oracle__/oracle__.sum()\n",
    "rel_entr(empirical_dist, oracle__).sum()"
   ]
  },
  {
   "cell_type": "code",
   "execution_count": 231,
   "metadata": {},
   "outputs": [],
   "source": [
    "emb = nn.ModuleList(\n",
    "    [\n",
    "        nn.Embedding(\n",
    "            n,\n",
    "            512,\n",
    "        )\n",
    "        for n in [5,2,2,3]\n",
    "    ]\n",
    ")"
   ]
  },
  {
   "cell_type": "code",
   "execution_count": null,
   "metadata": {},
   "outputs": [],
   "source": []
  },
  {
   "cell_type": "code",
   "execution_count": 233,
   "metadata": {},
   "outputs": [],
   "source": [
    "directions = orthogonal_(torch.zeros((512,512)))\n",
    "\n",
    "i = 0\n",
    "for e in emb:\n",
    "    weight_ = torch.zeros_like(e.weight)\n",
    "    for j in range(e.weight.shape[0]):\n",
    "        weight_[j] = directions[i]\n",
    "        i += 1\n",
    "    e.weight = nn.Parameter(weight_)"
   ]
  },
  {
   "cell_type": "code",
   "execution_count": 234,
   "metadata": {},
   "outputs": [
    {
     "data": {
      "text/plain": [
       "tensor(-3.0734e-08, grad_fn=<DotBackward0>)"
      ]
     },
     "execution_count": 234,
     "metadata": {},
     "output_type": "execute_result"
    }
   ],
   "source": [
    "torch.dot(emb[0].weight[0],emb[0].weight[2])"
   ]
  },
  {
   "cell_type": "code",
   "execution_count": 217,
   "metadata": {},
   "outputs": [
    {
     "data": {
      "text/plain": [
       "torch.Size([5, 512])"
      ]
     },
     "execution_count": 217,
     "metadata": {},
     "output_type": "execute_result"
    }
   ],
   "source": [
    "emb[0].weight.shape"
   ]
  },
  {
   "cell_type": "code",
   "execution_count": 210,
   "metadata": {},
   "outputs": [
    {
     "data": {
      "text/plain": [
       "tensor(-8.3819e-09)"
      ]
     },
     "execution_count": 210,
     "metadata": {},
     "output_type": "execute_result"
    }
   ],
   "source": [
    "torch.dot(a[:,0], a[:,5])"
   ]
  },
  {
   "cell_type": "code",
   "execution_count": 88,
   "metadata": {},
   "outputs": [],
   "source": [
    "true = torch.Tensor(\n",
    "    [\n",
    "        (latent_embds.weight @ latent[0].T).argmax()\n",
    "        for latent_embds in task.base_task.model.encoder.latent_embedding\n",
    "    ]\n",
    ")"
   ]
  },
  {
   "cell_type": "code",
   "execution_count": 86,
   "metadata": {},
   "outputs": [
    {
     "name": "stdout",
     "output_type": "stream",
     "text": [
      "Accuracy : 0.6158332824707031\n"
     ]
    }
   ],
   "source": [
    "print(f'Accuracy : {torch.mean(torch.sum(preds == true[None],-1)/len(true))}')"
   ]
  },
  {
   "cell_type": "code",
   "execution_count": 95,
   "metadata": {},
   "outputs": [
    {
     "data": {
      "text/plain": [
       "tensor(0.6158)"
      ]
     },
     "execution_count": 95,
     "metadata": {},
     "output_type": "execute_result"
    }
   ],
   "source": [
    "(torch.sum(preds == true[None],0)/100).mean(0)"
   ]
  },
  {
   "cell_type": "code",
   "execution_count": 93,
   "metadata": {},
   "outputs": [
    {
     "data": {
      "text/plain": [
       "100"
      ]
     },
     "execution_count": 93,
     "metadata": {},
     "output_type": "execute_result"
    }
   ],
   "source": [
    "len(preds)"
   ]
  },
  {
   "cell_type": "code",
   "execution_count": null,
   "metadata": {},
   "outputs": [],
   "source": []
  }
 ],
 "metadata": {
  "kernelspec": {
   "display_name": "venv",
   "language": "python",
   "name": "python3"
  },
  "language_info": {
   "codemirror_mode": {
    "name": "ipython",
    "version": 3
   },
   "file_extension": ".py",
   "mimetype": "text/x-python",
   "name": "python",
   "nbconvert_exporter": "python",
   "pygments_lexer": "ipython3",
   "version": "3.10.11"
  }
 },
 "nbformat": 4,
 "nbformat_minor": 2
}
