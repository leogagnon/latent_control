{
 "cells": [
  {
   "cell_type": "code",
   "execution_count": 1,
   "metadata": {},
   "outputs": [
    {
     "name": "stderr",
     "output_type": "stream",
     "text": [
      "/home/mila/l/leo.gagnon/latent_control/venv/lib/python3.10/site-packages/pl_bolts/__init__.py:11: FutureWarning: In the future `np.object` will be defined as the corresponding NumPy scalar.\n",
      "  if not hasattr(numpy, tp_name):\n",
      "/home/mila/l/leo.gagnon/latent_control/venv/lib/python3.10/site-packages/pl_bolts/__init__.py:11: FutureWarning: In the future `np.bool` will be defined as the corresponding NumPy scalar.\n",
      "  if not hasattr(numpy, tp_name):\n",
      "/home/mila/l/leo.gagnon/latent_control/venv/lib/python3.10/site-packages/pl_bolts/models/self_supervised/amdim/amdim_module.py:34: UnderReviewWarning: The feature generate_power_seq is currently marked under review. The compatibility with other Lightning projects is not guaranteed and API may change at any time. The API and functionality may change without warning in future releases. More details: https://lightning-bolts.readthedocs.io/en/latest/stability.html\n",
      "  \"lr_options\": generate_power_seq(LEARNING_RATE_CIFAR, 11),\n",
      "/home/mila/l/leo.gagnon/latent_control/venv/lib/python3.10/site-packages/pl_bolts/models/self_supervised/amdim/amdim_module.py:92: UnderReviewWarning: The feature FeatureMapContrastiveTask is currently marked under review. The compatibility with other Lightning projects is not guaranteed and API may change at any time. The API and functionality may change without warning in future releases. More details: https://lightning-bolts.readthedocs.io/en/latest/stability.html\n",
      "  contrastive_task: Union[FeatureMapContrastiveTask] = FeatureMapContrastiveTask(\"01, 02, 11\"),\n",
      "/home/mila/l/leo.gagnon/latent_control/venv/lib/python3.10/site-packages/pl_bolts/losses/self_supervised_learning.py:228: UnderReviewWarning: The feature AmdimNCELoss is currently marked under review. The compatibility with other Lightning projects is not guaranteed and API may change at any time. The API and functionality may change without warning in future releases. More details: https://lightning-bolts.readthedocs.io/en/latest/stability.html\n",
      "  self.nce_loss = AmdimNCELoss(tclip)\n"
     ]
    }
   ],
   "source": [
    "import sys\n",
    "sys.path.append('/home/mila/l/leo.gagnon/latent_control')\n",
    "\n",
    "%load_ext autoreload\n",
    "%autoreload 2\n",
    "from tasks.dsm_diffusion import DSMDiffusion\n",
    "import torch\n",
    "import matplotlib.pyplot as plt\n",
    "from data.diffusion import LatentDiffusionDataset, KnownEncoderDiffusionDataset\n",
    "from torch2jax import j2t, t2j\n",
    "import jax.numpy as jnp\n",
    "import jax\n",
    "from jax.scipy.special import rel_entr\n",
    "from einops import repeat, rearrange\n",
    "from models.encoder import KnownEncoder\n",
    "from models.decoder import TransformerDecoder\n",
    "from tqdm import tqdm\n",
    "from tasks.metalearn import MetaLearningTask"
   ]
  },
  {
   "cell_type": "code",
   "execution_count": 2,
   "metadata": {},
   "outputs": [
    {
     "name": "stderr",
     "output_type": "stream",
     "text": [
      "/home/mila/l/leo.gagnon/latent_control/venv/lib/python3.10/site-packages/lightning/pytorch/core/saving.py:191: Found keys that are in the model state dict but not in the checkpoint: ['seen_tokens', 'val_latents', 'train_latents']\n",
      "/home/mila/l/leo.gagnon/latent_control/venv/lib/python3.10/site-packages/lightning/pytorch/core/saving.py:191: Found keys that are in the model state dict but not in the checkpoint: ['seen_tokens', 'val_latents', 'train_latents']\n",
      "/home/mila/l/leo.gagnon/latent_control/venv/lib/python3.10/site-packages/lightning/pytorch/core/saving.py:191: Found keys that are in the model state dict but not in the checkpoint: ['seen_tokens', 'val_latents', 'train_latents']\n"
     ]
    }
   ],
   "source": [
    "task = DSMDiffusion.load_from_checkpoint(\n",
    "    \"/network/scratch/l/leo.gagnon/latent_control_log/checkpoints/8zr2iv7n/last.ckpt\", strict=False\n",
    ")\n",
    "task.cuda();"
   ]
  },
  {
   "cell_type": "code",
   "execution_count": 3,
   "metadata": {},
   "outputs": [],
   "source": [
    "dataset = task.full_data\n",
    "dataset: KnownEncoderDiffusionDataset"
   ]
  },
  {
   "cell_type": "code",
   "execution_count": 60,
   "metadata": {},
   "outputs": [],
   "source": [
    "N_SEQS = 100\n",
    "N_SAMPLES = 1024\n",
    "C_LEN = 8\n",
    "MAX_LEN = 30"
   ]
  },
  {
   "cell_type": "markdown",
   "metadata": {},
   "source": [
    "# Explicit latent posterior"
   ]
  },
  {
   "cell_type": "code",
   "execution_count": 105,
   "metadata": {},
   "outputs": [
    {
     "name": "stderr",
     "output_type": "stream",
     "text": [
      "/home/mila/l/leo.gagnon/latent_control/data/hmm.py:599: FutureWarning: None encountered in jnp.array(); this is currently treated as NaN. In the future this will result in an error.\n",
      "  intv_envs = jnp.array(intv_envs)\n"
     ]
    }
   ],
   "source": [
    "raw_latent, cond_input_ids, cond_ignore_mask, cond_tokens, latent = dataset[433].values()"
   ]
  },
  {
   "cell_type": "code",
   "execution_count": 106,
   "metadata": {},
   "outputs": [],
   "source": [
    "cond_ignore_mask = torch.BoolTensor([False] * C_LEN + [True] * (cond_input_ids.shape[-1] - C_LEN)).cuda()"
   ]
  },
  {
   "cell_type": "code",
   "execution_count": 107,
   "metadata": {},
   "outputs": [],
   "source": [
    "cond_ignore_mask = repeat(\n",
    "    cond_ignore_mask,\n",
    "    \"l -> b l\",\n",
    "    b=N_SAMPLES,\n",
    ")"
   ]
  },
  {
   "cell_type": "code",
   "execution_count": 108,
   "metadata": {},
   "outputs": [],
   "source": [
    "task.cfg.sampler = 'ddpm' # ddpm, dpmpp, ddim\n",
    "task.cfg.sampling_timesteps=50"
   ]
  },
  {
   "cell_type": "code",
   "execution_count": 109,
   "metadata": {},
   "outputs": [],
   "source": [
    "z_t = task.sample(\n",
    "    N_SAMPLES,\n",
    "    cond=repeat(cond_tokens, '1 l d -> b l d', b=N_SAMPLES),\n",
    "    cond_input_ids=repeat(cond_input_ids, '1 l -> b l', b=N_SAMPLES),\n",
    "    cond_mask=torch.logical_not(cond_ignore_mask),\n",
    "    cls_free_guidance=1.0,\n",
    ")\n",
    "if task.cfg.normalize_latent:\n",
    "    z_t = task.unnormalize_latent(z_t)"
   ]
  },
  {
   "cell_type": "code",
   "execution_count": 110,
   "metadata": {},
   "outputs": [],
   "source": [
    "true_envs_encodings = task.full_data.known_encoder(\n",
    "    true_latents=j2t(task.full_data.base_task.full_data.index_to_latent).int().cuda()\n",
    ")"
   ]
  },
  {
   "cell_type": "code",
   "execution_count": 111,
   "metadata": {},
   "outputs": [],
   "source": [
    "dist = torch.cdist(true_envs_encodings[None,:,0], z_t[None,:,0])[0].T**2\n",
    "empirical_dist = torch.nn.functional.softmax(-dist*2,dim=1).mean(0)\n",
    "empirical_dist = t2j(empirical_dist)"
   ]
  },
  {
   "cell_type": "code",
   "execution_count": 112,
   "metadata": {},
   "outputs": [],
   "source": [
    "if False:\n",
    "    decoded_task_latent = [\n",
    "        torch.Tensor(\n",
    "            [\n",
    "                (latent_embds.weight @ sampled_latent.T).argmax()\n",
    "                for latent_embds in task.full_data.known_encoder.latent_embedding\n",
    "            ]\n",
    "        )\n",
    "        for sampled_latent in z_t\n",
    "    ]\n",
    "    decoded_task_latent = torch.stack(decoded_task_latent, 0)\n",
    "    decoded_task_id = jnp.stack(\n",
    "        [\n",
    "            (\n",
    "                task.full_data.base_task.full_data.index_to_latent\n",
    "                == t2j(decoded_task_latent[i])\n",
    "            )\n",
    "            .all(-1)\n",
    "            .argmax()\n",
    "            for i in range(len(decoded_task_latent))\n",
    "        ]\n",
    "    )\n",
    "    # Compuate empirical distribution\n",
    "    empirical_dist = jnp.bincount(\n",
    "        decoded_task_id, minlength=len(task.full_data)\n",
    "    )\n",
    "    empirical_dist = empirical_dist / empirical_dist.sum()"
   ]
  },
  {
   "cell_type": "code",
   "execution_count": 113,
   "metadata": {},
   "outputs": [],
   "source": [
    "oracle = task.full_data.base_task.full_data.bayesian_oracle(\n",
    "    jnp.arange(len(task.full_data.base_task.full_data)),\n",
    "    t2j(cond_input_ids[0]),\n",
    ")"
   ]
  },
  {
   "cell_type": "code",
   "execution_count": 114,
   "metadata": {},
   "outputs": [],
   "source": [
    "oracle_dist = oracle[\"log_alpha_post\"][C_LEN]\n",
    "oracle_dist = jnp.exp(oracle_dist)\n",
    "empirical_dist = jax.device_put(empirical_dist, oracle_dist.device)"
   ]
  },
  {
   "cell_type": "code",
   "execution_count": 115,
   "metadata": {},
   "outputs": [],
   "source": [
    "# Forward KL(oracle, empirical) (with small epsilon)\n",
    "empirical_dist_ = empirical_dist + 1e-8\n",
    "empirical_dist_ = empirical_dist_ / empirical_dist_.sum()\n",
    "f_kl = rel_entr(oracle_dist, empirical_dist_).sum()\n",
    "\n",
    "#  Backward KL(empirical, oracle) (with small epsilon)\n",
    "oracle_ = oracle_dist + 1e-8\n",
    "oracle_ = oracle_ / oracle_.sum()\n",
    "b_kl = rel_entr(empirical_dist, oracle_).sum()"
   ]
  },
  {
   "cell_type": "code",
   "execution_count": 116,
   "metadata": {},
   "outputs": [
    {
     "name": "stdout",
     "output_type": "stream",
     "text": [
      "0.13038512 0.68563837\n"
     ]
    }
   ],
   "source": [
    "print(f_kl, b_kl)"
   ]
  },
  {
   "cell_type": "code",
   "execution_count": 117,
   "metadata": {},
   "outputs": [
    {
     "name": "stdout",
     "output_type": "stream",
     "text": [
      "Oracle\n",
      "HMM #49, [0 0 0 0 0 0 1 0 0 0 0 1] : 0.5333231091499329\n",
      "HMM #433, [0 0 0 1 0 0 1 0 0 0 0 1] : 0.4665241539478302\n",
      "Model\n",
      "HMM [0 0 0 0 0 0 1 0 0 0 0 1], #49  : 0.3213910162448883\n",
      "HMM [0 0 0 0 0 1 1 0 0 0 0 1], #145  : 0.012019271962344646\n",
      "HMM [0 0 0 1 0 0 1 0 0 0 0 1], #433  : 0.6293429136276245\n",
      "HMM [0 0 0 1 0 1 1 0 0 0 0 1], #529  : 0.029368195682764053\n"
     ]
    }
   ],
   "source": [
    "print('Oracle')\n",
    "for id in oracle_dist.round(2).nonzero()[0]:\n",
    "    print(f'HMM #{id}, {task.full_data.base_task.full_data.index_to_latent[id.item()]} : {oracle_dist[id.item()]}')\n",
    "print('Model')\n",
    "for id in empirical_dist.round(2).nonzero()[0]:\n",
    "    print(f'HMM {task.full_data.base_task.full_data.index_to_latent[id.item()]}, #{id}  : {empirical_dist[id.item()]}')"
   ]
  },
  {
   "cell_type": "markdown",
   "metadata": {},
   "source": [
    "# Posterior predictive : Implicit VS Explicit"
   ]
  },
  {
   "cell_type": "code",
   "execution_count": 6,
   "metadata": {},
   "outputs": [
    {
     "name": "stderr",
     "output_type": "stream",
     "text": [
      "/home/mila/l/leo.gagnon/latent_control/data/hmm.py:599: FutureWarning: None encountered in jnp.array(); this is currently treated as NaN. In the future this will result in an error.\n",
      "  intv_envs = jnp.array(intv_envs)\n"
     ]
    }
   ],
   "source": [
    "raw_latent, cond_input_ids, cond_ignore_mask, cond_tokens, latent = dataset[432].values()"
   ]
  },
  {
   "cell_type": "code",
   "execution_count": 118,
   "metadata": {},
   "outputs": [],
   "source": [
    "task.cfg.sampler = 'ddpm' # ddpm, dpmpp, ddim\n",
    "task.cfg.sampling_timesteps=50"
   ]
  },
  {
   "cell_type": "code",
   "execution_count": 119,
   "metadata": {},
   "outputs": [],
   "source": [
    "decoder = task.full_data.base_task.model.decoder.cuda()\n",
    "decoder: TransformerDecoder"
   ]
  },
  {
   "cell_type": "code",
   "execution_count": 120,
   "metadata": {},
   "outputs": [],
   "source": [
    "true_envs_encodings = task.full_data.known_encoder(\n",
    "    true_latents=j2t(task.full_data.base_task.full_data.index_to_latent).int().cuda()\n",
    ")"
   ]
  },
  {
   "cell_type": "code",
   "execution_count": 121,
   "metadata": {},
   "outputs": [
    {
     "name": "stderr",
     "output_type": "stream",
     "text": [
      "/home/mila/l/leo.gagnon/latent_control/venv/lib/python3.10/site-packages/lightning/pytorch/core/saving.py:191: Found keys that are in the model state dict but not in the checkpoint: ['seen_tokens', 'val_latents', 'train_latents']\n"
     ]
    }
   ],
   "source": [
    "implicit_task = MetaLearningTask.load_from_checkpoint(\n",
    "    \"/network/scratch/l/leo.gagnon/latent_control_log/checkpoints/f818u4jn/last.ckpt\", strict=False\n",
    ").cuda()"
   ]
  },
  {
   "cell_type": "code",
   "execution_count": 124,
   "metadata": {},
   "outputs": [
    {
     "name": "stderr",
     "output_type": "stream",
     "text": [
      "  0%|          | 0/30 [00:00<?, ?it/s]/home/mila/l/leo.gagnon/latent_control/data/hmm.py:599: FutureWarning: None encountered in jnp.array(); this is currently treated as NaN. In the future this will result in an error.\n",
      "  intv_envs = jnp.array(intv_envs)\n",
      "100%|██████████| 30/30 [51:37<00:00, 103.26s/it]\n"
     ]
    }
   ],
   "source": [
    "e_pred = []\n",
    "i_pred = []\n",
    "o_pred = []\n",
    "\n",
    "for j in tqdm(range(30)):\n",
    "    explicit_pred = torch.zeros(MAX_LEN, 50)\n",
    "    raw_latent, cond_input_ids, cond_ignore_mask, cond_tokens, latent = dataset[j].values()\n",
    "\n",
    "    for i in range(1, MAX_LEN + 1):\n",
    "        cond_ignore_mask = repeat(\n",
    "            torch.BoolTensor([False] * i + [True] * (cond_input_ids.shape[-1] - i)),\n",
    "            \"l -> b l\",\n",
    "            b=N_SAMPLES,\n",
    "        ).cuda()\n",
    "        z_t = task.sample(\n",
    "            N_SAMPLES,\n",
    "            cond=repeat(cond_tokens, \"1 l d -> b l d\", b=N_SAMPLES),\n",
    "            cond_input_ids=repeat(cond_input_ids, \"1 l -> b l\", b=N_SAMPLES),\n",
    "            cond_mask=torch.logical_not(cond_ignore_mask),\n",
    "            cls_free_guidance=1.0,\n",
    "        )\n",
    "        if task.cfg.normalize_latent:\n",
    "            z_t = task.unnormalize_latent(z_t)\n",
    "\n",
    "        explicit_pred[i - 1] = torch.nn.functional.softmax(\n",
    "            decoder(\n",
    "                input_ids=repeat(cond_input_ids, \"1 l -> b l\", b=N_SAMPLES),\n",
    "                context_enc=z_t,\n",
    "            )[:, i - 1, :50],\n",
    "            dim=-1,\n",
    "        ).mean(0)\n",
    "\n",
    "    e_pred += [explicit_pred]\n",
    "\n",
    "    o_pred += [\n",
    "        task.full_data.base_task.full_data.bayesian_oracle(\n",
    "            jnp.arange(len(task.full_data.base_task.full_data)),\n",
    "            t2j(cond_input_ids[0]),\n",
    "        )[\"post_pred\"][1:]\n",
    "    ]\n",
    "\n",
    "    o_pred += [\n",
    "        torch.nn.functional.softmax(\n",
    "            implicit_task.model(cond_input_ids)[0, :, :50], dim=-1\n",
    "        )\n",
    "    ]"
   ]
  },
  {
   "cell_type": "code",
   "execution_count": null,
   "metadata": {},
   "outputs": [],
   "source": [
    "e_pred = torch.stack(e_pred)"
   ]
  },
  {
   "cell_type": "code",
   "execution_count": 138,
   "metadata": {},
   "outputs": [],
   "source": [
    "o_pred_ = jnp.stack(o_pred[::2])"
   ]
  },
  {
   "cell_type": "code",
   "execution_count": 135,
   "metadata": {},
   "outputs": [],
   "source": [
    "i_pred = torch.stack(o_pred[1::2])"
   ]
  },
  {
   "cell_type": "code",
   "execution_count": 143,
   "metadata": {},
   "outputs": [],
   "source": [
    "explicit_kl = jax.vmap(jax.vmap(rel_entr))(o_pred_, jax.device_put(t2j(e_pred), o_pred_.device)).sum(-1).mean(0)\n",
    "implicit_kl = jax.vmap(jax.vmap(rel_entr))(o_pred_, jax.device_put(t2j(i_pred), o_pred_.device)).sum(-1).mean(0)"
   ]
  },
  {
   "cell_type": "code",
   "execution_count": 145,
   "metadata": {},
   "outputs": [],
   "source": [
    "explicit_kl_ = jax.vmap(jax.vmap(rel_entr))(jax.device_put(t2j(e_pred), o_pred_.device),o_pred_).sum(-1).mean(0)\n",
    "implicit_kl_ = jax.vmap(jax.vmap(rel_entr))(jax.device_put(t2j(i_pred), o_pred_.device),o_pred_).sum(-1).mean(0)"
   ]
  },
  {
   "cell_type": "code",
   "execution_count": 147,
   "metadata": {},
   "outputs": [
    {
     "data": {
      "text/plain": [
       "<matplotlib.legend.Legend at 0x7efc5928ae60>"
      ]
     },
     "execution_count": 147,
     "metadata": {},
     "output_type": "execute_result"
    },
    {
     "data": {
      "image/png": "[encoded data removed]",
      "text/plain": [
       "<Figure size 640x480 with 1 Axes>"
      ]
     },
     "metadata": {},
     "output_type": "display_data"
    }
   ],
   "source": [
    "plt.plot((explicit_kl_ + explicit_kl)/2, label='Explicit')\n",
    "plt.plot((implicit_kl_ + implicit_kl)/2, label='Implicit')\n",
    "plt.legend()"
   ]
  },
  {
   "cell_type": "code",
   "execution_count": 12,
   "metadata": {},
   "outputs": [
    {
     "name": "stderr",
     "output_type": "stream",
     "text": [
      "100%|██████████| 30/30 [02:31<00:00,  5.03s/it]\n"
     ]
    }
   ],
   "source": [
    "explicit_pred = torch.zeros(MAX_LEN, 50)\n",
    "\n",
    "for i in tqdm(range(1, MAX_LEN+1)):\n",
    "    cond_ignore_mask = repeat(\n",
    "        torch.BoolTensor([False] * i + [True] * (cond_input_ids.shape[-1] - i)),\n",
    "        \"l -> b l\",\n",
    "        b=N_SAMPLES,\n",
    "    ).cuda()\n",
    "    z_t = task.sample(\n",
    "        N_SAMPLES,\n",
    "        cond=repeat(cond_tokens, \"1 l d -> b l d\", b=N_SAMPLES),\n",
    "        cond_input_ids=repeat(cond_input_ids, \"1 l -> b l\", b=N_SAMPLES),\n",
    "        cond_mask=torch.logical_not(cond_ignore_mask),\n",
    "        cls_free_guidance=1.0,\n",
    "    )\n",
    "    if task.cfg.normalize_latent:\n",
    "        z_t = task.unnormalize_latent(z_t)\n",
    "\n",
    "    explicit_pred[i-1] = torch.nn.functional.softmax(\n",
    "        decoder(\n",
    "            input_ids=repeat(cond_input_ids, \"1 l -> b l\", b=N_SAMPLES), context_enc=z_t\n",
    "        )[:, i - 1, :50],\n",
    "        dim=-1,\n",
    "    ).mean(0)"
   ]
  },
  {
   "cell_type": "code",
   "execution_count": 17,
   "metadata": {},
   "outputs": [],
   "source": [
    "oracle = task.full_data.base_task.full_data.bayesian_oracle(\n",
    "    jnp.arange(len(task.full_data.base_task.full_data)),\n",
    "    t2j(cond_input_ids[0]),\n",
    ")"
   ]
  },
  {
   "cell_type": "code",
   "execution_count": 20,
   "metadata": {},
   "outputs": [],
   "source": [
    "oracle_pred = oracle['post_pred'][1:]"
   ]
  },
  {
   "cell_type": "code",
   "execution_count": 22,
   "metadata": {},
   "outputs": [
    {
     "name": "stderr",
     "output_type": "stream",
     "text": [
      "/home/mila/l/leo.gagnon/latent_control/venv/lib/python3.10/site-packages/lightning/pytorch/core/saving.py:191: Found keys that are in the model state dict but not in the checkpoint: ['seen_tokens', 'val_latents', 'train_latents']\n"
     ]
    }
   ],
   "source": [
    "implicit_task = MetaLearningTask.load_from_checkpoint(\n",
    "    \"/network/scratch/l/leo.gagnon/latent_control_log/checkpoints/f818u4jn/last.ckpt\", strict=False\n",
    ").cuda()"
   ]
  },
  {
   "cell_type": "code",
   "execution_count": 33,
   "metadata": {},
   "outputs": [],
   "source": [
    "implicit_pred = torch.nn.functional.softmax(implicit_task.model(cond_input_ids)[0, :, :50], dim=-1)"
   ]
  },
  {
   "cell_type": "code",
   "execution_count": 34,
   "metadata": {},
   "outputs": [],
   "source": [
    "explicit_kl = jax.vmap(rel_entr)(oracle_pred, jax.device_put(t2j(explicit_pred), oracle_pred.device)).sum(-1)\n",
    "implicit_kl = jax.vmap(rel_entr)(oracle_pred, jax.device_put(t2j(implicit_pred), oracle_pred.device)).sum(-1)"
   ]
  },
  {
   "cell_type": "code",
   "execution_count": 35,
   "metadata": {},
   "outputs": [
    {
     "data": {
      "text/plain": [
       "<matplotlib.legend.Legend at 0x7efc5a15beb0>"
      ]
     },
     "execution_count": 35,
     "metadata": {},
     "output_type": "execute_result"
    },
    {
     "data": {
      "image/png": "[encoded data removed]",
      "text/plain": [
       "<Figure size 640x480 with 1 Axes>"
      ]
     },
     "metadata": {},
     "output_type": "display_data"
    }
   ],
   "source": [
    "plt.plot(explicit_kl, label='Explicit')\n",
    "plt.plot(implicit_kl, label='Implicit')\n",
    "plt.legend()"
   ]
  },
  {
   "cell_type": "code",
   "execution_count": null,
   "metadata": {},
   "outputs": [],
   "source": []
  }
 ],
 "metadata": {
  "kernelspec": {
   "display_name": "venv",
   "language": "python",
   "name": "python3"
  },
  "language_info": {
   "codemirror_mode": {
    "name": "ipython",
    "version": 3
   },
   "file_extension": ".py",
   "mimetype": "text/x-python",
   "name": "python",
   "nbconvert_exporter": "python",
   "pygments_lexer": "ipython3",
   "version": "3.10.11"
  }
 },
 "nbformat": 4,
 "nbformat_minor": 2
}
