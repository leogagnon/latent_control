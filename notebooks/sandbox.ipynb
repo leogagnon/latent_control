{
 "cells": [
  {
   "cell_type": "code",
   "execution_count": 1,
   "id": "40a46a99",
   "metadata": {},
   "outputs": [
    {
     "name": "stderr",
     "output_type": "stream",
     "text": [
      "/home/mila/l/leo.gagnon/latent_control/venv/lib/python3.10/site-packages/mamba_ssm/ops/selective_scan_interface.py:164: FutureWarning: `torch.cuda.amp.custom_fwd(args...)` is deprecated. Please use `torch.amp.custom_fwd(args..., device_type='cuda')` instead.\n",
      "  def forward(ctx, xz, conv1d_weight, conv1d_bias, x_proj_weight, delta_proj_weight,\n",
      "/home/mila/l/leo.gagnon/latent_control/venv/lib/python3.10/site-packages/mamba_ssm/ops/selective_scan_interface.py:240: FutureWarning: `torch.cuda.amp.custom_bwd(args...)` is deprecated. Please use `torch.amp.custom_bwd(args..., device_type='cuda')` instead.\n",
      "  def backward(ctx, dout):\n",
      "/home/mila/l/leo.gagnon/latent_control/venv/lib/python3.10/site-packages/mamba_ssm/ops/triton/layer_norm.py:986: FutureWarning: `torch.cuda.amp.custom_fwd(args...)` is deprecated. Please use `torch.amp.custom_fwd(args..., device_type='cuda')` instead.\n",
      "  def forward(\n",
      "/home/mila/l/leo.gagnon/latent_control/venv/lib/python3.10/site-packages/mamba_ssm/ops/triton/layer_norm.py:1045: FutureWarning: `torch.cuda.amp.custom_bwd(args...)` is deprecated. Please use `torch.amp.custom_bwd(args..., device_type='cuda')` instead.\n",
      "  def backward(ctx, dout, *args):\n",
      "/home/mila/l/leo.gagnon/latent_control/venv/lib/python3.10/site-packages/mamba_ssm/distributed/tensor_parallel.py:26: FutureWarning: `torch.cuda.amp.custom_fwd(args...)` is deprecated. Please use `torch.amp.custom_fwd(args..., device_type='cuda')` instead.\n",
      "  def forward(ctx, x, weight, bias, process_group=None, sequence_parallel=True):\n",
      "/home/mila/l/leo.gagnon/latent_control/venv/lib/python3.10/site-packages/mamba_ssm/distributed/tensor_parallel.py:62: FutureWarning: `torch.cuda.amp.custom_bwd(args...)` is deprecated. Please use `torch.amp.custom_bwd(args..., device_type='cuda')` instead.\n",
      "  def backward(ctx, grad_output):\n",
      "/home/mila/l/leo.gagnon/latent_control/venv/lib/python3.10/site-packages/mamba_ssm/ops/triton/ssd_combined.py:758: FutureWarning: `torch.cuda.amp.custom_fwd(args...)` is deprecated. Please use `torch.amp.custom_fwd(args..., device_type='cuda')` instead.\n",
      "  def forward(ctx, zxbcdt, conv1d_weight, conv1d_bias, dt_bias, A, D, chunk_size, initial_states=None, seq_idx=None, dt_limit=(0.0, float(\"inf\")), return_final_states=False, activation=\"silu\",\n",
      "/home/mila/l/leo.gagnon/latent_control/venv/lib/python3.10/site-packages/mamba_ssm/ops/triton/ssd_combined.py:836: FutureWarning: `torch.cuda.amp.custom_bwd(args...)` is deprecated. Please use `torch.amp.custom_bwd(args..., device_type='cuda')` instead.\n",
      "  def backward(ctx, dout, *args):\n"
     ]
    }
   ],
   "source": [
    "%load_ext autoreload\n",
    "%autoreload 2\n",
    "import sys\n",
    "sys.path.append('/home/mila/l/leo.gagnon/latent_control')\n",
    "\n",
    "import pyvene as pv\n",
    "import torch\n",
    "import transformers\n",
    "from dataclasses import dataclass\n",
    "from typing import List, Optional\n",
    "import jax\n",
    "import hydra\n",
    "import lightning as L\n",
    "import torch\n",
    "from hydra.core.config_store import ConfigStore\n",
    "from lightning.pytorch.loggers import WandbLogger\n",
    "from omegaconf import MISSING, DictConfig, OmegaConf, open_dict\n",
    "from data.hmm import CompositionalHMMDataset, CompositionalHMMDatasetConfig\n",
    "from task import MetaLearningTask, TaskConfig\n",
    "import warnings\n",
    "import numpy as np\n",
    "from torch.utils.data import DataLoader, Subset\n",
    "import lightning as L\n",
    "from typing import *\n",
    "from dataclasses import dataclass\n",
    "import torch\n",
    "from transformers import GPT2LMHeadModel, GPT2Config\n",
    "from transformers.modeling_outputs import CausalLMOutputWithCrossAttentions\n",
    "\n",
    "from data.hmm import CompositionalHMMDataset, CompositionalHMMDatasetConfig\n",
    "from models.gpt import GPT, GPTConfig\n",
    "from task import MetaLearningTask\n",
    "from train import TrainConfig\n",
    "from itertools import product, combinations\n",
    "from omegaconf.dictconfig import DictConfig\n",
    "from transformers import PreTrainedModel, PretrainedConfig\n",
    "import torch.nn as nn\n",
    "from datasets import load_dataset, Dataset, IterableDataset\n",
    "import evaluate\n",
    "from peft import get_peft_config, get_peft_model, LoraConfig, TaskType\n",
    "from transformers import TrainingArguments, Trainer\n",
    "from data.hmm import CompositionalHMMDataset, CompositionalHMMDatasetConfig\n",
    "import hmmlearn\n",
    "from sklearn.preprocessing import normalize\n",
    "from copy import deepcopy\n",
    "from pympler import asizeof\n",
    "from hmmlearn.base import _hmmc\n",
    "import gc\n",
    "from functools import partial\n",
    "from torchmetrics.functional import kl_divergence\n",
    "\n",
    "import jax.numpy as jnp\n",
    "import jax.random as jr\n",
    "import matplotlib.pyplot as plt\n",
    "from jax import vmap\n",
    "from jax.nn import one_hot\n",
    "\n",
    "from dynamax.hidden_markov_model import CategoricalHMM\n",
    "from dynamax.hidden_markov_model.models.categorical_hmm import (\n",
    "    ParamsCategoricalHMM,\n",
    "    ParamsStandardHMMTransitions,\n",
    "    ParamsCategoricalHMMEmissions,\n",
    "    ParamsStandardHMMInitialState,\n",
    ")\n",
    "from jax.scipy.special import logsumexp, rel_entr\n",
    "from tqdm import tqdm\n",
    "from scipy.ndimage import gaussian_filter1d\n",
    "from models.mamba import MambaConfig, MambaLMHeadModel\n",
    "from torch2jax import j2t, t2j\n"
   ]
  },
  {
   "cell_type": "code",
   "execution_count": 5,
   "id": "ebc0ccd9",
   "metadata": {},
   "outputs": [],
   "source": [
    "model = MambaLMHeadModel(\n",
    "    MambaConfig(\n",
    "        d_model=512,\n",
    "        n_layer=6,\n",
    "        vocab_size=60,\n",
    "        ssm_cfg={\"layer\": \"Mamba2\", \"d_state\": 8, \"d_conv\": 4},\n",
    "    )\n",
    ")"
   ]
  },
  {
   "cell_type": "code",
   "execution_count": 2,
   "id": "42afede7",
   "metadata": {},
   "outputs": [
    {
     "name": "stdout",
     "output_type": "stream",
     "text": [
      "Loaded dataset : (11288/1000)\n",
      "Loaded checkpoing : epoch=216,step=9750.ckpt\n"
     ]
    },
    {
     "data": {
      "text/plain": [
       "MetaLearningTask(\n",
       "  (model): MambaLMHeadModel(\n",
       "    (backbone): MixerModel(\n",
       "      (embedding): Embedding(56, 256)\n",
       "      (layers): ModuleList(\n",
       "        (0-3): 4 x Block(\n",
       "          (norm): RMSNorm()\n",
       "          (mixer): Mamba2(\n",
       "            (in_proj): Linear(in_features=256, out_features=1048, bias=False)\n",
       "            (conv1d): Conv1d(528, 528, kernel_size=(4,), stride=(1,), padding=(3,), groups=528)\n",
       "            (act): SiLU()\n",
       "            (norm): RMSNorm()\n",
       "            (out_proj): Linear(in_features=512, out_features=256, bias=False)\n",
       "          )\n",
       "        )\n",
       "      )\n",
       "      (norm_f): RMSNorm()\n",
       "    )\n",
       "    (lm_head): Linear(in_features=256, out_features=56, bias=False)\n",
       "  )\n",
       ")"
      ]
     },
     "execution_count": 2,
     "metadata": {},
     "output_type": "execute_result"
    }
   ],
   "source": [
    "task = MetaLearningTask('e0s5davz')\n",
    "task : MetaLearningTask\n",
    "task.eval()"
   ]
  },
  {
   "cell_type": "code",
   "execution_count": 5,
   "id": "0c647ffd",
   "metadata": {},
   "outputs": [],
   "source": [
    "predicted_envs = np.unique(task.val_data.indices)\n",
    "\n",
    "envs = jr.choice(jr.PRNGKey(0), predicted_envs, (10,))\n",
    "Xs = jax.vmap(task.full_data.sample, (0, None, 0))(\n",
    "    envs, 250, jr.split(jr.PRNGKey(0), len(envs))\n",
    ")\n",
    "# Gather the model's posterior predictive\n",
    "with torch.no_grad():\n",
    "    task.model.cuda()\n",
    "    model_pp = torch.softmax(\n",
    "        task.model.forward(\n",
    "            j2t(Xs),\n",
    "            only_last_logits=False,\n",
    "        ),\n",
    "        dim=-1,\n",
    "    )\n",
    "    model_pp = t2j(model_pp)\n",
    "    task.model.cpu()"
   ]
  },
  {
   "cell_type": "code",
   "execution_count": 7,
   "id": "f0bd359f",
   "metadata": {},
   "outputs": [],
   "source": [
    "assumed_envs = jnp.arange(len(task.full_data))"
   ]
  },
  {
   "cell_type": "code",
   "execution_count": 8,
   "id": "a7870666",
   "metadata": {},
   "outputs": [
    {
     "ename": "NameError",
     "evalue": "name 'Xs' is not defined",
     "output_type": "error",
     "traceback": [
      "\u001b[0;31m---------------------------------------------------------------------------\u001b[0m",
      "\u001b[0;31mNameError\u001b[0m                                 Traceback (most recent call last)",
      "Cell \u001b[0;32mIn[8], line 1\u001b[0m\n\u001b[0;32m----> 1\u001b[0m jax\u001b[38;5;241m.\u001b[39mvmap(task\u001b[38;5;241m.\u001b[39mfull_data\u001b[38;5;241m.\u001b[39mfilter, (\u001b[38;5;241m0\u001b[39m, \u001b[38;5;28;01mNone\u001b[39;00m))(assumed_envs, \u001b[43mXs\u001b[49m[\u001b[38;5;241m0\u001b[39m,\u001b[38;5;241m1\u001b[39m:])\n",
      "\u001b[0;31mNameError\u001b[0m: name 'Xs' is not defined"
     ]
    }
   ],
   "source": [
    "jax.vmap(task.full_data.filter, (0, None))(assumed_envs, Xs[0,1:])"
   ]
  },
  {
   "cell_type": "code",
   "execution_count": 9,
   "id": "aad9f0c8",
   "metadata": {},
   "outputs": [],
   "source": [
    "assumed_envs = jnp.arange(len(task.full_data))\n"
   ]
  },
  {
   "cell_type": "code",
   "execution_count": 12,
   "id": "471d6423",
   "metadata": {},
   "outputs": [],
   "source": [
    "asdf = task.full_data.posterior_predictive(assumed_envs, Xs[0,1:])"
   ]
  },
  {
   "cell_type": "code",
   "execution_count": 25,
   "id": "58309834",
   "metadata": {},
   "outputs": [
    {
     "data": {
      "text/plain": [
       "CpuDevice(id=0)"
      ]
     },
     "execution_count": 25,
     "metadata": {},
     "output_type": "execute_result"
    }
   ],
   "source": [
    "task.full_data.index_to_latent.device"
   ]
  },
  {
   "cell_type": "code",
   "execution_count": 18,
   "id": "a48bf583",
   "metadata": {},
   "outputs": [
    {
     "data": {
      "text/plain": [
       "device(type='cpu')"
      ]
     },
     "execution_count": 18,
     "metadata": {},
     "output_type": "execute_result"
    }
   ],
   "source": [
    "task.model.lm_head._parameters['weight'].device"
   ]
  },
  {
   "cell_type": "code",
   "execution_count": 9,
   "id": "08dca1d8",
   "metadata": {},
   "outputs": [],
   "source": [
    "xd = task.evaluate_pp(128, 250)"
   ]
  },
  {
   "cell_type": "code",
   "execution_count": 10,
   "id": "ed330f5c",
   "metadata": {},
   "outputs": [
    {
     "data": {
      "text/plain": [
       "<matplotlib.legend.Legend at 0x7f20dbf4b070>"
      ]
     },
     "execution_count": 10,
     "metadata": {},
     "output_type": "execute_result"
    },
    {
     "data": {
      "image/png": "[encoded data removed]",
      "text/plain": [
       "<Figure size 640x480 with 1 Axes>"
      ]
     },
     "metadata": {},
     "output_type": "display_data"
    }
   ],
   "source": [
    "#plt.plot(gaussian_filter1d(xd['ForwardKL'].cpu().mean(0),2), label='Forward (long)', color='red')\n",
    "plt.plot(gaussian_filter1d(xd['ModelNLL'].cpu().mean(0),2), label='NLL', color='blue')\n",
    "plt.plot(gaussian_filter1d(xd['BackwardKL'].cpu().mean(0),2), label='Backward KL', color='red')\n",
    "plt.title('Prequential curve --- Transformer')\n",
    "plt.ylim(0,4)\n",
    "plt.legend()"
   ]
  }
 ],
 "metadata": {
  "kernelspec": {
   "display_name": "venv",
   "language": "python",
   "name": "python3"
  },
  "language_info": {
   "codemirror_mode": {
    "name": "ipython",
    "version": 3
   },
   "file_extension": ".py",
   "mimetype": "text/x-python",
   "name": "python",
   "nbconvert_exporter": "python",
   "pygments_lexer": "ipython3",
   "version": "3.10.11"
  }
 },
 "nbformat": 4,
 "nbformat_minor": 5
}
