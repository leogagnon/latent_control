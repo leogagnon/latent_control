{
 "cells": [
  {
   "cell_type": "code",
   "execution_count": 2,
   "metadata": {},
   "outputs": [
    {
     "name": "stderr",
     "output_type": "stream",
     "text": [
      "/home/mila/l/leo.gagnon/latent_control/venv/lib/python3.10/site-packages/mamba_ssm/ops/selective_scan_interface.py:164: FutureWarning: `torch.cuda.amp.custom_fwd(args...)` is deprecated. Please use `torch.amp.custom_fwd(args..., device_type='cuda')` instead.\n",
      "  def forward(ctx, xz, conv1d_weight, conv1d_bias, x_proj_weight, delta_proj_weight,\n",
      "/home/mila/l/leo.gagnon/latent_control/venv/lib/python3.10/site-packages/mamba_ssm/ops/selective_scan_interface.py:240: FutureWarning: `torch.cuda.amp.custom_bwd(args...)` is deprecated. Please use `torch.amp.custom_bwd(args..., device_type='cuda')` instead.\n",
      "  def backward(ctx, dout):\n",
      "/home/mila/l/leo.gagnon/latent_control/venv/lib/python3.10/site-packages/mamba_ssm/ops/triton/layer_norm.py:986: FutureWarning: `torch.cuda.amp.custom_fwd(args...)` is deprecated. Please use `torch.amp.custom_fwd(args..., device_type='cuda')` instead.\n",
      "  def forward(\n",
      "/home/mila/l/leo.gagnon/latent_control/venv/lib/python3.10/site-packages/mamba_ssm/ops/triton/layer_norm.py:1045: FutureWarning: `torch.cuda.amp.custom_bwd(args...)` is deprecated. Please use `torch.amp.custom_bwd(args..., device_type='cuda')` instead.\n",
      "  def backward(ctx, dout, *args):\n",
      "/home/mila/l/leo.gagnon/latent_control/venv/lib/python3.10/site-packages/mamba_ssm/distributed/tensor_parallel.py:26: FutureWarning: `torch.cuda.amp.custom_fwd(args...)` is deprecated. Please use `torch.amp.custom_fwd(args..., device_type='cuda')` instead.\n",
      "  def forward(ctx, x, weight, bias, process_group=None, sequence_parallel=True):\n",
      "/home/mila/l/leo.gagnon/latent_control/venv/lib/python3.10/site-packages/mamba_ssm/distributed/tensor_parallel.py:62: FutureWarning: `torch.cuda.amp.custom_bwd(args...)` is deprecated. Please use `torch.amp.custom_bwd(args..., device_type='cuda')` instead.\n",
      "  def backward(ctx, grad_output):\n",
      "/home/mila/l/leo.gagnon/latent_control/venv/lib/python3.10/site-packages/mamba_ssm/ops/triton/ssd_combined.py:758: FutureWarning: `torch.cuda.amp.custom_fwd(args...)` is deprecated. Please use `torch.amp.custom_fwd(args..., device_type='cuda')` instead.\n",
      "  def forward(ctx, zxbcdt, conv1d_weight, conv1d_bias, dt_bias, A, D, chunk_size, initial_states=None, seq_idx=None, dt_limit=(0.0, float(\"inf\")), return_final_states=False, activation=\"silu\",\n",
      "/home/mila/l/leo.gagnon/latent_control/venv/lib/python3.10/site-packages/mamba_ssm/ops/triton/ssd_combined.py:836: FutureWarning: `torch.cuda.amp.custom_bwd(args...)` is deprecated. Please use `torch.amp.custom_bwd(args..., device_type='cuda')` instead.\n",
      "  def backward(ctx, dout, *args):\n"
     ]
    }
   ],
   "source": [
    "import sys\n",
    "sys.path.append('/home/mila/l/leo.gagnon/latent_control')\n",
    "\n",
    "%load_ext autoreload\n",
    "%autoreload 2\n",
    "import torch\n",
    "import pyvene as pv\n",
    "import pprint\n",
    "from task import MetaLearningTask, FineTuningTask\n",
    "from transformers import BatchEncoding, PretrainedConfig\n",
    "import jax.random as jr\n",
    "from torch2jax import j2t, t2j\n",
    "import dataclasses\n",
    "import pyreft\n",
    "import nvidia_smi\n",
    "from models.mamba import MambaLMHeadModel\n",
    "from dataclasses import dataclass\n",
    "from mamba_ssm.utils.generation import InferenceParams\n",
    "from task import DynamicIntervenableModel, TuneConfig, LoraConfig, ReftConfig\n",
    "import gc\n",
    "from models.gpt import GPT, GPTConfig\n",
    "from models.mamba import MambaLMHeadModel, MambaConfig\n",
    "from pympler import asizeof\n",
    "from data.hmm import CompositionalHMMDataset, CompositionalHMMDatasetConfig\n",
    "import lightning as L\n",
    "from torch.nn import init\n",
    "from peft import PeftModel, LoraModel\n",
    "import jax.numpy as jnp\n",
    "from tqdm import tqdm\n",
    "import matplotlib.pyplot as plt\n",
    "import numpy as np\n",
    "from functools import partial\n",
    "import jax\n",
    "from dynamax.hidden_markov_model.parallel_inference import (\n",
    "    HMMPosteriorFiltered,\n",
    "    _condition_on,\n",
    "    FilterMessage,\n",
    "    lax,\n",
    ")"
   ]
  },
  {
   "cell_type": "code",
   "execution_count": 3,
   "metadata": {},
   "outputs": [],
   "source": [
    "IDS = {'mamba': 'ale6kz0k', 'gpt': 'duy6u49u'}"
   ]
  },
  {
   "cell_type": "code",
   "execution_count": 4,
   "metadata": {},
   "outputs": [
    {
     "name": "stdout",
     "output_type": "stream",
     "text": [
      "number of parameters: 10.44M\n",
      "Loaded dataset : (11288/1000)\n",
      "Loaded checkpoing : last.ckpt\n"
     ]
    }
   ],
   "source": [
    "task = MetaLearningTask(IDS['mamba'])"
   ]
  },
  {
   "cell_type": "code",
   "execution_count": 5,
   "metadata": {},
   "outputs": [],
   "source": [
    "data = task.full_data"
   ]
  },
  {
   "cell_type": "code",
   "execution_count": 6,
   "metadata": {},
   "outputs": [
    {
     "name": "stderr",
     "output_type": "stream",
     "text": [
      "/home/mila/l/leo.gagnon/latent_control/venv/lib/python3.10/site-packages/jax/_src/numpy/lax_numpy.py:4252: FutureWarning: None encountered in jnp.array(); this is currently treated as NaN. In the future this will result in an error.\n",
      "  return array(a, dtype=dtype, copy=bool(copy), order=order, device=device)\n"
     ]
    }
   ],
   "source": [
    "X,Z = data.sample(6144, 100, jr.PRNGKey(0))"
   ]
  },
  {
   "cell_type": "code",
   "execution_count": 8,
   "metadata": {},
   "outputs": [
    {
     "data": {
      "text/plain": [
       "Array([0., 0., 0., 0., 0., 0., 0., 0., 0., 0., 0., 0., 0., 0., 0., 0., 0.,\n",
       "       0., 0., 0., 0., 0., 0., 0., 0., 0., 0., 0., 0., 0., 0., 0., 0., 0.,\n",
       "       0., 0., 0., 0., 0., 0., 0., 0., 0., 0., 0., 0., 0., 0., 0., 0., 0.],      dtype=float32)"
      ]
     },
     "execution_count": 8,
     "metadata": {},
     "output_type": "execute_result"
    }
   ],
   "source": [
    "log_like, z_post, partial_messages = data.filter(6144, X)\n",
    "log_like_, z_post_, _ = data.filter(6144, X[50:], partial_messages[49])\n",
    "jnp.abs(z_post[50:] - z_post_).sum(-1).round(3)"
   ]
  },
  {
   "cell_type": "code",
   "execution_count": 25,
   "metadata": {},
   "outputs": [
    {
     "data": {
      "text/plain": [
       "Array([0.0000000e+00, 0.0000000e+00, 5.2154064e-08, 0.0000000e+00,\n",
       "       0.0000000e+00, 1.0431131e-07, 0.0000000e+00, 0.0000000e+00,\n",
       "       1.0430813e-07, 8.5702368e-08, 0.0000000e+00, 0.0000000e+00,\n",
       "       0.0000000e+00, 0.0000000e+00, 2.0861626e-07, 0.0000000e+00,\n",
       "       1.0430813e-07, 0.0000000e+00, 2.2352174e-07, 0.0000000e+00,\n",
       "       0.0000000e+00, 0.0000000e+00, 0.0000000e+00, 3.6379788e-12,\n",
       "       0.0000000e+00, 0.0000000e+00, 0.0000000e+00, 0.0000000e+00,\n",
       "       7.2759576e-12, 5.9729018e-08, 0.0000000e+00, 5.9614649e-08,\n",
       "       0.0000000e+00, 0.0000000e+00, 5.2154064e-08, 0.0000000e+00,\n",
       "       0.0000000e+00, 0.0000000e+00, 0.0000000e+00, 0.0000000e+00,\n",
       "       0.0000000e+00, 0.0000000e+00, 0.0000000e+00, 0.0000000e+00,\n",
       "       0.0000000e+00, 0.0000000e+00, 0.0000000e+00, 1.1921202e-07,\n",
       "       2.9802322e-08, 0.0000000e+00, 1.6393778e-07], dtype=float32)"
      ]
     },
     "execution_count": 25,
     "metadata": {},
     "output_type": "execute_result"
    }
   ],
   "source": [
    "oracle = data.bayesian_oracle(jnp.arange(len(data)), X)\n",
    "oracle_ = data.bayesian_oracle(jnp.arange(len(data)), X[50:], oracle['messages'][49], oracle[\"log_alpha_post\"][50])\n",
    "jnp.abs(oracle['post_pred'][50:] - oracle_['post_pred']).sum(-1)"
   ]
  },
  {
   "cell_type": "code",
   "execution_count": 27,
   "metadata": {},
   "outputs": [
    {
     "data": {
      "text/plain": [
       "(100, 12288, 420)"
      ]
     },
     "execution_count": 27,
     "metadata": {},
     "output_type": "execute_result"
    }
   ],
   "source": [
    "oracle['messages'].shape"
   ]
  },
  {
   "cell_type": "code",
   "execution_count": 48,
   "metadata": {},
   "outputs": [],
   "source": [
    "oracle_ = data.bayesian_oracle(\n",
    "    jnp.arange(len(data)),\n",
    "    X[50:],\n",
    "    z_prior=oracle['z_given_x_alpha'][50],\n",
    "    log_alpha_prior=oracle[\"log_alpha_post\"][50],\n",
    ")"
   ]
  },
  {
   "cell_type": "code",
   "execution_count": 13,
   "metadata": {},
   "outputs": [
    {
     "name": "stderr",
     "output_type": "stream",
     "text": [
      "/home/mila/l/leo.gagnon/latent_control/data/hmm.py:531: FutureWarning: None encountered in jnp.array(); this is currently treated as NaN. In the future this will result in an error.\n",
      "  intv_envs = jnp.array(intv_envs)\n"
     ]
    }
   ],
   "source": [
    "bo = task.full_data.bayesian_oracle(jnp.arange(len(task.full_data)), t2j(task.val_data[0]['input_ids'][0]))"
   ]
  },
  {
   "cell_type": "code",
   "execution_count": 17,
   "metadata": {},
   "outputs": [
    {
     "data": {
      "text/plain": [
       "tensor([11, 49, 19, 28, 22, 20, 21,  2, 36, 40, 19, 12, 19, 22,  2, 36, 21, 21,\n",
       "        44, 43, 40, 43, 40, 22, 49, 12, 49, 19, 43, 17, 36, 30, 25, 37, 25, 27,\n",
       "        11, 21, 25,  2, 27,  2, 31, 17, 36, 27, 38, 32,  2, 12,  2, 17, 22, 19,\n",
       "         0, 43, 15, 11, 43, 12, 22, 15, 40, 18, 11, 25, 40, 43, 41, 36,  2, 25,\n",
       "         5, 36, 27, 40, 21, 20,  2, 17, 17, 43, 27, 22, 12, 40,  2, 19,  2, 43,\n",
       "        40,  2, 43, 19,  0,  2,  2, 36,  2, 43], device='cuda:0',\n",
       "       dtype=torch.int32)"
      ]
     },
     "execution_count": 17,
     "metadata": {},
     "output_type": "execute_result"
    }
   ],
   "source": [
    "task.val_data[0]['input_ids'][0]"
   ]
  },
  {
   "cell_type": "code",
   "execution_count": 18,
   "metadata": {},
   "outputs": [
    {
     "data": {
      "text/plain": [
       "MetaLearningTask(\n",
       "  (model): MambaLMHeadModel(\n",
       "    (backbone): MixerModel(\n",
       "      (embedding): Embedding(56, 384)\n",
       "      (layers): ModuleList(\n",
       "        (0-5): 6 x Block(\n",
       "          (norm): RMSNorm()\n",
       "          (mixer): Mamba2(\n",
       "            (in_proj): Linear(in_features=384, out_features=1816, bias=False)\n",
       "            (conv1d): Conv1d(1024, 1024, kernel_size=(4,), stride=(1,), padding=(3,), groups=1024)\n",
       "            (act): SiLU()\n",
       "            (norm): RMSNorm()\n",
       "            (out_proj): Linear(in_features=768, out_features=384, bias=False)\n",
       "          )\n",
       "          (norm2): RMSNorm()\n",
       "          (mlp): GatedMLP(\n",
       "            (fc1): Linear(in_features=384, out_features=1280, bias=False)\n",
       "            (fc2): Linear(in_features=640, out_features=384, bias=False)\n",
       "          )\n",
       "        )\n",
       "      )\n",
       "      (norm_f): RMSNorm()\n",
       "    )\n",
       "    (lm_head): Linear(in_features=384, out_features=56, bias=False)\n",
       "  )\n",
       ")"
      ]
     },
     "execution_count": 18,
     "metadata": {},
     "output_type": "execute_result"
    }
   ],
   "source": [
    "task.to('cuda')"
   ]
  },
  {
   "cell_type": "code",
   "execution_count": 52,
   "metadata": {},
   "outputs": [
    {
     "name": "stderr",
     "output_type": "stream",
     "text": [
      "/home/mila/l/leo.gagnon/latent_control/data/hmm.py:531: FutureWarning: None encountered in jnp.array(); this is currently treated as NaN. In the future this will result in an error.\n",
      "  intv_envs = jnp.array(intv_envs)\n"
     ]
    }
   ],
   "source": [
    "out = task.evaluate_pp(samples=jnp.array(task.val_data.__getitems__(torch.arange(512))['input_ids'].tolist()))"
   ]
  },
  {
   "cell_type": "code",
   "execution_count": 55,
   "metadata": {},
   "outputs": [
    {
     "data": {
      "text/plain": [
       "tensor(0.2038)"
      ]
     },
     "execution_count": 55,
     "metadata": {},
     "output_type": "execute_result"
    }
   ],
   "source": [
    "out['BackwardKL'].mean(0)[30:].mean()"
   ]
  },
  {
   "cell_type": "code",
   "execution_count": 54,
   "metadata": {},
   "outputs": [
    {
     "data": {
      "text/plain": [
       "[<matplotlib.lines.Line2D at 0x7f84144a16c0>]"
      ]
     },
     "execution_count": 54,
     "metadata": {},
     "output_type": "execute_result"
    },
    {
     "data": {
      "image/png": "[encoded data removed]",
      "text/plain": [
       "<Figure size 640x480 with 1 Axes>"
      ]
     },
     "metadata": {},
     "output_type": "display_data"
    }
   ],
   "source": [
    "plt.plot(out['BackwardKL'].mean(0)[30:])"
   ]
  },
  {
   "cell_type": "code",
   "execution_count": 15,
   "metadata": {},
   "outputs": [
    {
     "data": {
      "text/plain": [
       "Array([[40, 43, 19, 40, 36, 12,  1, 49, 43, 40,  2, 49,  2, 17, 14, 19,\n",
       "        28, 41, 41, 22, 20, 19, 12,  1, 40, 25, 27, 11, 49, 36, 37, 36,\n",
       "        12, 12, 12, 11,  2,  1, 40, 19, 12, 27, 12, 15, 37, 19, 28, 22,\n",
       "        19, 49,  2, 21,  5, 25, 28, 22,  2, 11, 37, 42, 27, 40, 12, 49,\n",
       "        36,  2, 25, 26, 19, 20, 38, 40,  2, 38, 10,  2, 21, 25, 43, 21,\n",
       "        17,  2, 17, 20, 43, 38, 12,  2, 41, 22, 20, 19, 12,  2, 19, 32,\n",
       "        49,  1, 21, 21]], dtype=int32)"
      ]
     },
     "execution_count": 15,
     "metadata": {},
     "output_type": "execute_result"
    }
   ],
   "source": [
    "t2j(task.val_data[0]['input_ids'])"
   ]
  },
  {
   "cell_type": "code",
   "execution_count": 25,
   "metadata": {},
   "outputs": [
    {
     "name": "stdout",
     "output_type": "stream",
     "text": [
      "number of parameters: 10.67M\n",
      "Loaded dataset : (11288/1000)\n"
     ]
    },
    {
     "name": "stderr",
     "output_type": "stream",
     "text": [
      "Seed set to 42\n"
     ]
    },
    {
     "name": "stdout",
     "output_type": "stream",
     "text": [
      "Loaded checkpoing : last.ckpt\n"
     ]
    }
   ],
   "source": [
    "task = FineTuningTask(\n",
    "    TuneConfig(\n",
    "        IDS[\"gpt\"],\n",
    "        method_config=LoraConfig(r=4, target_modules=\"all-linear\"),\n",
    "        context_length=[100,100],\n",
    "        constraints=[[1, 0]],\n",
    "        precompute_pp=True,\n",
    "        prefix_size=[30,60]\n",
    "    )\n",
    ").cuda()"
   ]
  },
  {
   "cell_type": "code",
   "execution_count": 38,
   "metadata": {},
   "outputs": [
    {
     "data": {
      "text/plain": [
       "<contextlib._GeneratorContextManager at 0x7fc79d6790c0>"
      ]
     },
     "execution_count": 38,
     "metadata": {},
     "output_type": "execute_result"
    }
   ],
   "source": [
    "task.model.disable_adapter()"
   ]
  },
  {
   "cell_type": "code",
   "execution_count": 43,
   "metadata": {},
   "outputs": [
    {
     "data": {
      "text/plain": [
       "'PeftModel'"
      ]
     },
     "execution_count": 43,
     "metadata": {},
     "output_type": "execute_result"
    }
   ],
   "source": [
    "task.model.__class__.__name__"
   ]
  },
  {
   "cell_type": "code",
   "execution_count": 31,
   "metadata": {},
   "outputs": [],
   "source": [
    "a=a"
   ]
  },
  {
   "cell_type": "code",
   "execution_count": 29,
   "metadata": {},
   "outputs": [
    {
     "data": {
      "text/plain": [
       "{'input_ids': tensor([[12,  1,  1,  ..., 47,  2, 28],\n",
       "         [ 5, 29,  2,  ..., 16,  0, 42],\n",
       "         [43, 42, 11,  ...,  2, 15, 12],\n",
       "         ...,\n",
       "         [40, 43, 31,  ..., 49,  8, 47],\n",
       "         [21, 41, 27,  ..., 40, 40, 39],\n",
       "         [35, 21, 47,  ..., 27, 42,  2]], device='cuda:0', dtype=torch.int32),\n",
       " 'states': tensor([[ 0,  1, 19,  ..., 14, 10,  3],\n",
       "         [14,  9, 11,  ...,  2,  1,  5],\n",
       "         [ 7, 12, 19,  ...,  9,  3,  1],\n",
       "         ...,\n",
       "         [ 0,  8, 12,  ...,  7,  6, 15],\n",
       "         [ 6, 18,  0,  ...,  5, 17, 10],\n",
       "         [ 7,  6, 18,  ...,  0,  8, 12]], device='cuda:0', dtype=torch.int32),\n",
       " 'raw_seqs': tensor([[12,  1,  1,  ..., 36,  2, 35],\n",
       "         [ 5, 29,  2,  ..., 39, 41, 40],\n",
       "         [43, 42, 11,  ..., 25, 17, 36],\n",
       "         ...,\n",
       "         [40, 43, 31,  ..., 43, 47, 21],\n",
       "         [21, 41, 27,  ..., 29, 36, 10],\n",
       "         [35, 21, 47,  ..., 33,  2, 15]], device='cuda:0', dtype=torch.int32),\n",
       " 'raw_states': tensor([[ 0,  1, 19,  ...,  9,  3, 12],\n",
       "         [14,  9, 11,  ..., 11, 17,  4],\n",
       "         [ 7, 12, 19,  ..., 14, 18, 17],\n",
       "         ...,\n",
       "         [ 0,  8, 12,  ..., 12, 18, 15],\n",
       "         [ 6, 18,  0,  ..., 10, 17,  5],\n",
       "         [ 7,  6, 18,  ..., 17, 12, 14]], device='cuda:0', dtype=torch.int32),\n",
       " 'ignore_mask': tensor([[ True,  True,  True,  ..., False, False, False],\n",
       "         [ True,  True,  True,  ..., False, False, False],\n",
       "         [ True,  True,  True,  ..., False, False, False],\n",
       "         ...,\n",
       "         [ True,  True,  True,  ..., False, False, False],\n",
       "         [ True,  True,  True,  ..., False, False, False],\n",
       "         [ True,  True,  True,  ..., False, False, False]])}"
      ]
     },
     "execution_count": 29,
     "metadata": {},
     "output_type": "execute_result"
    }
   ],
   "source": [
    "next(iter(task.val_dataloader()[0]))"
   ]
  },
  {
   "cell_type": "code",
   "execution_count": 13,
   "metadata": {},
   "outputs": [],
   "source": [
    "from torch.utils.data import DataLoader"
   ]
  },
  {
   "cell_type": "code",
   "execution_count": 18,
   "metadata": {},
   "outputs": [],
   "source": [
    "asdf = DataLoader(\n",
    "    task.val_data['active'],\n",
    "    batch_size=32,\n",
    "    collate_fn=lambda x: x\n",
    ")"
   ]
  },
  {
   "cell_type": "code",
   "execution_count": null,
   "metadata": {},
   "outputs": [],
   "source": []
  },
  {
   "cell_type": "code",
   "execution_count": 20,
   "metadata": {},
   "outputs": [],
   "source": [
    "out = next(iter(asdf))"
   ]
  },
  {
   "cell_type": "code",
   "execution_count": 24,
   "metadata": {},
   "outputs": [
    {
     "data": {
      "text/plain": [
       "torch.Size([32, 100])"
      ]
     },
     "execution_count": 24,
     "metadata": {},
     "output_type": "execute_result"
    }
   ],
   "source": [
    "out['raw_states'].shape"
   ]
  },
  {
   "cell_type": "code",
   "execution_count": 12,
   "metadata": {},
   "outputs": [
    {
     "data": {
      "text/plain": [
       "{'input_ids': tensor([[12,  1,  1, 27, 19, 42, 44, 33, 39, 37, 27, 19, 42, 23, 21, 47,  6, 28,\n",
       "          39, 37, 27, 19, 42, 47, 39, 10, 12, 12, 20, 12, 12, 42, 44, 12, 42, 29,\n",
       "          33, 39, 39, 20, 12, 42, 33,  2, 12, 27, 22,  1, 47, 20, 41, 40, 39, 47,\n",
       "          39, 12, 39, 35, 15, 47, 39, 10, 36, 47, 20, 38, 36, 10, 12, 12, 20, 12,\n",
       "          12, 42, 44, 12, 42, 29, 33, 39, 39, 20, 12, 42, 33, 41, 18, 27,  0, 15,\n",
       "          47, 41, 39, 47, 39, 41, 15, 47,  2, 28],\n",
       "         [ 5, 29,  2, 16, 39, 17, 40, 40, 36, 26,  3, 42, 28, 14, 39, 25, 26, 12,\n",
       "          41, 16,  2, 17, 42, 36,  6, 11,  5, 46, 35, 39, 20, 26, 36, 13, 39, 11,\n",
       "          28, 39, 10,  0, 42, 39, 38, 40, 12, 42, 46, 49, 39, 28, 25, 40, 44, 10,\n",
       "          12, 42,  8, 46, 39, 25, 39, 17, 11,  1, 39,  8, 42,  8, 38, 35, 38, 36,\n",
       "          40, 44, 42,  8, 46, 39, 39, 21,  1,  2, 41, 42, 40,  6, 26, 49,  8, 43,\n",
       "          42, 39,  8, 20, 25, 47, 44, 16,  0, 42],\n",
       "         [43, 42, 11, 43, 43, 15, 49, 43, 18, 40, 11, 19, 14, 11, 42, 11, 19, 11,\n",
       "          49, 19, 15, 12, 25, 41, 40, 30, 43, 42, 15, 12, 25, 17, 40,  2,  2, 40,\n",
       "          43, 18, 40, 15, 43,  1, 19, 14, 36, 15, 42, 21, 37, 15, 40, 17, 14, 17,\n",
       "          36, 43, 40,  2, 17, 43, 43, 10, 25,  1, 19, 40, 43, 28, 15, 43, 25, 10,\n",
       "          43, 12, 25, 44, 18, 40, 41, 14, 26,  2, 14, 22, 42, 36, 25, 21,  2, 18,\n",
       "           2, 14, 22, 12, 42,  2, 15,  2, 15, 12]], device='cuda:0',\n",
       "        dtype=torch.int32),\n",
       " 'states': tensor([[ 0,  1, 19,  5,  6, 13,  8, 15, 12, 19,  5,  6, 13, 16, 14, 15,  9,  3,\n",
       "          12, 19,  5,  6, 13, 16, 10,  3,  8,  6, 13,  8,  6, 13,  8,  6, 13,  8,\n",
       "          15, 12,  7,  5,  6, 13, 16, 10,  4,  2,  0,  1, 14, 16, 10,  3, 12, 19,\n",
       "           7,  5, 11, 17, 18, 14, 10,  3,  1, 19,  5, 11,  9,  3,  8,  6, 13,  8,\n",
       "           6, 13,  8,  6, 13,  8, 15, 12,  7,  5,  6, 13, 16, 10,  4,  2,  0,  1,\n",
       "          14, 10, 12,  7, 11, 17, 18, 14, 10,  3],\n",
       "         [14,  9, 11,  5, 11, 17,  4, 16, 10, 14,  1,  3, 12, 19,  8, 15, 14,  9,\n",
       "          11,  5, 11, 17,  4, 16, 10, 14,  1,  3, 13, 12, 15, 14,  0,  2, 12, 19,\n",
       "          12, 10, 14,  1,  3, 13, 12, 18,  9,  7,  6,  3, 13, 12, 15, 18, 15, 14,\n",
       "           9,  7,  6,  3, 12, 19,  8, 15, 18,  9, 11,  5,  7,  6,  3, 13, 12, 10,\n",
       "          14,  9,  7,  6,  3, 13, 12, 18,  9, 11, 17,  4, 16, 10, 14,  0,  2,  1,\n",
       "           5, 11,  5,  7, 19,  8, 15,  2,  1,  5],\n",
       "         [ 7, 12, 19,  7, 12,  3,  8, 13,  6,  5, 19,  1, 14, 15, 12, 19,  1, 14,\n",
       "          15, 12,  3,  1, 14, 18, 17, 11,  7, 12,  3,  1, 14, 18, 17, 11,  9, 15,\n",
       "           8,  6,  5, 11,  9,  3,  1, 14, 10,  3, 12, 19,  7, 11, 17, 18, 14, 16,\n",
       "          10, 12, 19,  5,  6, 13,  8, 15, 12,  3,  1, 19,  7,  5, 11,  9, 14, 15,\n",
       "          12,  3, 12,  7, 11, 17, 18, 14, 15,  9, 14, 10, 12,  3, 12, 19,  5, 11,\n",
       "           9, 14, 10,  3, 12,  7, 11,  9,  3,  1]], device='cuda:0',\n",
       "        dtype=torch.int32),\n",
       " 'raw_seqs': tensor([[12,  1,  1, 27, 19, 42, 44, 33, 39, 37, 27, 19, 42, 23, 21, 47,  6, 28,\n",
       "          39, 37, 27, 19, 42, 47, 39, 10, 12, 12, 20, 12, 12, 42, 44, 12, 42, 29,\n",
       "          33, 39, 39, 20, 12, 42, 33, 41, 18, 27,  0, 15, 47, 41, 39, 47, 39, 41,\n",
       "          15, 47,  2, 28, 35, 39, 38, 41, 15, 47, 41, 35,  2, 12, 47, 35, 39, 27,\n",
       "          42, 39, 47,  2, 28, 29, 19, 42, 20, 39, 35, 28, 12, 21, 41, 12, 27,  1,\n",
       "           1,  1, 28, 38, 36, 47, 33, 36,  2, 35],\n",
       "         [ 5, 29,  2, 16, 39, 17, 40, 40, 36, 26,  3, 42, 28, 14, 39, 25, 26, 12,\n",
       "          41, 16,  2, 17, 42, 36,  6, 11,  5, 46, 35, 39, 20, 26, 36, 13, 39, 11,\n",
       "          28, 39, 10,  0, 42, 39, 38, 40, 12, 42, 14, 47, 20, 26, 43, 46, 39, 38,\n",
       "          14, 47, 14, 26,  3, 16, 39, 16, 41, 17, 42, 36,  6, 40, 29, 42, 11, 47,\n",
       "          14, 16, 43, 46, 35, 38, 21, 29, 41, 41,  0, 36, 36,  5, 40, 13, 39, 25,\n",
       "          28, 21, 17, 40, 12,  2,  8, 39, 41, 40],\n",
       "         [43, 42, 11, 43, 43, 15, 49, 43, 18, 40, 11, 19, 14, 11, 42, 11, 19, 11,\n",
       "          49, 19, 15, 12, 25, 41, 40, 30, 43, 42, 15, 12, 25, 17, 40,  2,  2, 40,\n",
       "          43, 18, 40, 15, 43, 40, 25, 12, 12, 27, 22, 19, 22, 20, 14, 36,  1,  2,\n",
       "          21, 10, 15,  2, 25, 15,  2, 41, 12, 43, 17, 14, 36, 19,  1,  2, 18,  2,\n",
       "          30, 37, 10, 21, 44, 10, 21, 12, 27, 22, 38, 36, 42, 12, 49, 43, 21, 10,\n",
       "          21, 12, 25, 36, 25, 11, 19, 25, 17, 36]], device='cuda:0',\n",
       "        dtype=torch.int32),\n",
       " 'raw_states': tensor([[ 0,  1, 19,  5,  6, 13,  8, 15, 12, 19,  5,  6, 13, 16, 14, 15,  9,  3,\n",
       "          12, 19,  5,  6, 13, 16, 10,  3,  8,  6, 13,  8,  6, 13,  8,  6, 13,  8,\n",
       "          15, 12,  7,  5,  6, 13, 16, 10,  4,  2,  0,  1, 14, 10, 12,  7, 11, 17,\n",
       "          18, 14, 10,  3, 12,  7, 11, 17, 18, 14, 10, 12,  3,  8, 15, 12,  7,  5,\n",
       "          11,  9, 14, 10,  3,  8,  6, 13, 16, 10, 12,  3,  1, 14, 10,  4,  2,  0,\n",
       "           1, 19,  7, 11,  9, 14, 15,  9,  3, 12],\n",
       "         [14,  9, 11,  5, 11, 17,  4, 16, 10, 14,  1,  3, 12, 19,  8, 15, 14,  9,\n",
       "          11,  5, 11, 17,  4, 16, 10, 14,  1,  3, 13, 12, 15, 14,  0,  2, 12, 19,\n",
       "          12, 10, 14,  1,  3, 13, 12, 18,  9,  7, 19,  8, 15, 14,  1,  3, 13, 12,\n",
       "          19,  8, 15, 14,  1,  5, 11,  5, 11, 17,  4, 16, 10, 14,  9,  7, 19,  8,\n",
       "          15,  2,  1,  3, 13, 12, 18,  9, 11, 17,  4, 16, 10, 14,  0,  2, 12, 19,\n",
       "          12, 18, 15, 14,  9, 11,  5, 11, 17,  4],\n",
       "         [ 7, 12, 19,  7, 12,  3,  8, 13,  6,  5, 19,  1, 14, 15, 12, 19,  1, 14,\n",
       "          15, 12,  3,  1, 14, 18, 17, 11,  7, 12,  3,  1, 14, 18, 17, 11,  9, 15,\n",
       "           8,  6,  5, 11,  9, 15, 12,  3,  1,  0,  2,  4, 10, 16, 14, 10,  3,  8,\n",
       "           6,  5, 11,  7, 12,  3,  8, 13,  6, 13, 16, 14, 10, 12,  3,  8,  6,  5,\n",
       "          11,  7,  5, 19,  7,  5, 19,  1,  0,  2,  4, 10, 12,  3,  8, 13,  6,  5,\n",
       "          19,  1, 14, 10, 12, 19,  1, 14, 18, 17]], device='cuda:0',\n",
       "        dtype=torch.int32),\n",
       " 'ignore_mask': tensor([[ True,  True,  True,  True,  True,  True,  True,  True,  True,  True,\n",
       "           True,  True,  True,  True,  True,  True,  True,  True,  True,  True,\n",
       "           True,  True,  True,  True,  True,  True,  True,  True,  True,  True,\n",
       "           True,  True,  True,  True,  True,  True,  True,  True,  True,  True,\n",
       "           True,  True,  True, False, False, False, False, False, False, False,\n",
       "          False, False, False, False, False, False, False, False, False, False,\n",
       "          False, False, False, False, False, False, False, False, False, False,\n",
       "          False, False, False, False, False, False, False, False, False, False,\n",
       "          False, False, False, False, False, False, False, False, False, False,\n",
       "          False, False, False, False, False, False, False, False, False, False],\n",
       "         [ True,  True,  True,  True,  True,  True,  True,  True,  True,  True,\n",
       "           True,  True,  True,  True,  True,  True,  True,  True,  True,  True,\n",
       "           True,  True,  True,  True,  True,  True,  True,  True,  True,  True,\n",
       "           True,  True,  True,  True,  True,  True,  True,  True,  True,  True,\n",
       "           True,  True,  True,  True,  True,  True, False, False, False, False,\n",
       "          False, False, False, False, False, False, False, False, False, False,\n",
       "          False, False, False, False, False, False, False, False, False, False,\n",
       "          False, False, False, False, False, False, False, False, False, False,\n",
       "          False, False, False, False, False, False, False, False, False, False,\n",
       "          False, False, False, False, False, False, False, False, False, False],\n",
       "         [ True,  True,  True,  True,  True,  True,  True,  True,  True,  True,\n",
       "           True,  True,  True,  True,  True,  True,  True,  True,  True,  True,\n",
       "           True,  True,  True,  True,  True,  True,  True,  True,  True,  True,\n",
       "           True,  True,  True,  True,  True,  True,  True,  True,  True,  True,\n",
       "           True, False, False, False, False, False, False, False, False, False,\n",
       "          False, False, False, False, False, False, False, False, False, False,\n",
       "          False, False, False, False, False, False, False, False, False, False,\n",
       "          False, False, False, False, False, False, False, False, False, False,\n",
       "          False, False, False, False, False, False, False, False, False, False,\n",
       "          False, False, False, False, False, False, False, False, False, False]])}"
      ]
     },
     "execution_count": 12,
     "metadata": {},
     "output_type": "execute_result"
    }
   ],
   "source": [
    "task.val_data['active'][[0,1,2]]"
   ]
  },
  {
   "cell_type": "code",
   "execution_count": 19,
   "metadata": {},
   "outputs": [
    {
     "data": {
      "text/plain": [
       "1.3648224237920175"
      ]
     },
     "execution_count": 19,
     "metadata": {},
     "output_type": "execute_result"
    }
   ],
   "source": [
    "task.trainable_parameters()"
   ]
  },
  {
   "cell_type": "code",
   "execution_count": null,
   "metadata": {},
   "outputs": [],
   "source": []
  },
  {
   "cell_type": "code",
   "execution_count": 11,
   "metadata": {},
   "outputs": [],
   "source": [
    "X,Z = task.full_data.sample(0, 100, jr.PRNGKey(0), initial_state=0, reverse=False)"
   ]
  },
  {
   "cell_type": "code",
   "execution_count": 16,
   "metadata": {},
   "outputs": [],
   "source": [
    "ll, post = jax.vmap(task.full_data.filter, (0,None))(jnp.arange(len(task.full_data)), X)"
   ]
  },
  {
   "cell_type": "code",
   "execution_count": 36,
   "metadata": {},
   "outputs": [
    {
     "name": "stdout",
     "output_type": "stream",
     "text": [
      "number of parameters: 10.67M\n",
      "Loaded dataset : (11288/1000)\n"
     ]
    },
    {
     "name": "stderr",
     "output_type": "stream",
     "text": [
      "Seed set to 42\n"
     ]
    },
    {
     "name": "stdout",
     "output_type": "stream",
     "text": [
      "Loaded checkpoing : last.ckpt\n"
     ]
    }
   ],
   "source": [
    "task_ = FineTuningTask(\n",
    "    TuneConfig(\n",
    "        IDS[\"gpt\"],\n",
    "        method_config=ReftConfig(\n",
    "            reft_cls=\"loreft\",\n",
    "            low_rank_dimension=38,\n",
    "            layers=[1,2,3,4,5],\n",
    "            t_slice=(-1, None, -1),\n",
    "            component=\"output\",\n",
    "        ),\n",
    "        context_length=[50, 50],\n",
    "        constraints=[[1, 0], [2, 0], [4, 1], [6, 0], [7, 0]],\n",
    "        precompute_pp=False,\n",
    "        prefix_size=(20, 30),\n",
    "    )\n",
    ").cuda()"
   ]
  },
  {
   "cell_type": "code",
   "execution_count": 1,
   "metadata": {},
   "outputs": [
    {
     "ename": "NameError",
     "evalue": "name 'task_' is not defined",
     "output_type": "error",
     "traceback": [
      "\u001b[0;31m---------------------------------------------------------------------------\u001b[0m",
      "\u001b[0;31mNameError\u001b[0m                                 Traceback (most recent call last)",
      "Cell \u001b[0;32mIn[1], line 1\u001b[0m\n\u001b[0;32m----> 1\u001b[0m \u001b[43mtask_\u001b[49m\u001b[38;5;241m.\u001b[39mtrainable_parameters()\n",
      "\u001b[0;31mNameError\u001b[0m: name 'task_' is not defined"
     ]
    }
   ],
   "source": [
    "task_.trainable_parameters()"
   ]
  },
  {
   "cell_type": "code",
   "execution_count": 12,
   "metadata": {},
   "outputs": [
    {
     "name": "stderr",
     "output_type": "stream",
     "text": [
      "/home/mila/l/leo.gagnon/latent_control/venv/lib/python3.10/site-packages/lightning/fabric/plugins/environments/slurm.py:204: The `srun` command is available on your system but is not used. HINT: If your intention is to run Lightning on SLURM, prepend your python command with `srun` like so: srun python /home/mila/l/leo.gagnon/latent_control/venv/lib/pyth ...\n",
      "GPU available: True (cuda), used: True\n",
      "TPU available: False, using: 0 TPU cores\n",
      "HPU available: False, using: 0 HPUs\n"
     ]
    }
   ],
   "source": [
    "trainer = L.Trainer(\n",
    "    max_steps=100,\n",
    "    accelerator=\"gpu\",\n",
    "    enable_checkpointing=False,\n",
    "    val_check_interval=50,\n",
    "    reload_dataloaders_every_n_epochs=1,\n",
    "    check_val_every_n_epoch=None,\n",
    ")\n"
   ]
  },
  {
   "cell_type": "code",
   "execution_count": 9,
   "metadata": {},
   "outputs": [
    {
     "data": {
      "text/plain": [
       "[3, 4]"
      ]
     },
     "execution_count": 9,
     "metadata": {},
     "output_type": "execute_result"
    }
   ],
   "source": [
    "a[2:]"
   ]
  },
  {
   "cell_type": "code",
   "execution_count": 14,
   "metadata": {},
   "outputs": [
    {
     "name": "stderr",
     "output_type": "stream",
     "text": [
      "LOCAL_RANK: 0 - CUDA_VISIBLE_DEVICES: [0]\n"
     ]
    },
    {
     "data": {
      "application/vnd.jupyter.widget-view+json": {
       "model_id": "93b8fcd0b98047c5aa708ce06444961d",
       "version_major": 2,
       "version_minor": 0
      },
      "text/plain": [
       "Validation: |          | 0/? [00:00<?, ?it/s]"
      ]
     },
     "metadata": {},
     "output_type": "display_data"
    },
    {
     "ename": "TypeError",
     "evalue": "Value tensor([[[1.9174e-02, 2.6560e-02, 4.5194e-02,  ..., 5.4514e-02,\n          2.2838e-09, 1.9569e-02],\n         [1.4564e-02, 4.0358e-02, 4.0078e-02,  ..., 4.8599e-02,\n          5.9689e-09, 1.5103e-02],\n         [1.2690e-02, 2.6822e-02, 2.3469e-02,  ..., 6.8580e-02,\n          2.8950e-09, 9.5245e-03],\n         ...,\n         [2.7115e-06, 9.8005e-05, 1.3789e-04,  ..., 2.9430e-01,\n          5.7882e-13, 6.1608e-06],\n         [3.5186e-05, 6.2952e-05, 5.1571e-05,  ..., 9.4688e-05,\n          1.8738e-13, 4.9644e-06],\n         [8.5529e-06, 9.5159e-02, 2.4027e-04,  ..., 9.2709e-02,\n          3.6596e-10, 2.7373e-06]],\n\n        [[2.0950e-02, 2.1483e-02, 4.4785e-02,  ..., 5.4023e-02,\n          2.9649e-09, 2.3713e-02],\n         [2.1291e-02, 2.2868e-02, 3.0923e-02,  ..., 6.8691e-02,\n          4.7840e-09, 1.9565e-02],\n         [2.0915e-02, 2.3794e-02, 1.6109e-02,  ..., 5.5939e-02,\n          5.0300e-09, 8.8109e-03],\n         ...,\n         [2.6737e-06, 2.5817e-07, 9.6727e-06,  ..., 4.5229e-06,\n          1.0271e-09, 3.6825e-05],\n         [4.2947e-06, 1.9290e-07, 6.6203e-05,  ..., 2.0057e-05,\n          7.2850e-11, 2.0377e-01],\n         [1.8919e-05, 2.4311e-06, 8.8345e-05,  ..., 3.0740e-05,\n          1.0531e-11, 5.6519e-06]],\n\n        [[1.9668e-02, 2.3582e-02, 4.6225e-02,  ..., 5.4561e-02,\n          2.8186e-09, 2.1162e-02],\n         [2.0969e-02, 3.7178e-02, 5.3266e-02,  ..., 6.0167e-02,\n          5.2073e-09, 2.1049e-02],\n         [2.8139e-02, 3.7404e-02, 4.6327e-02,  ..., 3.1087e-02,\n          2.6473e-09, 1.9235e-02],\n         ...,\n         [1.3234e-05, 2.8341e-04, 4.1150e-02,  ..., 9.0430e-05,\n          1.5525e-12, 2.5218e-03],\n         [1.2358e-05, 8.7787e-05, 3.5949e-04,  ..., 1.5446e-05,\n          4.2772e-12, 2.4916e-02],\n         [9.4176e-07, 3.3287e-06, 1.5769e-01,  ..., 1.4881e-05,\n          6.3276e-14, 1.8673e-01]],\n\n        ...,\n\n        [[1.8921e-02, 2.4365e-02, 4.8002e-02,  ..., 5.5138e-02,\n          2.5762e-09, 2.1106e-02],\n         [2.3877e-02, 1.6189e-02, 5.1566e-02,  ..., 4.7266e-02,\n          8.8084e-09, 2.8043e-02],\n         [2.3332e-02, 2.5902e-02, 6.7285e-02,  ..., 7.0317e-02,\n          6.1862e-09, 1.9395e-02],\n         ...,\n         [1.0192e-05, 3.3500e-07, 7.8997e-06,  ..., 9.8356e-06,\n          6.9102e-12, 1.7064e-05],\n         [1.0156e-05, 1.1295e-06, 2.0375e-04,  ..., 7.8312e-02,\n          3.4963e-11, 4.3424e-04],\n         [3.6014e-05, 8.0793e-02, 4.4379e-02,  ..., 2.9574e-01,\n          3.3626e-11, 1.2625e-04]],\n\n        [[2.0272e-02, 2.3319e-02, 4.5782e-02,  ..., 5.4267e-02,\n          2.3438e-09, 2.0578e-02],\n         [2.0668e-02, 2.3595e-02, 2.6678e-02,  ..., 5.2862e-02,\n          6.1635e-09, 1.6644e-02],\n         [8.4011e-03, 1.8184e-02, 2.0417e-02,  ..., 1.6443e-02,\n          1.7011e-09, 4.2853e-02],\n         ...,\n         [1.5492e-05, 7.4546e-03, 1.5715e-01,  ..., 2.6162e-05,\n          1.4576e-11, 7.3393e-05],\n         [9.2018e-05, 1.6536e-04, 1.0531e-03,  ..., 6.5021e-02,\n          6.4394e-12, 7.5865e-04],\n         [4.9044e-04, 3.4801e-02, 2.1611e-02,  ..., 3.3428e-04,\n          6.6554e-11, 1.1776e-03]],\n\n        [[2.0160e-02, 2.4156e-02, 4.8806e-02,  ..., 5.8413e-02,\n          2.0593e-09, 2.0501e-02],\n         [2.1545e-02, 3.2226e-02, 6.1706e-02,  ..., 5.7003e-02,\n          3.5187e-09, 2.5998e-02],\n         [1.0295e-02, 3.4377e-02, 2.8129e-02,  ..., 7.1482e-02,\n          2.0135e-09, 5.2347e-03],\n         ...,\n         [3.9240e-06, 2.2387e-04, 3.2110e-04,  ..., 1.6583e-03,\n          9.2919e-11, 7.7929e-06],\n         [1.7546e-05, 1.4775e-01, 2.4956e-04,  ..., 6.4217e-02,\n          3.8595e-10, 7.5782e-07],\n         [6.5811e-02, 4.9634e-02, 3.5523e-04,  ..., 2.4797e-01,\n          7.1041e-11, 5.1264e-05]]], device='cuda:0') with type <class 'torch.Tensor'> is not a valid JAX type",
     "output_type": "error",
     "traceback": [
      "\u001b[0;31m---------------------------------------------------------------------------\u001b[0m",
      "\u001b[0;31mTypeError\u001b[0m                                 Traceback (most recent call last)",
      "Cell \u001b[0;32mIn[14], line 1\u001b[0m\n\u001b[0;32m----> 1\u001b[0m \u001b[43mtrainer\u001b[49m\u001b[38;5;241;43m.\u001b[39;49m\u001b[43mvalidate\u001b[49m\u001b[43m(\u001b[49m\u001b[43mtask\u001b[49m\u001b[43m)\u001b[49m\n",
      "File \u001b[0;32m~/latent_control/venv/lib/python3.10/site-packages/lightning/pytorch/trainer/trainer.py:639\u001b[0m, in \u001b[0;36mTrainer.validate\u001b[0;34m(self, model, dataloaders, ckpt_path, verbose, datamodule)\u001b[0m\n\u001b[1;32m    637\u001b[0m \u001b[38;5;28mself\u001b[39m\u001b[38;5;241m.\u001b[39mstate\u001b[38;5;241m.\u001b[39mstatus \u001b[38;5;241m=\u001b[39m TrainerStatus\u001b[38;5;241m.\u001b[39mRUNNING\n\u001b[1;32m    638\u001b[0m \u001b[38;5;28mself\u001b[39m\u001b[38;5;241m.\u001b[39mvalidating \u001b[38;5;241m=\u001b[39m \u001b[38;5;28;01mTrue\u001b[39;00m\n\u001b[0;32m--> 639\u001b[0m \u001b[38;5;28;01mreturn\u001b[39;00m \u001b[43mcall\u001b[49m\u001b[38;5;241;43m.\u001b[39;49m\u001b[43m_call_and_handle_interrupt\u001b[49m\u001b[43m(\u001b[49m\n\u001b[1;32m    640\u001b[0m \u001b[43m    \u001b[49m\u001b[38;5;28;43mself\u001b[39;49m\u001b[43m,\u001b[49m\u001b[43m \u001b[49m\u001b[38;5;28;43mself\u001b[39;49m\u001b[38;5;241;43m.\u001b[39;49m\u001b[43m_validate_impl\u001b[49m\u001b[43m,\u001b[49m\u001b[43m \u001b[49m\u001b[43mmodel\u001b[49m\u001b[43m,\u001b[49m\u001b[43m \u001b[49m\u001b[43mdataloaders\u001b[49m\u001b[43m,\u001b[49m\u001b[43m \u001b[49m\u001b[43mckpt_path\u001b[49m\u001b[43m,\u001b[49m\u001b[43m \u001b[49m\u001b[43mverbose\u001b[49m\u001b[43m,\u001b[49m\u001b[43m \u001b[49m\u001b[43mdatamodule\u001b[49m\n\u001b[1;32m    641\u001b[0m \u001b[43m\u001b[49m\u001b[43m)\u001b[49m\n",
      "File \u001b[0;32m~/latent_control/venv/lib/python3.10/site-packages/lightning/pytorch/trainer/call.py:47\u001b[0m, in \u001b[0;36m_call_and_handle_interrupt\u001b[0;34m(trainer, trainer_fn, *args, **kwargs)\u001b[0m\n\u001b[1;32m     45\u001b[0m     \u001b[38;5;28;01mif\u001b[39;00m trainer\u001b[38;5;241m.\u001b[39mstrategy\u001b[38;5;241m.\u001b[39mlauncher \u001b[38;5;129;01mis\u001b[39;00m \u001b[38;5;129;01mnot\u001b[39;00m \u001b[38;5;28;01mNone\u001b[39;00m:\n\u001b[1;32m     46\u001b[0m         \u001b[38;5;28;01mreturn\u001b[39;00m trainer\u001b[38;5;241m.\u001b[39mstrategy\u001b[38;5;241m.\u001b[39mlauncher\u001b[38;5;241m.\u001b[39mlaunch(trainer_fn, \u001b[38;5;241m*\u001b[39margs, trainer\u001b[38;5;241m=\u001b[39mtrainer, \u001b[38;5;241m*\u001b[39m\u001b[38;5;241m*\u001b[39mkwargs)\n\u001b[0;32m---> 47\u001b[0m     \u001b[38;5;28;01mreturn\u001b[39;00m \u001b[43mtrainer_fn\u001b[49m\u001b[43m(\u001b[49m\u001b[38;5;241;43m*\u001b[39;49m\u001b[43margs\u001b[49m\u001b[43m,\u001b[49m\u001b[43m \u001b[49m\u001b[38;5;241;43m*\u001b[39;49m\u001b[38;5;241;43m*\u001b[39;49m\u001b[43mkwargs\u001b[49m\u001b[43m)\u001b[49m\n\u001b[1;32m     49\u001b[0m \u001b[38;5;28;01mexcept\u001b[39;00m _TunerExitException:\n\u001b[1;32m     50\u001b[0m     _call_teardown_hook(trainer)\n",
      "File \u001b[0;32m~/latent_control/venv/lib/python3.10/site-packages/lightning/pytorch/trainer/trainer.py:679\u001b[0m, in \u001b[0;36mTrainer._validate_impl\u001b[0;34m(self, model, dataloaders, ckpt_path, verbose, datamodule)\u001b[0m\n\u001b[1;32m    675\u001b[0m \u001b[38;5;28;01massert\u001b[39;00m \u001b[38;5;28mself\u001b[39m\u001b[38;5;241m.\u001b[39mstate\u001b[38;5;241m.\u001b[39mfn \u001b[38;5;129;01mis\u001b[39;00m \u001b[38;5;129;01mnot\u001b[39;00m \u001b[38;5;28;01mNone\u001b[39;00m\n\u001b[1;32m    676\u001b[0m ckpt_path \u001b[38;5;241m=\u001b[39m \u001b[38;5;28mself\u001b[39m\u001b[38;5;241m.\u001b[39m_checkpoint_connector\u001b[38;5;241m.\u001b[39m_select_ckpt_path(\n\u001b[1;32m    677\u001b[0m     \u001b[38;5;28mself\u001b[39m\u001b[38;5;241m.\u001b[39mstate\u001b[38;5;241m.\u001b[39mfn, ckpt_path, model_provided\u001b[38;5;241m=\u001b[39mmodel_provided, model_connected\u001b[38;5;241m=\u001b[39m\u001b[38;5;28mself\u001b[39m\u001b[38;5;241m.\u001b[39mlightning_module \u001b[38;5;129;01mis\u001b[39;00m \u001b[38;5;129;01mnot\u001b[39;00m \u001b[38;5;28;01mNone\u001b[39;00m\n\u001b[1;32m    678\u001b[0m )\n\u001b[0;32m--> 679\u001b[0m results \u001b[38;5;241m=\u001b[39m \u001b[38;5;28;43mself\u001b[39;49m\u001b[38;5;241;43m.\u001b[39;49m\u001b[43m_run\u001b[49m\u001b[43m(\u001b[49m\u001b[43mmodel\u001b[49m\u001b[43m,\u001b[49m\u001b[43m \u001b[49m\u001b[43mckpt_path\u001b[49m\u001b[38;5;241;43m=\u001b[39;49m\u001b[43mckpt_path\u001b[49m\u001b[43m)\u001b[49m\n\u001b[1;32m    680\u001b[0m \u001b[38;5;66;03m# remove the tensors from the validation results\u001b[39;00m\n\u001b[1;32m    681\u001b[0m results \u001b[38;5;241m=\u001b[39m convert_tensors_to_scalars(results)\n",
      "File \u001b[0;32m~/latent_control/venv/lib/python3.10/site-packages/lightning/pytorch/trainer/trainer.py:981\u001b[0m, in \u001b[0;36mTrainer._run\u001b[0;34m(self, model, ckpt_path)\u001b[0m\n\u001b[1;32m    976\u001b[0m \u001b[38;5;28mself\u001b[39m\u001b[38;5;241m.\u001b[39m_signal_connector\u001b[38;5;241m.\u001b[39mregister_signal_handlers()\n\u001b[1;32m    978\u001b[0m \u001b[38;5;66;03m# ----------------------------\u001b[39;00m\n\u001b[1;32m    979\u001b[0m \u001b[38;5;66;03m# RUN THE TRAINER\u001b[39;00m\n\u001b[1;32m    980\u001b[0m \u001b[38;5;66;03m# ----------------------------\u001b[39;00m\n\u001b[0;32m--> 981\u001b[0m results \u001b[38;5;241m=\u001b[39m \u001b[38;5;28;43mself\u001b[39;49m\u001b[38;5;241;43m.\u001b[39;49m\u001b[43m_run_stage\u001b[49m\u001b[43m(\u001b[49m\u001b[43m)\u001b[49m\n\u001b[1;32m    983\u001b[0m \u001b[38;5;66;03m# ----------------------------\u001b[39;00m\n\u001b[1;32m    984\u001b[0m \u001b[38;5;66;03m# POST-Training CLEAN UP\u001b[39;00m\n\u001b[1;32m    985\u001b[0m \u001b[38;5;66;03m# ----------------------------\u001b[39;00m\n\u001b[1;32m    986\u001b[0m log\u001b[38;5;241m.\u001b[39mdebug(\u001b[38;5;124mf\u001b[39m\u001b[38;5;124m\"\u001b[39m\u001b[38;5;132;01m{\u001b[39;00m\u001b[38;5;28mself\u001b[39m\u001b[38;5;241m.\u001b[39m\u001b[38;5;18m__class__\u001b[39m\u001b[38;5;241m.\u001b[39m\u001b[38;5;18m__name__\u001b[39m\u001b[38;5;132;01m}\u001b[39;00m\u001b[38;5;124m: trainer tearing down\u001b[39m\u001b[38;5;124m\"\u001b[39m)\n",
      "File \u001b[0;32m~/latent_control/venv/lib/python3.10/site-packages/lightning/pytorch/trainer/trainer.py:1018\u001b[0m, in \u001b[0;36mTrainer._run_stage\u001b[0;34m(self)\u001b[0m\n\u001b[1;32m   1015\u001b[0m \u001b[38;5;28mself\u001b[39m\u001b[38;5;241m.\u001b[39mlightning_module\u001b[38;5;241m.\u001b[39mzero_grad()\n\u001b[1;32m   1017\u001b[0m \u001b[38;5;28;01mif\u001b[39;00m \u001b[38;5;28mself\u001b[39m\u001b[38;5;241m.\u001b[39mevaluating:\n\u001b[0;32m-> 1018\u001b[0m     \u001b[38;5;28;01mreturn\u001b[39;00m \u001b[38;5;28;43mself\u001b[39;49m\u001b[38;5;241;43m.\u001b[39;49m\u001b[43m_evaluation_loop\u001b[49m\u001b[38;5;241;43m.\u001b[39;49m\u001b[43mrun\u001b[49m\u001b[43m(\u001b[49m\u001b[43m)\u001b[49m\n\u001b[1;32m   1019\u001b[0m \u001b[38;5;28;01mif\u001b[39;00m \u001b[38;5;28mself\u001b[39m\u001b[38;5;241m.\u001b[39mpredicting:\n\u001b[1;32m   1020\u001b[0m     \u001b[38;5;28;01mreturn\u001b[39;00m \u001b[38;5;28mself\u001b[39m\u001b[38;5;241m.\u001b[39mpredict_loop\u001b[38;5;241m.\u001b[39mrun()\n",
      "File \u001b[0;32m~/latent_control/venv/lib/python3.10/site-packages/lightning/pytorch/loops/utilities.py:178\u001b[0m, in \u001b[0;36m_no_grad_context.<locals>._decorator\u001b[0;34m(self, *args, **kwargs)\u001b[0m\n\u001b[1;32m    176\u001b[0m     context_manager \u001b[38;5;241m=\u001b[39m torch\u001b[38;5;241m.\u001b[39mno_grad\n\u001b[1;32m    177\u001b[0m \u001b[38;5;28;01mwith\u001b[39;00m context_manager():\n\u001b[0;32m--> 178\u001b[0m     \u001b[38;5;28;01mreturn\u001b[39;00m \u001b[43mloop_run\u001b[49m\u001b[43m(\u001b[49m\u001b[38;5;28;43mself\u001b[39;49m\u001b[43m,\u001b[49m\u001b[43m \u001b[49m\u001b[38;5;241;43m*\u001b[39;49m\u001b[43margs\u001b[49m\u001b[43m,\u001b[49m\u001b[43m \u001b[49m\u001b[38;5;241;43m*\u001b[39;49m\u001b[38;5;241;43m*\u001b[39;49m\u001b[43mkwargs\u001b[49m\u001b[43m)\u001b[49m\n",
      "File \u001b[0;32m~/latent_control/venv/lib/python3.10/site-packages/lightning/pytorch/loops/evaluation_loop.py:135\u001b[0m, in \u001b[0;36m_EvaluationLoop.run\u001b[0;34m(self)\u001b[0m\n\u001b[1;32m    133\u001b[0m     \u001b[38;5;28mself\u001b[39m\u001b[38;5;241m.\u001b[39mbatch_progress\u001b[38;5;241m.\u001b[39mis_last_batch \u001b[38;5;241m=\u001b[39m data_fetcher\u001b[38;5;241m.\u001b[39mdone\n\u001b[1;32m    134\u001b[0m     \u001b[38;5;66;03m# run step hooks\u001b[39;00m\n\u001b[0;32m--> 135\u001b[0m     \u001b[38;5;28;43mself\u001b[39;49m\u001b[38;5;241;43m.\u001b[39;49m\u001b[43m_evaluation_step\u001b[49m\u001b[43m(\u001b[49m\u001b[43mbatch\u001b[49m\u001b[43m,\u001b[49m\u001b[43m \u001b[49m\u001b[43mbatch_idx\u001b[49m\u001b[43m,\u001b[49m\u001b[43m \u001b[49m\u001b[43mdataloader_idx\u001b[49m\u001b[43m,\u001b[49m\u001b[43m \u001b[49m\u001b[43mdataloader_iter\u001b[49m\u001b[43m)\u001b[49m\n\u001b[1;32m    136\u001b[0m \u001b[38;5;28;01mexcept\u001b[39;00m \u001b[38;5;167;01mStopIteration\u001b[39;00m:\n\u001b[1;32m    137\u001b[0m     \u001b[38;5;66;03m# this needs to wrap the `*_step` call too (not just `next`) for `dataloader_iter` support\u001b[39;00m\n\u001b[1;32m    138\u001b[0m     \u001b[38;5;28;01mbreak\u001b[39;00m\n",
      "File \u001b[0;32m~/latent_control/venv/lib/python3.10/site-packages/lightning/pytorch/loops/evaluation_loop.py:396\u001b[0m, in \u001b[0;36m_EvaluationLoop._evaluation_step\u001b[0;34m(self, batch, batch_idx, dataloader_idx, dataloader_iter)\u001b[0m\n\u001b[1;32m    390\u001b[0m hook_name \u001b[38;5;241m=\u001b[39m \u001b[38;5;124m\"\u001b[39m\u001b[38;5;124mtest_step\u001b[39m\u001b[38;5;124m\"\u001b[39m \u001b[38;5;28;01mif\u001b[39;00m trainer\u001b[38;5;241m.\u001b[39mtesting \u001b[38;5;28;01melse\u001b[39;00m \u001b[38;5;124m\"\u001b[39m\u001b[38;5;124mvalidation_step\u001b[39m\u001b[38;5;124m\"\u001b[39m\n\u001b[1;32m    391\u001b[0m step_args \u001b[38;5;241m=\u001b[39m (\n\u001b[1;32m    392\u001b[0m     \u001b[38;5;28mself\u001b[39m\u001b[38;5;241m.\u001b[39m_build_step_args_from_hook_kwargs(hook_kwargs, hook_name)\n\u001b[1;32m    393\u001b[0m     \u001b[38;5;28;01mif\u001b[39;00m \u001b[38;5;129;01mnot\u001b[39;00m using_dataloader_iter\n\u001b[1;32m    394\u001b[0m     \u001b[38;5;28;01melse\u001b[39;00m (dataloader_iter,)\n\u001b[1;32m    395\u001b[0m )\n\u001b[0;32m--> 396\u001b[0m output \u001b[38;5;241m=\u001b[39m \u001b[43mcall\u001b[49m\u001b[38;5;241;43m.\u001b[39;49m\u001b[43m_call_strategy_hook\u001b[49m\u001b[43m(\u001b[49m\u001b[43mtrainer\u001b[49m\u001b[43m,\u001b[49m\u001b[43m \u001b[49m\u001b[43mhook_name\u001b[49m\u001b[43m,\u001b[49m\u001b[43m \u001b[49m\u001b[38;5;241;43m*\u001b[39;49m\u001b[43mstep_args\u001b[49m\u001b[43m)\u001b[49m\n\u001b[1;32m    398\u001b[0m \u001b[38;5;28mself\u001b[39m\u001b[38;5;241m.\u001b[39mbatch_progress\u001b[38;5;241m.\u001b[39mincrement_processed()\n\u001b[1;32m    400\u001b[0m \u001b[38;5;28;01mif\u001b[39;00m using_dataloader_iter:\n\u001b[1;32m    401\u001b[0m     \u001b[38;5;66;03m# update the hook kwargs now that the step method might have consumed the iterator\u001b[39;00m\n",
      "File \u001b[0;32m~/latent_control/venv/lib/python3.10/site-packages/lightning/pytorch/trainer/call.py:319\u001b[0m, in \u001b[0;36m_call_strategy_hook\u001b[0;34m(trainer, hook_name, *args, **kwargs)\u001b[0m\n\u001b[1;32m    316\u001b[0m     \u001b[38;5;28;01mreturn\u001b[39;00m \u001b[38;5;28;01mNone\u001b[39;00m\n\u001b[1;32m    318\u001b[0m \u001b[38;5;28;01mwith\u001b[39;00m trainer\u001b[38;5;241m.\u001b[39mprofiler\u001b[38;5;241m.\u001b[39mprofile(\u001b[38;5;124mf\u001b[39m\u001b[38;5;124m\"\u001b[39m\u001b[38;5;124m[Strategy]\u001b[39m\u001b[38;5;132;01m{\u001b[39;00mtrainer\u001b[38;5;241m.\u001b[39mstrategy\u001b[38;5;241m.\u001b[39m\u001b[38;5;18m__class__\u001b[39m\u001b[38;5;241m.\u001b[39m\u001b[38;5;18m__name__\u001b[39m\u001b[38;5;132;01m}\u001b[39;00m\u001b[38;5;124m.\u001b[39m\u001b[38;5;132;01m{\u001b[39;00mhook_name\u001b[38;5;132;01m}\u001b[39;00m\u001b[38;5;124m\"\u001b[39m):\n\u001b[0;32m--> 319\u001b[0m     output \u001b[38;5;241m=\u001b[39m \u001b[43mfn\u001b[49m\u001b[43m(\u001b[49m\u001b[38;5;241;43m*\u001b[39;49m\u001b[43margs\u001b[49m\u001b[43m,\u001b[49m\u001b[43m \u001b[49m\u001b[38;5;241;43m*\u001b[39;49m\u001b[38;5;241;43m*\u001b[39;49m\u001b[43mkwargs\u001b[49m\u001b[43m)\u001b[49m\n\u001b[1;32m    321\u001b[0m \u001b[38;5;66;03m# restore current_fx when nested context\u001b[39;00m\n\u001b[1;32m    322\u001b[0m pl_module\u001b[38;5;241m.\u001b[39m_current_fx_name \u001b[38;5;241m=\u001b[39m prev_fx_name\n",
      "File \u001b[0;32m~/latent_control/venv/lib/python3.10/site-packages/lightning/pytorch/strategies/strategy.py:411\u001b[0m, in \u001b[0;36mStrategy.validation_step\u001b[0;34m(self, *args, **kwargs)\u001b[0m\n\u001b[1;32m    409\u001b[0m \u001b[38;5;28;01mif\u001b[39;00m \u001b[38;5;28mself\u001b[39m\u001b[38;5;241m.\u001b[39mmodel \u001b[38;5;241m!=\u001b[39m \u001b[38;5;28mself\u001b[39m\u001b[38;5;241m.\u001b[39mlightning_module:\n\u001b[1;32m    410\u001b[0m     \u001b[38;5;28;01mreturn\u001b[39;00m \u001b[38;5;28mself\u001b[39m\u001b[38;5;241m.\u001b[39m_forward_redirection(\u001b[38;5;28mself\u001b[39m\u001b[38;5;241m.\u001b[39mmodel, \u001b[38;5;28mself\u001b[39m\u001b[38;5;241m.\u001b[39mlightning_module, \u001b[38;5;124m\"\u001b[39m\u001b[38;5;124mvalidation_step\u001b[39m\u001b[38;5;124m\"\u001b[39m, \u001b[38;5;241m*\u001b[39margs, \u001b[38;5;241m*\u001b[39m\u001b[38;5;241m*\u001b[39mkwargs)\n\u001b[0;32m--> 411\u001b[0m \u001b[38;5;28;01mreturn\u001b[39;00m \u001b[38;5;28;43mself\u001b[39;49m\u001b[38;5;241;43m.\u001b[39;49m\u001b[43mlightning_module\u001b[49m\u001b[38;5;241;43m.\u001b[39;49m\u001b[43mvalidation_step\u001b[49m\u001b[43m(\u001b[49m\u001b[38;5;241;43m*\u001b[39;49m\u001b[43margs\u001b[49m\u001b[43m,\u001b[49m\u001b[43m \u001b[49m\u001b[38;5;241;43m*\u001b[39;49m\u001b[38;5;241;43m*\u001b[39;49m\u001b[43mkwargs\u001b[49m\u001b[43m)\u001b[49m\n",
      "File \u001b[0;32m~/latent_control/task.py:723\u001b[0m, in \u001b[0;36mFineTuningTask.validation_step\u001b[0;34m(self, batch, batch_idx, dataloader_idx)\u001b[0m\n\u001b[1;32m    719\u001b[0m \u001b[38;5;28;01mif\u001b[39;00m pad_mask \u001b[38;5;129;01mis\u001b[39;00m \u001b[38;5;129;01mnot\u001b[39;00m \u001b[38;5;28;01mNone\u001b[39;00m:\n\u001b[1;32m    720\u001b[0m     probs \u001b[38;5;241m=\u001b[39m torch\u001b[38;5;241m.\u001b[39msoftmax(logits, dim\u001b[38;5;241m=\u001b[39m\u001b[38;5;241m-\u001b[39m\u001b[38;5;241m1\u001b[39m)[\n\u001b[1;32m    721\u001b[0m         \u001b[38;5;241m.\u001b[39m\u001b[38;5;241m.\u001b[39m\u001b[38;5;241m.\u001b[39m, : \u001b[38;5;28mself\u001b[39m\u001b[38;5;241m.\u001b[39mfull_data\u001b[38;5;241m.\u001b[39mcfg\u001b[38;5;241m.\u001b[39mn_obs\n\u001b[1;32m    722\u001b[0m     ]\n\u001b[0;32m--> 723\u001b[0m     b_kl \u001b[38;5;241m=\u001b[39m jax\u001b[38;5;241m.\u001b[39mvmap(jax\u001b[38;5;241m.\u001b[39mvmap(jax\u001b[38;5;241m.\u001b[39mscipy\u001b[38;5;241m.\u001b[39mspecial\u001b[38;5;241m.\u001b[39mrel_entr, (\u001b[38;5;241m0\u001b[39m, \u001b[38;5;241m0\u001b[39m)), (\u001b[38;5;241m0\u001b[39m, \u001b[38;5;241m0\u001b[39m))(\n\u001b[1;32m    724\u001b[0m         t2j(probs), t2j(oracle_pp_ft)[:, \u001b[38;5;241m1\u001b[39m:\u001b[38;5;241m-\u001b[39m\u001b[38;5;241m1\u001b[39m] \u001b[38;5;66;03m# Remove first prediction cuz we don't use BOS\u001b[39;00m\n\u001b[1;32m    725\u001b[0m     )\u001b[38;5;241m.\u001b[39msum(\u001b[38;5;241m-\u001b[39m\u001b[38;5;241m1\u001b[39m)\n\u001b[1;32m    727\u001b[0m     plt\u001b[38;5;241m.\u001b[39mplot(b_kl\u001b[38;5;241m.\u001b[39mmean(\u001b[38;5;241m0\u001b[39m))\n\u001b[1;32m    728\u001b[0m     plt\u001b[38;5;241m.\u001b[39mylabel(\u001b[38;5;124m\"\u001b[39m\u001b[38;5;124mBackward KL\u001b[39m\u001b[38;5;124m\"\u001b[39m)\n",
      "    \u001b[0;31m[... skipping hidden 9 frame]\u001b[0m\n",
      "File \u001b[0;32m~/latent_control/venv/lib/python3.10/site-packages/numpy/_core/fromnumeric.py:2170\u001b[0m, in \u001b[0;36mshape\u001b[0;34m(a)\u001b[0m\n\u001b[1;32m   2129\u001b[0m \u001b[38;5;250m\u001b[39m\u001b[38;5;124;03m\"\"\"\u001b[39;00m\n\u001b[1;32m   2130\u001b[0m \u001b[38;5;124;03mReturn the shape of an array.\u001b[39;00m\n\u001b[1;32m   2131\u001b[0m \n\u001b[0;32m   (...)\u001b[0m\n\u001b[1;32m   2167\u001b[0m \n\u001b[1;32m   2168\u001b[0m \u001b[38;5;124;03m\"\"\"\u001b[39;00m\n\u001b[1;32m   2169\u001b[0m \u001b[38;5;28;01mtry\u001b[39;00m:\n\u001b[0;32m-> 2170\u001b[0m     result \u001b[38;5;241m=\u001b[39m \u001b[43ma\u001b[49m\u001b[38;5;241;43m.\u001b[39;49m\u001b[43mshape\u001b[49m\n\u001b[1;32m   2171\u001b[0m \u001b[38;5;28;01mexcept\u001b[39;00m \u001b[38;5;167;01mAttributeError\u001b[39;00m:\n\u001b[1;32m   2172\u001b[0m     result \u001b[38;5;241m=\u001b[39m asarray(a)\u001b[38;5;241m.\u001b[39mshape\n",
      "    \u001b[0;31m[... skipping hidden 3 frame]\u001b[0m\n",
      "File \u001b[0;32m~/latent_control/venv/lib/python3.10/site-packages/jax/_src/core.py:1518\u001b[0m, in \u001b[0;36mconcrete_aval\u001b[0;34m(x)\u001b[0m\n\u001b[1;32m   1516\u001b[0m \u001b[38;5;28;01mif\u001b[39;00m \u001b[38;5;28mhasattr\u001b[39m(x, \u001b[38;5;124m'\u001b[39m\u001b[38;5;124m__jax_array__\u001b[39m\u001b[38;5;124m'\u001b[39m):\n\u001b[1;32m   1517\u001b[0m   \u001b[38;5;28;01mreturn\u001b[39;00m concrete_aval(x\u001b[38;5;241m.\u001b[39m__jax_array__())\n\u001b[0;32m-> 1518\u001b[0m \u001b[38;5;28;01mraise\u001b[39;00m \u001b[38;5;167;01mTypeError\u001b[39;00m(\u001b[38;5;124mf\u001b[39m\u001b[38;5;124m\"\u001b[39m\u001b[38;5;124mValue \u001b[39m\u001b[38;5;132;01m{\u001b[39;00mx\u001b[38;5;132;01m!r}\u001b[39;00m\u001b[38;5;124m with type \u001b[39m\u001b[38;5;132;01m{\u001b[39;00m\u001b[38;5;28mtype\u001b[39m(x)\u001b[38;5;132;01m}\u001b[39;00m\u001b[38;5;124m is not a valid JAX \u001b[39m\u001b[38;5;124m\"\u001b[39m\n\u001b[1;32m   1519\u001b[0m                  \u001b[38;5;124m\"\u001b[39m\u001b[38;5;124mtype\u001b[39m\u001b[38;5;124m\"\u001b[39m)\n",
      "\u001b[0;31mTypeError\u001b[0m: Value tensor([[[1.9174e-02, 2.6560e-02, 4.5194e-02,  ..., 5.4514e-02,\n          2.2838e-09, 1.9569e-02],\n         [1.4564e-02, 4.0358e-02, 4.0078e-02,  ..., 4.8599e-02,\n          5.9689e-09, 1.5103e-02],\n         [1.2690e-02, 2.6822e-02, 2.3469e-02,  ..., 6.8580e-02,\n          2.8950e-09, 9.5245e-03],\n         ...,\n         [2.7115e-06, 9.8005e-05, 1.3789e-04,  ..., 2.9430e-01,\n          5.7882e-13, 6.1608e-06],\n         [3.5186e-05, 6.2952e-05, 5.1571e-05,  ..., 9.4688e-05,\n          1.8738e-13, 4.9644e-06],\n         [8.5529e-06, 9.5159e-02, 2.4027e-04,  ..., 9.2709e-02,\n          3.6596e-10, 2.7373e-06]],\n\n        [[2.0950e-02, 2.1483e-02, 4.4785e-02,  ..., 5.4023e-02,\n          2.9649e-09, 2.3713e-02],\n         [2.1291e-02, 2.2868e-02, 3.0923e-02,  ..., 6.8691e-02,\n          4.7840e-09, 1.9565e-02],\n         [2.0915e-02, 2.3794e-02, 1.6109e-02,  ..., 5.5939e-02,\n          5.0300e-09, 8.8109e-03],\n         ...,\n         [2.6737e-06, 2.5817e-07, 9.6727e-06,  ..., 4.5229e-06,\n          1.0271e-09, 3.6825e-05],\n         [4.2947e-06, 1.9290e-07, 6.6203e-05,  ..., 2.0057e-05,\n          7.2850e-11, 2.0377e-01],\n         [1.8919e-05, 2.4311e-06, 8.8345e-05,  ..., 3.0740e-05,\n          1.0531e-11, 5.6519e-06]],\n\n        [[1.9668e-02, 2.3582e-02, 4.6225e-02,  ..., 5.4561e-02,\n          2.8186e-09, 2.1162e-02],\n         [2.0969e-02, 3.7178e-02, 5.3266e-02,  ..., 6.0167e-02,\n          5.2073e-09, 2.1049e-02],\n         [2.8139e-02, 3.7404e-02, 4.6327e-02,  ..., 3.1087e-02,\n          2.6473e-09, 1.9235e-02],\n         ...,\n         [1.3234e-05, 2.8341e-04, 4.1150e-02,  ..., 9.0430e-05,\n          1.5525e-12, 2.5218e-03],\n         [1.2358e-05, 8.7787e-05, 3.5949e-04,  ..., 1.5446e-05,\n          4.2772e-12, 2.4916e-02],\n         [9.4176e-07, 3.3287e-06, 1.5769e-01,  ..., 1.4881e-05,\n          6.3276e-14, 1.8673e-01]],\n\n        ...,\n\n        [[1.8921e-02, 2.4365e-02, 4.8002e-02,  ..., 5.5138e-02,\n          2.5762e-09, 2.1106e-02],\n         [2.3877e-02, 1.6189e-02, 5.1566e-02,  ..., 4.7266e-02,\n          8.8084e-09, 2.8043e-02],\n         [2.3332e-02, 2.5902e-02, 6.7285e-02,  ..., 7.0317e-02,\n          6.1862e-09, 1.9395e-02],\n         ...,\n         [1.0192e-05, 3.3500e-07, 7.8997e-06,  ..., 9.8356e-06,\n          6.9102e-12, 1.7064e-05],\n         [1.0156e-05, 1.1295e-06, 2.0375e-04,  ..., 7.8312e-02,\n          3.4963e-11, 4.3424e-04],\n         [3.6014e-05, 8.0793e-02, 4.4379e-02,  ..., 2.9574e-01,\n          3.3626e-11, 1.2625e-04]],\n\n        [[2.0272e-02, 2.3319e-02, 4.5782e-02,  ..., 5.4267e-02,\n          2.3438e-09, 2.0578e-02],\n         [2.0668e-02, 2.3595e-02, 2.6678e-02,  ..., 5.2862e-02,\n          6.1635e-09, 1.6644e-02],\n         [8.4011e-03, 1.8184e-02, 2.0417e-02,  ..., 1.6443e-02,\n          1.7011e-09, 4.2853e-02],\n         ...,\n         [1.5492e-05, 7.4546e-03, 1.5715e-01,  ..., 2.6162e-05,\n          1.4576e-11, 7.3393e-05],\n         [9.2018e-05, 1.6536e-04, 1.0531e-03,  ..., 6.5021e-02,\n          6.4394e-12, 7.5865e-04],\n         [4.9044e-04, 3.4801e-02, 2.1611e-02,  ..., 3.3428e-04,\n          6.6554e-11, 1.1776e-03]],\n\n        [[2.0160e-02, 2.4156e-02, 4.8806e-02,  ..., 5.8413e-02,\n          2.0593e-09, 2.0501e-02],\n         [2.1545e-02, 3.2226e-02, 6.1706e-02,  ..., 5.7003e-02,\n          3.5187e-09, 2.5998e-02],\n         [1.0295e-02, 3.4377e-02, 2.8129e-02,  ..., 7.1482e-02,\n          2.0135e-09, 5.2347e-03],\n         ...,\n         [3.9240e-06, 2.2387e-04, 3.2110e-04,  ..., 1.6583e-03,\n          9.2919e-11, 7.7929e-06],\n         [1.7546e-05, 1.4775e-01, 2.4956e-04,  ..., 6.4217e-02,\n          3.8595e-10, 7.5782e-07],\n         [6.5811e-02, 4.9634e-02, 3.5523e-04,  ..., 2.4797e-01,\n          7.1041e-11, 5.1264e-05]]], device='cuda:0') with type <class 'torch.Tensor'> is not a valid JAX type"
     ]
    },
    {
     "data": {
      "image/png": "[encoded data removed]",
      "text/plain": [
       "<Figure size 640x480 with 1 Axes>"
      ]
     },
     "metadata": {},
     "output_type": "display_data"
    }
   ],
   "source": [
    "trainer.validate(task)"
   ]
  },
  {
   "cell_type": "code",
   "execution_count": null,
   "metadata": {},
   "outputs": [],
   "source": []
  }
 ],
 "metadata": {
  "kernelspec": {
   "display_name": "venv",
   "language": "python",
   "name": "python3"
  },
  "language_info": {
   "codemirror_mode": {
    "name": "ipython",
    "version": 3
   },
   "file_extension": ".py",
   "mimetype": "text/x-python",
   "name": "python",
   "nbconvert_exporter": "python",
   "pygments_lexer": "ipython3",
   "version": "3.10.11"
  }
 },
 "nbformat": 4,
 "nbformat_minor": 2
}
