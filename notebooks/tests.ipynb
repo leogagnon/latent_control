{
 "cells": [
  {
   "cell_type": "code",
   "execution_count": null,
   "metadata": {
    "vscode": {
     "languageId": "plaintext"
    }
   },
   "outputs": [],
   "source": [
    "log_like, z_post, partial_messages = data.filter(6144, X)\n",
    "log_like_, z_post_, _ = data.filter(6144, X[50:], partial_messages[49])\n",
    "jnp.abs(z_post[50:] - z_post_).sum(-1).round(3)\n",
    "\n",
    "oracle = data.bayesian_oracle(jnp.arange(len(data)), X)\n",
    "oracle_ = data.bayesian_oracle(jnp.arange(len(data)), X[50:], oracle['messages'][49], oracle[\"log_alpha_post\"][50])\n",
    "jnp.abs(oracle['post_pred'][50:] - oracle_['post_pred']).sum(-1)"
   ]
  }
 ],
 "metadata": {
  "language_info": {
   "name": "python"
  }
 },
 "nbformat": 4,
 "nbformat_minor": 2
}
