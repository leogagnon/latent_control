{
 "cells": [
  {
   "cell_type": "code",
   "execution_count": null,
   "metadata": {},
   "outputs": [
    {
     "name": "stderr",
     "output_type": "stream",
     "text": [
      "/home/mila/l/leo.gagnon/latent_control/venv/lib/python3.10/site-packages/pl_bolts/__init__.py:11: FutureWarning: In the future `np.object` will be defined as the corresponding NumPy scalar.\n",
      "  if not hasattr(numpy, tp_name):\n",
      "/home/mila/l/leo.gagnon/latent_control/venv/lib/python3.10/site-packages/pl_bolts/__init__.py:11: FutureWarning: In the future `np.bool` will be defined as the corresponding NumPy scalar.\n",
      "  if not hasattr(numpy, tp_name):\n",
      "/home/mila/l/leo.gagnon/latent_control/venv/lib/python3.10/site-packages/pl_bolts/models/self_supervised/amdim/amdim_module.py:34: UnderReviewWarning: The feature generate_power_seq is currently marked under review. The compatibility with other Lightning projects is not guaranteed and API may change at any time. The API and functionality may change without warning in future releases. More details: https://lightning-bolts.readthedocs.io/en/latest/stability.html\n",
      "  \"lr_options\": generate_power_seq(LEARNING_RATE_CIFAR, 11),\n",
      "/home/mila/l/leo.gagnon/latent_control/venv/lib/python3.10/site-packages/pl_bolts/models/self_supervised/amdim/amdim_module.py:92: UnderReviewWarning: The feature FeatureMapContrastiveTask is currently marked under review. The compatibility with other Lightning projects is not guaranteed and API may change at any time. The API and functionality may change without warning in future releases. More details: https://lightning-bolts.readthedocs.io/en/latest/stability.html\n",
      "  contrastive_task: Union[FeatureMapContrastiveTask] = FeatureMapContrastiveTask(\"01, 02, 11\"),\n",
      "/home/mila/l/leo.gagnon/latent_control/venv/lib/python3.10/site-packages/pl_bolts/losses/self_supervised_learning.py:228: UnderReviewWarning: The feature AmdimNCELoss is currently marked under review. The compatibility with other Lightning projects is not guaranteed and API may change at any time. The API and functionality may change without warning in future releases. More details: https://lightning-bolts.readthedocs.io/en/latest/stability.html\n",
      "  self.nce_loss = AmdimNCELoss(tclip)\n"
     ]
    }
   ],
   "source": [
    "import sys\n",
    "sys.path.append('/home/mila/l/leo.gagnon/latent_control')\n",
    "\n",
    "%load_ext autoreload\n",
    "%autoreload 2\n",
    "from lightning_modules.diffusion_prior import DiffusionPriorTask\n",
    "import torch\n",
    "import matplotlib.pyplot as plt\n",
    "from data.diffusion import KnownLatentDiffusionDataset, KnownLatentDiffusionDatasetConfig\n",
    "from models.encoder import DiffusionEncoder\n",
    "from torch2jax import j2t, t2j\n",
    "import lightning as L\n",
    "from models.x_transformer import Encoder, ScaledSinusoidalEmbedding\n",
    "from lightning_modules.metalearn import MetaLearningTask\n",
    "import torch.nn as nn\n",
    "from torch.utils.data import random_split, DataLoader\n",
    "from einops import rearrange, repeat"
   ]
  },
  {
   "cell_type": "code",
   "execution_count": 15,
   "metadata": {},
   "outputs": [],
   "source": [
    "class DeterministicEncoder(L.LightningModule):\n",
    "    def __init__(\n",
    "        self, pretrained_id: str, n_embd: int, batch_size: int, val_split: float, lr: float\n",
    "    ):\n",
    "        super().__init__()\n",
    "\n",
    "        self.batch_size = batch_size\n",
    "        self.val_split = val_split\n",
    "        self.lr = lr\n",
    "        self.n_embd = n_embd\n",
    "\n",
    "        self.base_task = MetaLearningTask(pretrained_id)\n",
    "        for param in self.base_task.parameters():\n",
    "            param.requires_grad = False\n",
    "\n",
    "        self.encoder = Encoder(\n",
    "            dim=n_embd,\n",
    "            depth=6,\n",
    "            heads=8,\n",
    "            attn_dropout=0.0,  # dropout post-attention\n",
    "            ff_dropout=0.0,  # feedforward dropout\n",
    "            rel_pos_bias=False,\n",
    "            ff_glu=True,\n",
    "            cross_attend=True\n",
    "        )\n",
    "        self.null_embedding = nn.Embedding(1, n_embd)\n",
    "        #self.out_proj = nn.Linear(n_embd, self.base_task.model.encoder.cfg.n_embd)\n",
    "        self.out_proj = nn.ModuleList([nn.Linear(n_embd, embedding.num_embeddings) for embedding in self.base_task.model.encoder.latent_embedding])\n",
    "        self.seq_conditional_emb = nn.Embedding(\n",
    "                num_embeddings=50,\n",
    "                embedding_dim=n_embd,\n",
    "            )\n",
    "        self.seq_conditional_posemb = ScaledSinusoidalEmbedding(n_embd)\n",
    "        self.norm = nn.LayerNorm(n_embd)\n",
    "\n",
    "    def setup(self, stage):\n",
    "        with torch.no_grad():\n",
    "            self.train_data = KnownLatentDiffusionDataset(\n",
    "                KnownLatentDiffusionDatasetConfig(context_length=[200,200]), self.base_task, None\n",
    "            )\n",
    "\n",
    "            #self.train_data, self.val_data = random_split(\n",
    "            #    dataset, [1 - self.val_split, self.val_split]\n",
    "            #)\n",
    "\n",
    "    def configure_optimizers(self):\n",
    "        opt = torch.optim.AdamW(self.parameters(), lr=self.lr)\n",
    "        return opt\n",
    "\n",
    "    def train_dataloader(self):\n",
    "        return DataLoader(\n",
    "            self.train_data,\n",
    "            batch_size=self.batch_size,\n",
    "            shuffle=True,\n",
    "            collate_fn=lambda x: x,\n",
    "        )\n",
    "\n",
    "    def val_dataloader(self):\n",
    "        return DataLoader(\n",
    "            self.val_data,\n",
    "            batch_size=self.batch_size,\n",
    "            collate_fn=lambda x: x,\n",
    "            shuffle=False,\n",
    "        )\n",
    "\n",
    "    def training_step(self, batch, batch_idx=None):\n",
    "        latent, raw_latent = batch[\"latent\"], batch[\"raw_latent\"]\n",
    "        cond_input_ids = batch[\"cond_input_ids\"]\n",
    "\n",
    "        cond = self.seq_conditional_emb(cond_input_ids)\n",
    "        cond = cond + self.seq_conditional_posemb(cond)\n",
    "\n",
    "        init_emb = repeat(self.null_embedding.weight, \"1 d -> b 1 d\", b=latent.shape[0])\n",
    "\n",
    "        pred = self.encoder(\n",
    "                init_emb,\n",
    "                context=cond,\n",
    "            )\n",
    "        pred = self.norm(pred)\n",
    "        pred = [proj(pred) for proj in self.out_proj]\n",
    "        \n",
    "        loss = sum([nn.functional.cross_entropy(pred[i].squeeze(), raw_latent[:,i]).mean() for i in range(len(pred))])\n",
    "        #loss = torch.mean((pred - latent)**2)\n",
    "\n",
    "        self.log(\n",
    "            \"train/loss\",\n",
    "            loss.detach().cpu().numpy().item(),\n",
    "            prog_bar=True,\n",
    "        )\n",
    "\n",
    "        return loss"
   ]
  },
  {
   "cell_type": "code",
   "execution_count": 16,
   "metadata": {},
   "outputs": [
    {
     "name": "stderr",
     "output_type": "stream",
     "text": [
      "/home/mila/l/leo.gagnon/latent_control/venv/lib/python3.10/site-packages/lightning/fabric/plugins/environments/slurm.py:204: The `srun` command is available on your system but is not used. HINT: If your intention is to run Lightning on SLURM, prepend your python command with `srun` like so: srun python /home/mila/l/leo.gagnon/latent_control/venv/lib/pyth ...\n",
      "GPU available: True (cuda), used: True\n",
      "TPU available: False, using: 0 TPU cores\n",
      "HPU available: False, using: 0 HPUs\n"
     ]
    }
   ],
   "source": [
    "trainer = L.Trainer(\n",
    "        max_steps=10000,\n",
    "        accelerator='gpu',\n",
    "        enable_checkpointing=False,\n",
    "        val_check_interval=100,\n",
    "        reload_dataloaders_every_n_epochs=1,\n",
    "        check_val_every_n_epoch=None,\n",
    "    )"
   ]
  },
  {
   "cell_type": "code",
   "execution_count": 18,
   "metadata": {},
   "outputs": [
    {
     "name": "stdout",
     "output_type": "stream",
     "text": [
      "Loaded dataset : (11288/1000)\n",
      "Loaded checkpoing : last.ckpt\n"
     ]
    }
   ],
   "source": [
    "deterministic_encoder = DeterministicEncoder(\"ekly943l\", 512, 512, 0.1, 1e-4)"
   ]
  },
  {
   "cell_type": "code",
   "execution_count": null,
   "metadata": {},
   "outputs": [
    {
     "name": "stderr",
     "output_type": "stream",
     "text": [
      "/home/mila/l/leo.gagnon/latent_control/venv/lib/python3.10/site-packages/lightning/pytorch/trainer/configuration_validator.py:68: You passed in a `val_dataloader` but have no `validation_step`. Skipping val loop.\n",
      "LOCAL_RANK: 0 - CUDA_VISIBLE_DEVICES: [0]\n",
      "\n",
      "  | Name                   | Type                      | Params | Mode \n",
      "-----------------------------------------------------------------------------\n",
      "0 | base_task              | MetaLearningTask          | 6.3 M  | train\n",
      "1 | encoder                | Encoder                   | 31.5 M | train\n",
      "2 | null_embedding         | Embedding                 | 512    | train\n",
      "3 | out_proj               | ModuleList                | 13.9 K | train\n",
      "4 | seq_conditional_emb    | Embedding                 | 25.6 K | train\n",
      "5 | seq_conditional_posemb | ScaledSinusoidalEmbedding | 1      | train\n",
      "6 | norm                   | LayerNorm                 | 1.0 K  | train\n",
      "-----------------------------------------------------------------------------\n",
      "31.5 M    Trainable params\n",
      "6.3 M     Non-trainable params\n",
      "37.9 M    Total params\n",
      "151.533   Total estimated model params size (MB)\n",
      "372       Modules in train mode\n",
      "0         Modules in eval mode\n",
      "/home/mila/l/leo.gagnon/latent_control/venv/lib/python3.10/site-packages/lightning/pytorch/loops/fit_loop.py:310: The number of training batches (24) is smaller than the logging interval Trainer(log_every_n_steps=50). Set a lower value for log_every_n_steps if you want to see logs for the training epoch.\n"
     ]
    },
    {
     "data": {
      "application/vnd.jupyter.widget-view+json": {
       "model_id": "c887cdcbe8fe46aba49cdbb1a207aa88",
       "version_major": 2,
       "version_minor": 0
      },
      "text/plain": [
       "Training: |          | 0/? [00:00<?, ?it/s]"
      ]
     },
     "metadata": {},
     "output_type": "display_data"
    },
    {
     "name": "stderr",
     "output_type": "stream",
     "text": [
      "/home/mila/l/leo.gagnon/latent_control/data/hmm.py:585: FutureWarning: None encountered in jnp.array(); this is currently treated as NaN. In the future this will result in an error.\n",
      "  intv_envs = jnp.array(intv_envs)\n",
      "/home/mila/l/leo.gagnon/latent_control/data/hmm.py:585: FutureWarning: None encountered in jnp.array(); this is currently treated as NaN. In the future this will result in an error.\n",
      "  intv_envs = jnp.array(intv_envs)\n",
      "/home/mila/l/leo.gagnon/latent_control/venv/lib/python3.10/site-packages/lightning/pytorch/loops/fit_loop.py:310: The number of training batches (24) is smaller than the logging interval Trainer(log_every_n_steps=50). Set a lower value for log_every_n_steps if you want to see logs for the training epoch.\n"
     ]
    }
   ],
   "source": [
    "trainer.fit(deterministic_encoder)"
   ]
  },
  {
   "cell_type": "code",
   "execution_count": 8,
   "metadata": {},
   "outputs": [],
   "source": [
    "deterministic_encoder.cuda();"
   ]
  },
  {
   "cell_type": "code",
   "execution_count": 9,
   "metadata": {},
   "outputs": [
    {
     "name": "stderr",
     "output_type": "stream",
     "text": [
      "/home/mila/l/leo.gagnon/latent_control/data/hmm.py:585: FutureWarning: None encountered in jnp.array(); this is currently treated as NaN. In the future this will result in an error.\n",
      "  intv_envs = jnp.array(intv_envs)\n"
     ]
    }
   ],
   "source": [
    "batch = next(iter(deterministic_encoder.val_dataloader()))"
   ]
  },
  {
   "cell_type": "code",
   "execution_count": 23,
   "metadata": {},
   "outputs": [],
   "source": [
    "raw_latent, latent, cond_input_ids, _ = batch.values()"
   ]
  },
  {
   "cell_type": "code",
   "execution_count": 24,
   "metadata": {},
   "outputs": [],
   "source": [
    "cond = deterministic_encoder.seq_conditional_emb(cond_input_ids)\n",
    "cond = cond + deterministic_encoder.seq_conditional_posemb(cond)\n",
    "\n",
    "init_emb = repeat(deterministic_encoder.null_embedding.weight, \"1 d -> b 1 d\", b=latent.shape[0])\n",
    "\n",
    "pred = deterministic_encoder.encoder(\n",
    "        init_emb,\n",
    "        context=cond,\n",
    "    )\n",
    "pred = deterministic_encoder.norm(pred)\n",
    "pred = deterministic_encoder.out_proj(pred)"
   ]
  },
  {
   "cell_type": "code",
   "execution_count": 32,
   "metadata": {},
   "outputs": [
    {
     "data": {
      "text/plain": [
       "tensor(2.2939, device='cuda:0', grad_fn=<MeanBackward0>)"
      ]
     },
     "execution_count": 32,
     "metadata": {},
     "output_type": "execute_result"
    }
   ],
   "source": [
    "((pred[0,0] - latent[0,0])**2).mean()"
   ]
  },
  {
   "cell_type": "code",
   "execution_count": 29,
   "metadata": {},
   "outputs": [
    {
     "data": {
      "text/plain": [
       "tensor([-6.0948e+00,  5.3547e+00, -4.7328e-01, -1.0948e+00, -7.2440e+00,\n",
       "        -3.7185e+00, -8.8627e-01,  1.1151e+00,  2.3958e+00, -3.4279e-01,\n",
       "        -7.1353e-02,  1.0859e+00,  2.0183e-02, -4.4475e+00, -2.3455e+00,\n",
       "        -5.3475e-01, -3.5062e-01, -2.9890e+00, -1.5294e+00, -1.1318e+00,\n",
       "        -8.6672e-01,  3.8297e+00, -2.5176e+00,  6.8801e-01,  5.6800e-01,\n",
       "         1.1605e+00,  4.4664e+00, -7.4320e+00, -4.0966e+00,  4.2228e+00,\n",
       "         9.6136e-01,  1.1208e-02, -2.0105e+00,  1.8194e+00,  2.0268e+00,\n",
       "        -5.6192e-01, -3.4476e+00,  2.4000e+00, -1.7783e+00,  3.7460e+00,\n",
       "        -1.4226e+00,  6.4360e-01,  6.6819e-01, -8.6129e-01,  1.9548e+00,\n",
       "        -2.9551e+00,  6.7295e-01, -3.8257e+00, -2.9601e+00,  2.5221e+00,\n",
       "        -1.0021e+00,  5.7923e-01,  6.0421e-01,  4.9703e+00,  3.6883e-01,\n",
       "         1.7546e+00, -4.2353e+00,  6.5127e-01,  2.8964e+00,  1.3348e-01,\n",
       "         3.7944e-01, -5.0825e+00, -4.5273e-01,  3.0447e+00,  1.9446e+00,\n",
       "        -1.1596e+00,  3.1885e-01, -3.9824e+00,  5.4020e+00, -1.7357e+00,\n",
       "         1.3126e+00,  1.8898e+00, -5.0362e+00, -3.0554e+00, -5.5497e+00,\n",
       "        -2.7271e+00, -8.6534e-01,  2.2742e-01, -1.2596e+00,  9.8494e-01,\n",
       "         4.5623e+00,  9.0159e-01, -3.9202e+00, -3.3626e+00,  5.8520e+00,\n",
       "        -3.1645e+00,  4.7042e-01,  3.4278e+00,  1.5414e-01, -1.6643e+00,\n",
       "         3.5347e-02, -3.9597e+00, -4.6772e-02,  2.9830e+00,  3.2685e+00,\n",
       "         2.7747e+00,  4.3613e+00,  1.4774e+00,  5.7058e-01,  1.8737e+00,\n",
       "         2.6930e+00, -3.0072e+00, -3.3883e+00, -1.3852e+00,  1.9085e+00,\n",
       "        -3.6277e+00,  2.8657e+00, -2.9894e+00,  1.9029e+00, -5.7058e+00,\n",
       "        -5.5749e+00,  8.7036e-02,  1.1711e+00, -5.7110e+00, -3.1511e-01,\n",
       "         1.0472e+00, -1.2092e+00, -5.0523e+00, -4.1600e+00, -6.3940e-01,\n",
       "        -1.1064e+00, -1.2096e+00, -1.4405e+00, -4.3318e+00, -1.8431e+00,\n",
       "         1.6713e+00,  7.1851e+00,  5.0691e+00, -1.9095e+01,  1.6370e+00,\n",
       "        -1.9337e+00,  3.0391e+00, -3.5339e+00,  1.1745e+00, -1.7957e+00,\n",
       "         5.5170e+00, -4.0971e+00,  6.9630e-02,  1.2957e-01,  2.1726e-02,\n",
       "        -5.6811e-01,  5.4941e-01,  5.2410e-01, -8.0715e-01,  7.4027e-01,\n",
       "        -1.9502e+00, -3.3520e+00, -6.4317e+00, -8.1340e-02,  8.0504e-02,\n",
       "        -4.5873e+00,  1.6443e+00,  2.0789e+00,  1.1690e+00, -2.5043e+00,\n",
       "         2.3778e+00, -2.4078e+00, -1.3609e+00,  1.6192e+00,  3.0474e+00,\n",
       "        -5.5437e-01,  9.3472e-01, -1.5038e+00,  5.6923e+00, -1.3365e+00,\n",
       "         1.3747e+00, -3.9821e-01,  3.6416e+00, -2.4034e-01, -1.3035e+00,\n",
       "        -9.9999e-01, -2.7615e+00, -2.7287e+00,  8.8555e-04, -1.3323e+00,\n",
       "         5.7355e-01, -2.7813e-01,  2.3734e-01,  4.7635e+00, -1.1476e+00,\n",
       "        -2.3089e+00, -9.8830e-02,  6.0691e+00, -1.0039e+00,  8.4864e-01,\n",
       "        -2.4826e-01,  2.8601e-01,  1.5927e+00, -4.0550e+00,  2.8030e+00,\n",
       "         6.3483e-01, -1.7663e+00,  6.3548e-01,  5.5704e-01,  8.7266e-01,\n",
       "         7.9161e-01,  1.6291e+00, -3.2201e+00, -3.8210e+00,  2.9957e+00,\n",
       "        -1.5781e+00, -1.1714e+00, -4.0759e+00, -2.4150e+00, -7.8713e-01,\n",
       "         1.7841e+00,  4.9309e+00,  3.5867e+00, -5.4827e-01, -1.2590e+00,\n",
       "        -2.1963e+00,  8.1411e+00,  6.0068e+00,  2.7876e+00, -8.2146e-01,\n",
       "         6.9969e-01, -3.6846e+00,  6.9954e-01, -3.4248e+00,  2.9212e+00,\n",
       "        -2.4870e+00,  1.9492e+00, -2.2438e+00,  1.5349e+00,  2.2705e+00,\n",
       "         4.0433e+00, -4.7861e+00,  2.6072e+00,  3.4655e+00,  6.2447e+00,\n",
       "         8.1830e-01,  8.5173e-02,  1.5657e+00,  3.2605e+00,  1.0863e+00,\n",
       "         2.2348e+01, -5.6063e+00,  1.5870e+00, -1.1521e+00,  4.4476e+00,\n",
       "        -8.4045e-02, -8.0646e+00, -3.3899e-01,  1.8085e+00,  9.8235e-01,\n",
       "         5.3461e-01, -2.4800e+00,  2.4493e+00,  4.8803e+00,  2.0059e+00,\n",
       "         5.3026e-01,  4.4065e+00,  3.7938e+00,  3.0045e+00, -3.6338e+00,\n",
       "         1.3172e+00], device='cuda:0')"
      ]
     },
     "execution_count": 29,
     "metadata": {},
     "output_type": "execute_result"
    }
   ],
   "source": []
  },
  {
   "cell_type": "code",
   "execution_count": null,
   "metadata": {},
   "outputs": [],
   "source": []
  }
 ],
 "metadata": {
  "kernelspec": {
   "display_name": "venv",
   "language": "python",
   "name": "python3"
  },
  "language_info": {
   "codemirror_mode": {
    "name": "ipython",
    "version": 3
   },
   "file_extension": ".py",
   "mimetype": "text/x-python",
   "name": "python",
   "nbconvert_exporter": "python",
   "pygments_lexer": "ipython3",
   "version": "3.10.11"
  }
 },
 "nbformat": 4,
 "nbformat_minor": 2
}
