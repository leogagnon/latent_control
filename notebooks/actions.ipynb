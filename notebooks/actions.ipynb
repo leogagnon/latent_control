{
 "cells": [
  {
   "cell_type": "code",
   "execution_count": 1,
   "metadata": {},
   "outputs": [],
   "source": [
    "import sys\n",
    "sys.path.append('/home/mila/l/leo.gagnon/latent_control')\n",
    "\n",
    "%load_ext autoreload\n",
    "%autoreload 2\n",
    "from data.hmm import CompositionalHMMDataset\n",
    "from tasks.metalearn import MetaLearningTask\n",
    "import jax\n",
    "import jax.numpy as jnp\n",
    "import jax.random as jr\n",
    "import gymnasium as gym\n",
    "import numpy as np\n",
    "import tensorflow_probability.substrates.jax.distributions as tfd\n",
    "import torch\n",
    "from functools import partial"
   ]
  },
  {
   "cell_type": "code",
   "execution_count": 2,
   "metadata": {},
   "outputs": [
    {
     "name": "stderr",
     "output_type": "stream",
     "text": [
      "/home/mila/l/leo.gagnon/latent_control/venv/lib/python3.10/site-packages/lightning/pytorch/core/saving.py:191: Found keys that are in the model state dict but not in the checkpoint: ['seen_tokens', 'val_latents', 'train_latents']\n"
     ]
    }
   ],
   "source": [
    "implicit_task = MetaLearningTask.load_from_checkpoint(\n",
    "    \"/network/scratch/l/leo.gagnon/latent_control_log/checkpoints/f818u4jn/last.ckpt\", strict=False\n",
    ").cuda()"
   ]
  },
  {
   "cell_type": "code",
   "execution_count": 3,
   "metadata": {},
   "outputs": [],
   "source": [
    "metaenv = CompositionalHMMDataset(implicit_task.full_data.cfg)"
   ]
  },
  {
   "cell_type": "code",
   "execution_count": 4,
   "metadata": {},
   "outputs": [
    {
     "name": "stderr",
     "output_type": "stream",
     "text": [
      "/tmp/ipykernel_1951456/350915153.py:1: FutureWarning: You are using `torch.load` with `weights_only=False` (the current default value), which uses the default pickle module implicitly. It is possible to construct malicious pickle data which will execute arbitrary code during unpickling (See https://github.com/pytorch/pytorch/blob/main/SECURITY.md#untrusted-models for more details). In a future release, the default value for `weights_only` will be flipped to `True`. This limits the functions that could be executed during unpickling. Arbitrary objects will no longer be allowed to be loaded via this mode unless they are explicitly allowlisted by the user via `torch.serialization.add_safe_globals`. We recommend you start setting `weights_only=True` for any use case where you don't have full control of the loaded file. Please open an issue on GitHub for any issues related to this experimental feature.\n",
      "  ckpt = torch.load(\"/network/scratch/l/leo.gagnon/latent_control_log/checkpoints/f818u4jn/last.ckpt\")\n"
     ]
    },
    {
     "data": {
      "text/plain": [
       "Array(True, dtype=bool)"
      ]
     },
     "execution_count": 4,
     "metadata": {},
     "output_type": "execute_result"
    }
   ],
   "source": [
    "ckpt = torch.load(\"/network/scratch/l/leo.gagnon/latent_control_log/checkpoints/f818u4jn/last.ckpt\")\n",
    "jnp.all(metaenv.latent_transmat ==  ckpt['dataset'].latent_transmat)"
   ]
  },
  {
   "cell_type": "code",
   "execution_count": null,
   "metadata": {},
   "outputs": [
    {
     "data": {
      "text/plain": [
       "Array([0., 1., 0., 1., 0., 1., 0., 1., 0., 0., 0., 0., 0., 1., 0., 1., 0.,\n",
       "       0., 1., 1.], dtype=float16)"
      ]
     },
     "execution_count": 828,
     "metadata": {},
     "output_type": "execute_result"
    }
   ],
   "source": [
    "metaenv.get_family_transition(0)"
   ]
  },
  {
   "cell_type": "code",
   "execution_count": 446,
   "metadata": {},
   "outputs": [],
   "source": [
    "@jax.jit\n",
    "def _step_in_cycle_family(family, hmm_index, state, key):\n",
    "    next_state = tfd.Categorical(probs=metaenv.get_family_transition(hmm_index)[family, state]).sample(1, seed=key)\n",
    "    next_obs = tfd.Categorical(probs=metaenv.get_emission(hmm_index)[next_state]).sample(1, seed=key)\n",
    "    return next_state, next_obs\n",
    "\n",
    "# step in a base cycle\n",
    "@jax.jit\n",
    "def _step_in_base_cycle(hmm_index, state, key):\n",
    "    next_state = tfd.Categorical(probs=metaenv.get_base_transition(hmm_index)[state]).sample(1, seed=key)\n",
    "    next_obs = tfd.Categorical(probs=metaenv.get_emission(hmm_index)[next_state]).sample(1, seed=key)\n",
    "    return next_state, next_obs\n",
    "\n",
    "# step in-place\n",
    "@jax.jit\n",
    "def _step_inplace(hmm_index, state, key):\n",
    "    next_state = jnp.array([state])\n",
    "    next_obs = tfd.Categorical(probs=metaenv.get_emission(hmm_index)[next_state]).sample(1, seed=key)\n",
    "    return next_state, next_obs\n",
    "\n",
    "# step in the hmm\n",
    "@jax.jit\n",
    "def _step_default(hmm_index, state, key):\n",
    "    next_state = tfd.Categorical(probs=metaenv.get_transition(hmm_index)[state]).sample(1, seed=key)\n",
    "    next_obs = tfd.Categorical(probs=metaenv.get_emission(hmm_index)[next_state]).sample(1, seed=key)\n",
    "    return next_state, next_obs"
   ]
  },
  {
   "cell_type": "code",
   "execution_count": 123,
   "metadata": {},
   "outputs": [
    {
     "data": {
      "text/plain": [
       "(Array([6], dtype=int32), Array([[24]], dtype=int32))"
      ]
     },
     "execution_count": 123,
     "metadata": {},
     "output_type": "execute_result"
    }
   ],
   "source": [
    "_step_in_base_cycle(0,0,jr.PRNGKey(0))"
   ]
  },
  {
   "cell_type": "code",
   "execution_count": 124,
   "metadata": {},
   "outputs": [
    {
     "data": {
      "text/plain": [
       "(Array([17], dtype=int32), Array([[28]], dtype=int32))"
      ]
     },
     "execution_count": 124,
     "metadata": {},
     "output_type": "execute_result"
    }
   ],
   "source": [
    "_step_default(0,0,jr.PRNGKey(0))"
   ]
  },
  {
   "cell_type": "code",
   "execution_count": 492,
   "metadata": {},
   "outputs": [
    {
     "data": {
      "text/plain": [
       "(Array([3], dtype=int32), Array([[28]], dtype=int32))"
      ]
     },
     "execution_count": 492,
     "metadata": {},
     "output_type": "execute_result"
    }
   ],
   "source": [
    "_step_inplace(2,3,jr.PRNGKey(13))"
   ]
  },
  {
   "cell_type": "code",
   "execution_count": 451,
   "metadata": {},
   "outputs": [],
   "source": [
    "next_state = jnp.array([1])"
   ]
  },
  {
   "cell_type": "code",
   "execution_count": 454,
   "metadata": {},
   "outputs": [
    {
     "data": {
      "text/plain": [
       "Array([5.e-06, 5.e-06, 5.e-06, 5.e-06, 5.e-06, 5.e-06, 5.e-06, 5.e-06,\n",
       "       5.e-06, 5.e-06, 5.e-06, 5.e-06, 5.e-06, 5.e-06, 5.e-06, 5.e-06,\n",
       "       5.e-06, 5.e-06, 5.e-06, 5.e-06, 5.e-06, 5.e-06, 5.e-06, 5.e-06,\n",
       "       5.e-06, 5.e-06, 5.e-06, 5.e-06, 5.e-01, 5.e-06, 5.e-06, 5.e-06,\n",
       "       5.e-06, 5.e-06, 5.e-06, 5.e-06, 5.e-06, 5.e-01, 5.e-06, 5.e-06,\n",
       "       5.e-06, 5.e-06, 5.e-06, 5.e-06, 5.e-06, 5.e-06, 5.e-06, 5.e-06,\n",
       "       5.e-06, 5.e-06], dtype=float16)"
      ]
     },
     "execution_count": 454,
     "metadata": {},
     "output_type": "execute_result"
    }
   ],
   "source": [
    "metaenv.get_emission(0)[0]"
   ]
  },
  {
   "cell_type": "code",
   "execution_count": 490,
   "metadata": {},
   "outputs": [
    {
     "data": {
      "text/plain": [
       "Array([28], dtype=int32)"
      ]
     },
     "execution_count": 490,
     "metadata": {},
     "output_type": "execute_result"
    }
   ],
   "source": [
    "tfd.Categorical(probs=metaenv.get_emission(0)[1]).sample(1, seed=jr.PRNGKey(25))"
   ]
  },
  {
   "cell_type": "code",
   "execution_count": 120,
   "metadata": {},
   "outputs": [
    {
     "data": {
      "text/plain": [
       "(Array([0], dtype=int32), Array([[37]], dtype=int32))"
      ]
     },
     "execution_count": 120,
     "metadata": {},
     "output_type": "execute_result"
    }
   ],
   "source": [
    "partial(_step_in_cycle_family, 0)(0, 0, jr.PRNGKey(3))"
   ]
  },
  {
   "cell_type": "code",
   "execution_count": 126,
   "metadata": {},
   "outputs": [],
   "source": [
    "branches = [_step_default, _step_inplace, _step_in_base_cycle] + [\n",
    "    partial(_step_in_cycle_family, i) for i in range(metaenv.cfg.cycle_families)\n",
    "]"
   ]
  },
  {
   "cell_type": "code",
   "execution_count": 129,
   "metadata": {},
   "outputs": [],
   "source": [
    "states = jnp.array([1,2,3])\n",
    "hmms = jnp.array([123,0,10000])\n",
    "actions = jnp.array([0,1,2])\n",
    "keys = jr.split(jr.PRNGKey(0),3)"
   ]
  },
  {
   "cell_type": "code",
   "execution_count": 133,
   "metadata": {},
   "outputs": [],
   "source": [
    "X,Z = jax.vmap(jax.lax.switch, [0, None, 0, 0, 0])(actions, branches, hmms, states, keys)"
   ]
  },
  {
   "cell_type": "code",
   "execution_count": 580,
   "metadata": {},
   "outputs": [
    {
     "data": {
      "text/plain": [
       "Array([1., 1., 1., 1., 1., 1., 1., 1., 1., 1., 1., 1., 1., 1., 1., 1., 1.,\n",
       "       1., 1., 1.], dtype=float16)"
      ]
     },
     "execution_count": 580,
     "metadata": {},
     "output_type": "execute_result"
    }
   ],
   "source": [
    "env.metaenv.get_transition(0).sum(1)"
   ]
  },
  {
   "cell_type": "code",
   "execution_count": null,
   "metadata": {},
   "outputs": [
    {
     "data": {
      "text/plain": [
       "Array([1., 0., 1., 1., 1., 1., 1., 0., 1., 1., 0., 1., 1., 1., 1., 1., 0.,\n",
       "       0., 1., 1.], dtype=float16)"
      ]
     },
     "execution_count": 590,
     "metadata": {},
     "output_type": "execute_result"
    }
   ],
   "source": []
  },
  {
   "cell_type": "code",
   "execution_count": 592,
   "metadata": {},
   "outputs": [],
   "source": [
    "xd = jnp.fill_diagonal(metaenv.get_family_transition(0)[0], val=(1.0 - metaenv.get_family_transition(0)[0].sum(1)), inplace=False)"
   ]
  },
  {
   "cell_type": "code",
   "execution_count": 594,
   "metadata": {},
   "outputs": [
    {
     "data": {
      "text/plain": [
       "Array([1., 1., 1., 1., 1., 1., 1., 1., 1., 1., 1., 1., 1., 1., 1., 1., 1.,\n",
       "       1., 1., 1.], dtype=float16)"
      ]
     },
     "execution_count": 594,
     "metadata": {},
     "output_type": "execute_result"
    }
   ],
   "source": [
    "xd.sum(1)"
   ]
  },
  {
   "cell_type": "code",
   "execution_count": 810,
   "metadata": {},
   "outputs": [
    {
     "data": {
      "text/plain": [
       "Array(0., dtype=float16)"
      ]
     },
     "execution_count": 810,
     "metadata": {},
     "output_type": "execute_result"
    }
   ],
   "source": [
    "metaenv.family_transmat.sum(0).sum(-1)[0,0][5]"
   ]
  },
  {
   "cell_type": "code",
   "execution_count": 813,
   "metadata": {},
   "outputs": [
    {
     "data": {
      "text/plain": [
       "(1, 1, 1, 4)"
      ]
     },
     "execution_count": 813,
     "metadata": {},
     "output_type": "execute_result"
    }
   ],
   "source": [
    "(1, *([1]*2), 4)"
   ]
  },
  {
   "cell_type": "code",
   "execution_count": 5,
   "metadata": {},
   "outputs": [],
   "source": [
    "class HMMEnv(gym.Env):\n",
    "\n",
    "    def __init__(\n",
    "        self,\n",
    "        metaenv: CompositionalHMMDataset,\n",
    "        ids: jnp.array,\n",
    "        max_length: int,\n",
    "        seed: int,\n",
    "    ) -> None:\n",
    "        super().__init__()\n",
    "        self.metaenv = metaenv\n",
    "        self.ids = ids\n",
    "        self.max_length = max_length\n",
    "        self.seed = seed\n",
    "\n",
    "        self.states: jnp.array\n",
    "\n",
    "        self.action_space = jnp\n",
    "\n",
    "        init_prob = jax.vmap(self.metaenv.get_startprobs)(self.ids)\n",
    "        self.init_prob_dist = tfd.Categorical(probs=init_prob)\n",
    "\n",
    "        self.generator = np.random.default_rng(seed)\n",
    "\n",
    "    def reset(self):\n",
    "        self.states = self.init_prob_dist.sample(\n",
    "            1,\n",
    "            seed=jr.PRNGKey(\n",
    "                self.generator.integers(\n",
    "                    np.iinfo(np.int32).min, np.iinfo(np.int32).max, dtype=np.int32\n",
    "                )\n",
    "            ),\n",
    "        )[0]\n",
    "\n",
    "    # step in a cycle family\n",
    "    @partial(jax.jit, static_argnames=\"self\")\n",
    "    def _step_in_cycle_family(self, family, hmm_index, state, key):    \n",
    "\n",
    "        # Add a self loop when node is not in family\n",
    "        transition = self.metaenv.get_family_transition(hmm_index)[family]\n",
    "        transition = jnp.fill_diagonal(transition, val=(1.0 - transition.sum(1)), inplace=False)  \n",
    "\n",
    "        next_state = tfd.Categorical(\n",
    "            probs=transition[state]\n",
    "        ).sample(1, seed=key)[0]\n",
    "        next_obs = tfd.Categorical(\n",
    "            probs=self.metaenv.get_emission(hmm_index)[next_state]\n",
    "        ).sample(1, seed=key)[0]\n",
    "        return next_state, next_obs\n",
    "\n",
    "    # step in a base cycle\n",
    "    @partial(jax.jit, static_argnames=\"self\")\n",
    "    def _step_in_base_cycle(self, hmm_index, state, key):\n",
    "        next_state = tfd.Categorical(\n",
    "            probs=self.metaenv.get_base_transition(hmm_index)[state]\n",
    "        ).sample(1, seed=key)[0]\n",
    "        next_obs = tfd.Categorical(\n",
    "            probs=self.metaenv.get_emission(hmm_index)[next_state]\n",
    "        ).sample(1, seed=key)[0]\n",
    "        return next_state, next_obs\n",
    "\n",
    "    # step in-place\n",
    "    @partial(jax.jit, static_argnames=\"self\")\n",
    "    def _step_inplace(self, hmm_index, state, key):\n",
    "        next_state = jnp.array([state])[0]\n",
    "        next_obs = tfd.Categorical(\n",
    "            probs=self.metaenv.get_emission(hmm_index)[next_state]\n",
    "        ).sample(1, seed=key)[0]\n",
    "        return next_state, next_obs\n",
    "\n",
    "    # step in the hmm\n",
    "    @partial(jax.jit, static_argnames=\"self\")\n",
    "    def _step_default(self, hmm_index, state, key):\n",
    "        next_state = tfd.Categorical(\n",
    "            probs=self.metaenv.get_transition(hmm_index)[state]\n",
    "        ).sample(1, seed=key)[0]\n",
    "        next_obs = tfd.Categorical(\n",
    "            probs=self.metaenv.get_emission(hmm_index)[next_state]\n",
    "        ).sample(1, seed=key)[0]\n",
    "        return next_state, next_obs\n",
    "\n",
    "    @partial(jax.jit, static_argnames=\"self\")\n",
    "    def _step(self, states, actions, keys):\n",
    "        branches = [\n",
    "            self._step_default,\n",
    "            self._step_inplace,\n",
    "            self._step_in_base_cycle,\n",
    "        ] + [\n",
    "            partial(self._step_in_cycle_family, i)\n",
    "            for i in range(metaenv.cfg.cycle_families)\n",
    "        ]\n",
    "        return jax.vmap(jax.lax.switch, [0, None, 0, 0, 0])(\n",
    "            actions, branches, self.ids, states, keys\n",
    "        )\n",
    "\n",
    "    def step(self, actions: jnp.array):\n",
    "\n",
    "        keys = jr.split(\n",
    "            key=jr.PRNGKey(\n",
    "                self.generator.integers(\n",
    "                    np.iinfo(np.int32).min, np.iinfo(np.int32).max, dtype=np.int32\n",
    "                )\n",
    "            ),\n",
    "            num=len(actions),\n",
    "        )\n",
    "\n",
    "        self.states, obs = self._step(self.states, actions, keys)\n",
    "\n",
    "        return obs"
   ]
  },
  {
   "cell_type": "code",
   "execution_count": 6,
   "metadata": {},
   "outputs": [],
   "source": [
    "env = HMMEnv(metaenv=metaenv, ids=jnp.arange(100), max_length=0, seed=0)\n",
    "env.reset()"
   ]
  },
  {
   "cell_type": "code",
   "execution_count": 60,
   "metadata": {},
   "outputs": [
    {
     "data": {
      "text/plain": [
       "Array([ 7, 12, 13,  5, 19,  3,  8,  5,  1,  1,  8, 11,  5,  9, 13,  8, 17,\n",
       "       19, 12, 16,  5,  6,  8,  5, 13, 19,  2, 19,  5, 17,  4, 18, 12, 14,\n",
       "       17,  4, 10,  4,  6, 13,  0,  7,  5, 19, 13,  7, 17,  6,  1, 17, 19,\n",
       "       14, 18, 17, 10, 17,  3, 11,  2, 18,  0, 17, 10,  7,  4, 18, 16,  0,\n",
       "        1,  8,  1, 12,  1, 15, 10, 15,  9, 18, 16, 15,  7, 10, 15,  7,  4,\n",
       "       14,  8, 14,  6, 10,  9,  2, 15,  3,  8, 15, 10,  3,  2,  6],      dtype=int32)"
      ]
     },
     "execution_count": 60,
     "metadata": {},
     "output_type": "execute_result"
    }
   ],
   "source": [
    "#actions = jr.choice(jr.PRNGKey(np.random.randint(0,100000,)), a=6, shape=(100,))\n",
    "actions = jnp.full(100, 4)\n",
    "obs = env.step(actions)\n",
    "env.states"
   ]
  },
  {
   "cell_type": "code",
   "execution_count": 56,
   "metadata": {},
   "outputs": [
    {
     "data": {
      "text/plain": [
       "Array([ 7, 12, 13,  5, 19,  8,  9,  5,  1,  1,  9, 11,  5,  0, 13,  9,  3,\n",
       "       19, 12, 16,  5,  6,  9,  5, 13, 19,  2, 19,  5,  8,  4, 18, 12, 14,\n",
       "        8,  4, 10,  4,  6, 13,  3,  7,  5, 19, 13,  7,  8,  6,  1,  0, 19,\n",
       "       14, 18,  0, 10,  0, 17, 11,  2, 18,  9,  0, 10,  7,  4, 18, 16,  9,\n",
       "        1,  3,  1, 12,  1, 15, 10, 15,  3, 18, 16, 15,  7, 10, 15,  7,  4,\n",
       "       14, 17, 14,  6, 10,  3,  2, 15,  0, 17, 15, 10,  8,  2,  6],      dtype=int32)"
      ]
     },
     "execution_count": 56,
     "metadata": {},
     "output_type": "execute_result"
    }
   ],
   "source": [
    "env.states"
   ]
  },
  {
   "cell_type": "code",
   "execution_count": 385,
   "metadata": {},
   "outputs": [
    {
     "data": {
      "text/plain": [
       "(Array(6, dtype=int32), Array(41, dtype=int32))"
      ]
     },
     "execution_count": 385,
     "metadata": {},
     "output_type": "execute_result"
    }
   ],
   "source": [
    "env._step_default(0, 0, jr.PRNGKey(np.random.randint(10000)))"
   ]
  },
  {
   "cell_type": "code",
   "execution_count": null,
   "metadata": {},
   "outputs": [],
   "source": []
  }
 ],
 "metadata": {
  "kernelspec": {
   "display_name": "venv",
   "language": "python",
   "name": "python3"
  },
  "language_info": {
   "codemirror_mode": {
    "name": "ipython",
    "version": 3
   },
   "file_extension": ".py",
   "mimetype": "text/x-python",
   "name": "python",
   "nbconvert_exporter": "python",
   "pygments_lexer": "ipython3",
   "version": "3.10.11"
  }
 },
 "nbformat": 4,
 "nbformat_minor": 2
}
