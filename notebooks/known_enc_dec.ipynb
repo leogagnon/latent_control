{
 "cells": [
  {
   "cell_type": "code",
   "execution_count": 1,
   "metadata": {},
   "outputs": [
    {
     "name": "stderr",
     "output_type": "stream",
     "text": [
      "/home/mila/l/leo.gagnon/latent_control/venv/lib/python3.10/site-packages/pl_bolts/__init__.py:11: FutureWarning: In the future `np.object` will be defined as the corresponding NumPy scalar.\n",
      "  if not hasattr(numpy, tp_name):\n",
      "/home/mila/l/leo.gagnon/latent_control/venv/lib/python3.10/site-packages/pl_bolts/__init__.py:11: FutureWarning: In the future `np.bool` will be defined as the corresponding NumPy scalar.\n",
      "  if not hasattr(numpy, tp_name):\n",
      "/home/mila/l/leo.gagnon/latent_control/venv/lib/python3.10/site-packages/pl_bolts/models/self_supervised/amdim/amdim_module.py:34: UnderReviewWarning: The feature generate_power_seq is currently marked under review. The compatibility with other Lightning projects is not guaranteed and API may change at any time. The API and functionality may change without warning in future releases. More details: https://lightning-bolts.readthedocs.io/en/latest/stability.html\n",
      "  \"lr_options\": generate_power_seq(LEARNING_RATE_CIFAR, 11),\n",
      "/home/mila/l/leo.gagnon/latent_control/venv/lib/python3.10/site-packages/pl_bolts/models/self_supervised/amdim/amdim_module.py:92: UnderReviewWarning: The feature FeatureMapContrastiveTask is currently marked under review. The compatibility with other Lightning projects is not guaranteed and API may change at any time. The API and functionality may change without warning in future releases. More details: https://lightning-bolts.readthedocs.io/en/latest/stability.html\n",
      "  contrastive_task: Union[FeatureMapContrastiveTask] = FeatureMapContrastiveTask(\"01, 02, 11\"),\n",
      "/home/mila/l/leo.gagnon/latent_control/venv/lib/python3.10/site-packages/pl_bolts/losses/self_supervised_learning.py:228: UnderReviewWarning: The feature AmdimNCELoss is currently marked under review. The compatibility with other Lightning projects is not guaranteed and API may change at any time. The API and functionality may change without warning in future releases. More details: https://lightning-bolts.readthedocs.io/en/latest/stability.html\n",
      "  self.nce_loss = AmdimNCELoss(tclip)\n"
     ]
    }
   ],
   "source": [
    "import sys\n",
    "sys.path.append('/home/mila/l/leo.gagnon/latent_control')\n",
    "\n",
    "%load_ext autoreload\n",
    "%autoreload 2\n",
    "from tasks.dsm_diffusion import DSMDiffusion\n",
    "import torch\n",
    "import matplotlib.pyplot as plt\n",
    "from data.diffusion import LatentDiffusionDataset, KnownEncoderDiffusionDataset, GRUDiffusionDataset\n",
    "from data.hmm import CompositionalHMMDataset\n",
    "from torch2jax import j2t, t2j\n",
    "import jax.numpy as jnp\n",
    "import jax\n",
    "from jax.scipy.special import rel_entr\n",
    "from einops import repeat, rearrange\n",
    "from models.encoder import KnownEncoder\n",
    "from models.decoder import TransformerDecoder\n",
    "from tqdm import tqdm\n",
    "from tasks.metalearn import MetaLearningTask\n",
    "import torch.nn as nn\n",
    "import pandas as pd\n",
    "import seaborn as sns"
   ]
  },
  {
   "cell_type": "code",
   "execution_count": 2,
   "metadata": {},
   "outputs": [
    {
     "name": "stderr",
     "output_type": "stream",
     "text": [
      "/home/mila/l/leo.gagnon/latent_control/venv/lib/python3.10/site-packages/lightning/pytorch/core/saving.py:191: Found keys that are in the model state dict but not in the checkpoint: ['seen_tokens', 'val_latents', 'train_latents', 'model.decoder.no_ctx_emb']\n",
      "/home/mila/l/leo.gagnon/latent_control/venv/lib/python3.10/site-packages/lightning/pytorch/core/saving.py:191: Found keys that are in the model state dict but not in the checkpoint: ['seen_tokens', 'val_latents', 'train_latents', 'model.decoder.no_ctx_emb']\n",
      "/home/mila/l/leo.gagnon/latent_control/venv/lib/python3.10/site-packages/lightning/pytorch/core/saving.py:191: Found keys that are in the model state dict but not in the checkpoint: ['seen_tokens', 'val_latents', 'train_latents', 'model.decoder.no_ctx_emb']\n",
      "/home/mila/l/leo.gagnon/latent_control/venv/lib/python3.10/site-packages/lightning/pytorch/core/saving.py:191: Found keys that are in the model state dict but not in the checkpoint: ['full_data.base_task.model.decoder.no_ctx_emb', 'full_data.pretrained_embedding.no_ctx_emb', 'train_data.base_task.model.decoder.no_ctx_emb', 'train_data.pretrained_embedding.no_ctx_emb']\n"
     ]
    }
   ],
   "source": [
    "task = DSMDiffusion.load_from_checkpoint(\n",
    "    \"/network/scratch/l/leo.gagnon/latent_control_log/checkpoints/22zbjlpa/last.ckpt\", strict=False\n",
    ")\n",
    "dataset = task.full_data.base_task.full_data\n",
    "dataset: KnownEncoderDiffusionDataset"
   ]
  },
  {
   "cell_type": "code",
   "execution_count": 3,
   "metadata": {},
   "outputs": [],
   "source": [
    "N_SEQS = 50\n",
    "N_SAMPLES = 20\n",
    "MAX_LEN = 30"
   ]
  },
  {
   "cell_type": "code",
   "execution_count": 4,
   "metadata": {},
   "outputs": [
    {
     "name": "stderr",
     "output_type": "stream",
     "text": [
      "/home/mila/l/leo.gagnon/latent_control/data/hmm.py:599: FutureWarning: None encountered in jnp.array(); this is currently treated as NaN. In the future this will result in an error.\n",
      "  intv_envs = jnp.array(intv_envs)\n",
      "/home/mila/l/leo.gagnon/latent_control/venv/lib/python3.10/site-packages/jax/_src/numpy/lax_numpy.py:4252: FutureWarning: None encountered in jnp.array(); this is currently treated as NaN. In the future this will result in an error.\n",
      "  return array(a, dtype=dtype, copy=bool(copy), order=order, device=device)\n"
     ]
    }
   ],
   "source": [
    "hmms = torch.randperm(len(dataset))[:N_SEQS]\n",
    "\n",
    "batch = dataset.__getitems__(hmms, length=30)"
   ]
  },
  {
   "cell_type": "code",
   "execution_count": 5,
   "metadata": {},
   "outputs": [],
   "source": [
    "# Compute the bayesian posterior predictive\n",
    "oracle_pred = torch.zeros(N_SEQS, MAX_LEN, 50)\n",
    "for j in range(len(hmms)):\n",
    "    oracle_pred[j] = torch.Tensor(\n",
    "        dataset.bayesian_oracle(\n",
    "            jnp.arange(len(task.full_data.base_task.full_data)),\n",
    "            t2j(batch['input_ids'])[j]\n",
    "        )[\"post_pred\"][1:].tolist()\n",
    "    ).cpu()"
   ]
  },
  {
   "cell_type": "code",
   "execution_count": 6,
   "metadata": {},
   "outputs": [
    {
     "name": "stderr",
     "output_type": "stream",
     "text": [
      "100%|██████████| 50/50 [00:09<00:00,  5.28it/s]\n"
     ]
    }
   ],
   "source": [
    "explicit_pred = torch.zeros(N_SEQS, MAX_LEN, 50)\n",
    "\n",
    "for j in tqdm(range(N_SEQS)):\n",
    "    hmm_post = jnp.exp(\n",
    "        dataset.bayesian_oracle(\n",
    "            jnp.arange(len(task.full_data.base_task.full_data)),\n",
    "            t2j(batch[\"input_ids\"])[j],\n",
    "        )[\"log_alpha_post\"][1:]\n",
    "    )\n",
    "    hmm_post = j2t(hmm_post)\n",
    "\n",
    "    for i in range(1, MAX_LEN + 1):\n",
    "\n",
    "        # Sample HMMs from the oracle's posterior\n",
    "        sampled_hmms = t2j(torch.distributions.categorical.Categorical(\n",
    "            probs=hmm_post[i-1]\n",
    "        ).sample((N_SAMPLES,)))\n",
    "\n",
    "        # Oracle decoder\n",
    "        post_pred = jax.vmap(dataset.bayesian_oracle, [0, None])(\n",
    "            sampled_hmms[:, None], t2j(batch[\"input_ids\"])[j]\n",
    "        )[\"post_pred\"][:, i].mean(0)\n",
    "\n",
    "        explicit_pred[j, i-1] = j2t(post_pred)"
   ]
  },
  {
   "cell_type": "code",
   "execution_count": 7,
   "metadata": {},
   "outputs": [],
   "source": [
    "def KLDiv(p,q):\n",
    "    return torch.sum(p * (p.log() - q.log()), -1)\n",
    "\n",
    "explicit_kl_b = KLDiv(explicit_pred, oracle_pred)\n",
    "explicit_kl_f = KLDiv(oracle_pred, explicit_pred)"
   ]
  },
  {
   "cell_type": "code",
   "execution_count": 8,
   "metadata": {},
   "outputs": [
    {
     "data": {
      "text/plain": [
       "<matplotlib.legend.Legend at 0x7fe409cdae00>"
      ]
     },
     "execution_count": 8,
     "metadata": {},
     "output_type": "execute_result"
    },
    {
     "data": {
      "image/png": "[encoded data removed]",
      "text/plain": [
       "<Figure size 640x480 with 1 Axes>"
      ]
     },
     "metadata": {},
     "output_type": "display_data"
    }
   ],
   "source": [
    "plt.plot(explicit_kl_b.mean(0) , label='Explicit backward', color='blue',linestyle='--')\n",
    "plt.plot(explicit_kl_f.mean(0) , label='Explicit forward', color='green',linestyle='--')\n",
    "plt.legend()"
   ]
  },
  {
   "cell_type": "code",
   "execution_count": null,
   "metadata": {},
   "outputs": [],
   "source": []
  }
 ],
 "metadata": {
  "kernelspec": {
   "display_name": "venv",
   "language": "python",
   "name": "python3"
  },
  "language_info": {
   "codemirror_mode": {
    "name": "ipython",
    "version": 3
   },
   "file_extension": ".py",
   "mimetype": "text/x-python",
   "name": "python",
   "nbconvert_exporter": "python",
   "pygments_lexer": "ipython3",
   "version": "3.10.11"
  }
 },
 "nbformat": 4,
 "nbformat_minor": 2
}
