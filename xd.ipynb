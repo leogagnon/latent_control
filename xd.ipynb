{
 "cells": [
  {
   "cell_type": "code",
   "execution_count": 15,
   "id": "b99fa9cc",
   "metadata": {},
   "outputs": [
    {
     "name": "stdout",
     "output_type": "stream",
     "text": [
      "allo\n"
     ]
    }
   ],
   "source": [
    "with open('xd.txt', 'r') as file:\n",
    "    content = file.read().strip() #ads the entire file content\n",
    "    print(content)"
   ]
  },
  {
   "cell_type": "code",
   "execution_count": 1,
   "id": "14e240e1",
   "metadata": {},
   "outputs": [],
   "source": [
    "import os"
   ]
  },
  {
   "cell_type": "code",
   "execution_count": 6,
   "id": "775c9a15",
   "metadata": {},
   "outputs": [
    {
     "data": {
      "text/plain": [
       "''"
      ]
     },
     "execution_count": 6,
     "metadata": {},
     "output_type": "execute_result"
    }
   ],
   "source": [
    "'' + ''"
   ]
  },
  {
   "cell_type": "code",
   "execution_count": 5,
   "id": "b7e2a949",
   "metadata": {},
   "outputs": [
    {
     "data": {
      "text/plain": [
       "'xd'"
      ]
     },
     "execution_count": 5,
     "metadata": {},
     "output_type": "execute_result"
    }
   ],
   "source": [
    "'xd' + os.environ.get(\"SLURM_ARRAY_TASK_ID\", default='')"
   ]
  },
  {
   "cell_type": "code",
   "execution_count": 14,
   "id": "6d6e6dc9",
   "metadata": {},
   "outputs": [
    {
     "data": {
      "text/plain": [
       "'allo\\n'"
      ]
     },
     "execution_count": 14,
     "metadata": {},
     "output_type": "execute_result"
    }
   ],
   "source": [
    "content"
   ]
  },
  {
   "cell_type": "code",
   "execution_count": 1,
   "id": "bcd31558",
   "metadata": {},
   "outputs": [
    {
     "name": "stdout",
     "output_type": "stream",
     "text": [
      "Run name: GRU tsf\n",
      "State: running\n",
      "Config: {'seed': 15, 'task': {'dsm': {'lr': 0.0001, 'loss': 'l2', 'model': {'n_embd': 512, 'dropout': 0, 'n_heads': 8, 'gfn_clip': None, 'langevin': False, 'lgv_clip': None, 'n_layers': 8, 'num_classes': 0, 'scale_shift': True, 'latent_shape': [6, 384], 'adalnzero_cond': False, 'self_condition': False, 'cond_modulation': True, 'seq_conditional': True, 'learned_variance': False, 'class_conditional': False, 'cond_encoder_kwargs': {'n_heads': 8, 'n_layers': 3, 'vocab_size': None}, 'seq_conditional_dim': 256, 'train_prob_self_cond': 0.5, 'seq_unconditional_prob': 0, 'class_unconditional_prob': 0.1}, 'dataset': {'_target_': 'data.diffusion.GRUDiffusionDatasetConfig', 'cond_hidden': False, 'suffix_size': [1, 30], 'context_length': [200, 200], 'pretrained_embedding': True, 'pretrained_embedding_id': 'f818u4jn'}, 'sampler': 'ddpm', 'val_split': 0.1, 'batch_size': 512, 'lr_scheduler': False, 'pretrained_id': '3xykj5li', 'schedule_scale': 1, 'train_schedule': 'cosine', 'normalize_latent': False, 'sampling_schedule': None, 'sampling_timesteps': 250, 'diffusion_objective': 'pred_v'}, 'gfn': None, 'direct': None, 'metalearn': None}, 'logger': {'tags': ['dsm', 'leo.gagnon'], 'entity': 'guillaume-lajoie', 'offline': False, 'project': 'latent_control', '_target_': 'lightning.pytorch.loggers.WandbLogger', 'save_dir': '/network/scratch/l/leo.gagnon/latent_control_log'}, 'log_dir': '/network/scratch/l/leo.gagnon/latent_control_log', 'sweep_id': None, 'max_steps': 1000000, 'accelerator': 'gpu', 'early_stopping': None, 'model_checkpoint': {'mode': 'max', 'dirpath': '/network/scratch/l/leo.gagnon/latent_control_log/checkpoints/4iwq4fpy', 'monitor': 'step', '_target_': 'lightning.pytorch.callbacks.ModelCheckpoint', 'filename': '{epoch:03d},{step:03d}', 'save_last': 'link', 'save_top_k': 1, 'every_n_train_steps': 250, 'auto_insert_metric_name': True}, 'gradient_clip_val': 1, 'val_check_interval': 500}\n",
      "Summary: {'_runtime': 61622.297743769, '_step': 1147, '_timestamp': 1744292834.7229042, '_wandb': {'runtime': 61622}, 'epoch': 2172, 'train/loss': 0.2233274877071381, 'trainer/global_step': 52149, 'val/loss': 0.2247490435838699, 'val/pw_dist': 0.4542642533779144}\n",
      "Tags: ['dsm', 'leo.gagnon']\n",
      "Created at: 2025-04-09T20:40:12Z\n"
     ]
    }
   ],
   "source": [
    "import wandb\n",
    "\n",
    "# Initialize the public or private API\n",
    "api = wandb.Api()\n",
    "\n",
    "# If your project is in a specific entity (e.g., your username or team), include it:\n",
    "entity = \"guillaume-lajoie\"       # e.g., your wandb username or team\n",
    "project = \"latent_control\"     # the wandb project name\n",
    "run_id = \"4iwq4fpy\"         # wandb run ID\n",
    "\n",
    "# Get the run\n",
    "run = api.run(f\"{entity}/{project}/{run_id}\")\n",
    "\n",
    "# Now you can access metadata:\n",
    "print(\"Run name:\", run.name)\n",
    "print(\"State:\", run.state)  # e.g., \"finished\", \"running\", \"crashed\"\n",
    "print(\"Config:\", run.config)\n",
    "print(\"Summary:\", run.summary)\n",
    "print(\"Tags:\", run.tags)\n",
    "print(\"Created at:\", run.created_at)"
   ]
  },
  {
   "cell_type": "code",
   "execution_count": 2,
   "id": "6ad11b70",
   "metadata": {},
   "outputs": [
    {
     "data": {
      "text/plain": [
       "{'tags': ['dsm', 'leo.gagnon'],\n",
       " 'entity': 'guillaume-lajoie',\n",
       " 'offline': False,\n",
       " 'project': 'latent_control',\n",
       " '_target_': 'lightning.pytorch.loggers.WandbLogger',\n",
       " 'save_dir': '/network/scratch/l/leo.gagnon/latent_control_log'}"
      ]
     },
     "execution_count": 2,
     "metadata": {},
     "output_type": "execute_result"
    }
   ],
   "source": [
    "run.config['logger']"
   ]
  },
  {
   "cell_type": "code",
   "execution_count": null,
   "id": "8053bf54",
   "metadata": {},
   "outputs": [],
   "source": []
  }
 ],
 "metadata": {
  "kernelspec": {
   "display_name": "venv",
   "language": "python",
   "name": "python3"
  },
  "language_info": {
   "codemirror_mode": {
    "name": "ipython",
    "version": 3
   },
   "file_extension": ".py",
   "mimetype": "text/x-python",
   "name": "python",
   "nbconvert_exporter": "python",
   "pygments_lexer": "ipython3",
   "version": "3.10.11"
  }
 },
 "nbformat": 4,
 "nbformat_minor": 5
}
